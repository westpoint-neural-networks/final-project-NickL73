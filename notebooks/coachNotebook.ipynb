{
  "nbformat": 4,
  "nbformat_minor": 0,
  "metadata": {
    "colab": {
      "name": "coachNotebook.ipynb",
      "provenance": [],
      "collapsed_sections": [],
      "toc_visible": true
    },
    "kernelspec": {
      "name": "python3",
      "display_name": "Python 3"
    }
  },
  "cells": [
    {
      "cell_type": "markdown",
      "metadata": {
        "id": "DgZnSk7s4Cv1",
        "colab_type": "text"
      },
      "source": [
        "# Ahead of the Game: Coaching Predictability in NCAA Football\n",
        "\n",
        "This notebook is Part I in a series that seeks to model the predictability of offenseive playcallers in the NCAA FBS football league. While this idea could be practically applied to any offensive playcaller in the game, we will use Lincoln Riley, the head coach of the Oklahoma Sooners, as a singular case study.\n",
        "\n",
        "![](https://bloximages.newyork1.vip.townnews.com/oudaily.com/content/tncms/assets/v3/editorial/3/18/3188a808-1922-11ea-988f-473c9fa86f91/5debf40bd8b17.image.jpg?resize=400%2C267)\n",
        "\n",
        "Lincoln Riley is known for being an exceptionally talented playcaller, but is he as unpredicatable as analysts make him out to be? We will find out through the course of this notebook.\n",
        "\n",
        "**NOTE: This notebook is meant to be used in [Google Colaboratory](https://colab.research.google.com). The instructions will assume as much, and may not be accurate if you're using a different platform.**\n",
        "\n",
        "Ok, let's begin. Start by importing the required modules and setting a random seed. This random seed let's us have reproducible results. The seeding function has been buggy for me, so please excuse if the numbers and plots I describe don't match the outputs of all the cells."
      ]
    },
    {
      "cell_type": "code",
      "metadata": {
        "id": "6D1D1RlKcG4G",
        "colab_type": "code",
        "colab": {}
      },
      "source": [
        "from numpy.random import seed\n",
        "import random\n",
        "\n",
        "seed(485)\n",
        "random.seed(485)"
      ],
      "execution_count": 0,
      "outputs": []
    },
    {
      "cell_type": "code",
      "metadata": {
        "id": "apZ5EmTBvCxE",
        "colab_type": "code",
        "colab": {}
      },
      "source": [
        "import pandas as pd\n",
        "import numpy as np\n",
        "import tensorflow"
      ],
      "execution_count": 0,
      "outputs": []
    },
    {
      "cell_type": "markdown",
      "metadata": {
        "id": "jbkoSAwQ6Rwz",
        "colab_type": "text"
      },
      "source": [
        "## Preparing our Data\n",
        "\n",
        "The data we will be using was scraped from [collegefootballdata.com](https://www.collegefootballdata.com)\n",
        "\n",
        "Since we are using Lincoln Riley as our case study, it consists of (presumably) every play that Lincoln Riley called as either an offensive coordinator or head coach during his tenures at Eastern Carolina and Oklahoma."
      ]
    },
    {
      "cell_type": "markdown",
      "metadata": {
        "id": "fLfWrWmH6_bW",
        "colab_type": "text"
      },
      "source": [
        "First, import the data. To do this on Google Colab, you will first need to download the \"coachingData.csv\" from the models folder in the [GitHub repository](https://github.com/westpoint-neural-networks/final-project-NickL73). Next, you will need to click on the folder icon on the toolbar to the left of Google Colab and upload the dataset.\n",
        "\n",
        "Once you have done that, load it into a Pandas dataframe and we'll inspect the data."
      ]
    },
    {
      "cell_type": "code",
      "metadata": {
        "id": "15OBpS2NwChs",
        "colab_type": "code",
        "outputId": "b5e24315-b9d7-47ce-9331-824dc4e96cfe",
        "colab": {
          "base_uri": "https://localhost:8080/",
          "height": 424
        }
      },
      "source": [
        "df = pd.read_csv('/content/coachingData.csv')\n",
        "df"
      ],
      "execution_count": 0,
      "outputs": [
        {
          "output_type": "execute_result",
          "data": {
            "text/html": [
              "<div>\n",
              "<style scoped>\n",
              "    .dataframe tbody tr th:only-of-type {\n",
              "        vertical-align: middle;\n",
              "    }\n",
              "\n",
              "    .dataframe tbody tr th {\n",
              "        vertical-align: top;\n",
              "    }\n",
              "\n",
              "    .dataframe thead th {\n",
              "        text-align: right;\n",
              "    }\n",
              "</style>\n",
              "<table border=\"1\" class=\"dataframe\">\n",
              "  <thead>\n",
              "    <tr style=\"text-align: right;\">\n",
              "      <th></th>\n",
              "      <th>score_differential</th>\n",
              "      <th>oneScoreGame</th>\n",
              "      <th>period</th>\n",
              "      <th>seconds_remaining</th>\n",
              "      <th>secondsInHalf</th>\n",
              "      <th>yardsToGoal</th>\n",
              "      <th>down</th>\n",
              "      <th>distance</th>\n",
              "      <th>play_type</th>\n",
              "    </tr>\n",
              "  </thead>\n",
              "  <tbody>\n",
              "    <tr>\n",
              "      <th>0</th>\n",
              "      <td>7</td>\n",
              "      <td>True</td>\n",
              "      <td>2</td>\n",
              "      <td>1870</td>\n",
              "      <td>70</td>\n",
              "      <td>93</td>\n",
              "      <td>1</td>\n",
              "      <td>10</td>\n",
              "      <td>Pass</td>\n",
              "    </tr>\n",
              "    <tr>\n",
              "      <th>1</th>\n",
              "      <td>0</td>\n",
              "      <td>True</td>\n",
              "      <td>1</td>\n",
              "      <td>3368</td>\n",
              "      <td>1568</td>\n",
              "      <td>92</td>\n",
              "      <td>2</td>\n",
              "      <td>6</td>\n",
              "      <td>Pass</td>\n",
              "    </tr>\n",
              "    <tr>\n",
              "      <th>2</th>\n",
              "      <td>0</td>\n",
              "      <td>True</td>\n",
              "      <td>2</td>\n",
              "      <td>2470</td>\n",
              "      <td>670</td>\n",
              "      <td>90</td>\n",
              "      <td>1</td>\n",
              "      <td>10</td>\n",
              "      <td>Pass</td>\n",
              "    </tr>\n",
              "    <tr>\n",
              "      <th>3</th>\n",
              "      <td>8</td>\n",
              "      <td>False</td>\n",
              "      <td>1</td>\n",
              "      <td>2812</td>\n",
              "      <td>1012</td>\n",
              "      <td>87</td>\n",
              "      <td>1</td>\n",
              "      <td>20</td>\n",
              "      <td>Pass</td>\n",
              "    </tr>\n",
              "    <tr>\n",
              "      <th>4</th>\n",
              "      <td>-8</td>\n",
              "      <td>False</td>\n",
              "      <td>2</td>\n",
              "      <td>2258</td>\n",
              "      <td>458</td>\n",
              "      <td>87</td>\n",
              "      <td>1</td>\n",
              "      <td>10</td>\n",
              "      <td>Pass</td>\n",
              "    </tr>\n",
              "    <tr>\n",
              "      <th>...</th>\n",
              "      <td>...</td>\n",
              "      <td>...</td>\n",
              "      <td>...</td>\n",
              "      <td>...</td>\n",
              "      <td>...</td>\n",
              "      <td>...</td>\n",
              "      <td>...</td>\n",
              "      <td>...</td>\n",
              "      <td>...</td>\n",
              "    </tr>\n",
              "    <tr>\n",
              "      <th>9506</th>\n",
              "      <td>27</td>\n",
              "      <td>False</td>\n",
              "      <td>2</td>\n",
              "      <td>1861</td>\n",
              "      <td>61</td>\n",
              "      <td>1</td>\n",
              "      <td>1</td>\n",
              "      <td>1</td>\n",
              "      <td>Rush</td>\n",
              "    </tr>\n",
              "    <tr>\n",
              "      <th>9507</th>\n",
              "      <td>34</td>\n",
              "      <td>False</td>\n",
              "      <td>4</td>\n",
              "      <td>375</td>\n",
              "      <td>375</td>\n",
              "      <td>1</td>\n",
              "      <td>3</td>\n",
              "      <td>1</td>\n",
              "      <td>Rush</td>\n",
              "    </tr>\n",
              "    <tr>\n",
              "      <th>9508</th>\n",
              "      <td>42</td>\n",
              "      <td>False</td>\n",
              "      <td>3</td>\n",
              "      <td>1563</td>\n",
              "      <td>1563</td>\n",
              "      <td>1</td>\n",
              "      <td>2</td>\n",
              "      <td>1</td>\n",
              "      <td>Rush</td>\n",
              "    </tr>\n",
              "    <tr>\n",
              "      <th>9509</th>\n",
              "      <td>7</td>\n",
              "      <td>True</td>\n",
              "      <td>1</td>\n",
              "      <td>3387</td>\n",
              "      <td>1587</td>\n",
              "      <td>1</td>\n",
              "      <td>3</td>\n",
              "      <td>1</td>\n",
              "      <td>Rush</td>\n",
              "    </tr>\n",
              "    <tr>\n",
              "      <th>9510</th>\n",
              "      <td>14</td>\n",
              "      <td>False</td>\n",
              "      <td>1</td>\n",
              "      <td>3014</td>\n",
              "      <td>1214</td>\n",
              "      <td>1</td>\n",
              "      <td>1</td>\n",
              "      <td>1</td>\n",
              "      <td>Rush</td>\n",
              "    </tr>\n",
              "  </tbody>\n",
              "</table>\n",
              "<p>9511 rows × 9 columns</p>\n",
              "</div>"
            ],
            "text/plain": [
              "      score_differential  oneScoreGame  period  ...  down  distance  play_type\n",
              "0                      7          True       2  ...     1        10       Pass\n",
              "1                      0          True       1  ...     2         6       Pass\n",
              "2                      0          True       2  ...     1        10       Pass\n",
              "3                      8         False       1  ...     1        20       Pass\n",
              "4                     -8         False       2  ...     1        10       Pass\n",
              "...                  ...           ...     ...  ...   ...       ...        ...\n",
              "9506                  27         False       2  ...     1         1       Rush\n",
              "9507                  34         False       4  ...     3         1       Rush\n",
              "9508                  42         False       3  ...     2         1       Rush\n",
              "9509                   7          True       1  ...     3         1       Rush\n",
              "9510                  14         False       1  ...     1         1       Rush\n",
              "\n",
              "[9511 rows x 9 columns]"
            ]
          },
          "metadata": {
            "tags": []
          },
          "execution_count": 3
        }
      ]
    },
    {
      "cell_type": "markdown",
      "metadata": {
        "id": "1jZfiNtx8DiS",
        "colab_type": "text"
      },
      "source": [
        "You'll notice that the data comes with some nice work already done to it. Before loading the CSV, we conducted some feature cleaning and feature engineering to get the best possible set of features for use in our network. In general, these features are derived from the information that could be found on a scoreboard. You'll notice our target feature, **play_type**, is the last column in the DataFrame. This will be the what we eventually try to predict.\n",
        "\n",
        "\n",
        "Now that we have our data in a Pandas data frame, we're going to start preparing it for use in a neural network. The first step we will take will be to formally define our target values (the play type) and input values (the scoreboard information) by [indexing](https://pandas.pydata.org/pandas-docs/stable/reference/api/pandas.DataFrame.iloc.html) our dataframe.\n"
      ]
    },
    {
      "cell_type": "code",
      "metadata": {
        "id": "ahSpeEIvxjI-",
        "colab_type": "code",
        "colab": {}
      },
      "source": [
        "X = df.iloc[:,0:8]\n",
        "y = df.iloc[:,8]"
      ],
      "execution_count": 0,
      "outputs": []
    },
    {
      "cell_type": "markdown",
      "metadata": {
        "id": "FF-QHhq2DFvi",
        "colab_type": "text"
      },
      "source": [
        "### Vectorizing the Data\n",
        "\n",
        "For use in a neural network, each piece of data must be interpretable by a machine. This means things like our values of \"True\" and \"False\", as well as our target values of \"Rush\" and \"Pass\", must be converted into some number. To do this, we will simply binarize the data."
      ]
    },
    {
      "cell_type": "code",
      "metadata": {
        "id": "PXxUFb16DtPa",
        "colab_type": "code",
        "colab": {}
      },
      "source": [
        "X = X.replace({True:1, False:0})\n",
        "y = y.replace({'Rush':0, 'Pass':1})"
      ],
      "execution_count": 0,
      "outputs": []
    },
    {
      "cell_type": "markdown",
      "metadata": {
        "id": "V9oiyZIgDwhv",
        "colab_type": "text"
      },
      "source": [
        "Additionally, since we want to predict a specific binary category of play_type, we will use the built-in Keras utility **to_categorical** to automatically create two seperate targets that the model can \"choose\" between when making predictions. We can see what this looks like be executing the next block of code."
      ]
    },
    {
      "cell_type": "code",
      "metadata": {
        "id": "7FlStfi06Ksg",
        "colab_type": "code",
        "outputId": "0919730a-ea11-4a1a-be4d-ba739962db9b",
        "colab": {
          "base_uri": "https://localhost:8080/",
          "height": 163
        }
      },
      "source": [
        "from keras.utils import to_categorical\n",
        "y = to_categorical(y)\n",
        "y"
      ],
      "execution_count": 0,
      "outputs": [
        {
          "output_type": "stream",
          "text": [
            "Using TensorFlow backend.\n"
          ],
          "name": "stderr"
        },
        {
          "output_type": "execute_result",
          "data": {
            "text/plain": [
              "array([[0., 1.],\n",
              "       [0., 1.],\n",
              "       [0., 1.],\n",
              "       ...,\n",
              "       [1., 0.],\n",
              "       [1., 0.],\n",
              "       [1., 0.]], dtype=float32)"
            ]
          },
          "metadata": {
            "tags": []
          },
          "execution_count": 6
        }
      ]
    },
    {
      "cell_type": "markdown",
      "metadata": {
        "id": "0xuZOF039uxp",
        "colab_type": "text"
      },
      "source": [
        "### Splitting the Data\n",
        "\n",
        "In order to use a loss function in training our model, we will need to split the data into a training set and a validation set. However, we only have one data set, so we will need to split it.\n",
        "\n",
        "Using the scikit-learn [train_test_split](https://scikit-learn.org/stable/modules/generated/sklearn.model_selection.train_test_split.html) function, we will split our data into two. This function automatically shuffles our data, which helps us avoid training on only a range of years and validating on a different set of years. This will help increase the generality of our model.\n",
        "\n",
        "We will use 85% of the data in the training set, and the remaining 15% of the data in the validation set."
      ]
    },
    {
      "cell_type": "code",
      "metadata": {
        "id": "whLbGZQPyFg5",
        "colab_type": "code",
        "colab": {}
      },
      "source": [
        "from sklearn.model_selection import train_test_split\n",
        "\n",
        "X_train, X_validation, y_train, y_validation = train_test_split(X, y, test_size=0.15)"
      ],
      "execution_count": 0,
      "outputs": []
    },
    {
      "cell_type": "markdown",
      "metadata": {
        "id": "RUPAzJMtEsSh",
        "colab_type": "text"
      },
      "source": [
        "###Scaling and Normalizing the Data\n",
        "\n",
        "As you probably saw in the original DataFrame, each feature in our dataset has a significantly different range of values. This makes it hard for a neural network to properly make connections and relationships between values.\n",
        "\n",
        "To improve the accuracy of our model, we will need to scale and transform all of our data so that the mean centers on 0 and the minimum and maximum values of a feature are just one standard deviation away from the mean. This will put all of our values into a much more reasonable range, and each feature's range will be fairly similar.\n",
        "\n",
        "To do this, we will apply the sklearn [StandardScaler](https://stackoverflow.com/questions/38420847/apply-standardscaler-to-parts-of-a-data-set) to the features of our DataFrame that are not binary 1's or 0's. We will start by fitting the StandardScaler to our **training data only** and transforming all values in the **training data** to that scale. It's very important that we do not do this to the validation data at the same time, as that would cause data leakage in the model and decrease the overall accuracy of our model. "
      ]
    },
    {
      "cell_type": "code",
      "metadata": {
        "id": "pya78CZJMBB0",
        "colab_type": "code",
        "outputId": "2afe3cae-3330-4372-b650-bd9dba18086e",
        "colab": {
          "base_uri": "https://localhost:8080/",
          "height": 424
        }
      },
      "source": [
        "from sklearn.preprocessing import StandardScaler\n",
        "\n",
        "ss = StandardScaler()\n",
        "numeric = ['score_differential', 'period', 'seconds_remaining', 'secondsInHalf', 'yardsToGoal', 'down', 'distance']\n",
        "scaled_features = X_train.copy()\n",
        "features = scaled_features[numeric]\n",
        "scaler = ss.fit(features.values)\n",
        "features = ss.transform(features.values)\n",
        "\n",
        "scaled_features[numeric] = features\n",
        "\n",
        "X_train = scaled_features\n",
        "X_train"
      ],
      "execution_count": 0,
      "outputs": [
        {
          "output_type": "execute_result",
          "data": {
            "text/html": [
              "<div>\n",
              "<style scoped>\n",
              "    .dataframe tbody tr th:only-of-type {\n",
              "        vertical-align: middle;\n",
              "    }\n",
              "\n",
              "    .dataframe tbody tr th {\n",
              "        vertical-align: top;\n",
              "    }\n",
              "\n",
              "    .dataframe thead th {\n",
              "        text-align: right;\n",
              "    }\n",
              "</style>\n",
              "<table border=\"1\" class=\"dataframe\">\n",
              "  <thead>\n",
              "    <tr style=\"text-align: right;\">\n",
              "      <th></th>\n",
              "      <th>score_differential</th>\n",
              "      <th>oneScoreGame</th>\n",
              "      <th>period</th>\n",
              "      <th>seconds_remaining</th>\n",
              "      <th>secondsInHalf</th>\n",
              "      <th>yardsToGoal</th>\n",
              "      <th>down</th>\n",
              "      <th>distance</th>\n",
              "    </tr>\n",
              "  </thead>\n",
              "  <tbody>\n",
              "    <tr>\n",
              "      <th>3671</th>\n",
              "      <td>-0.010096</td>\n",
              "      <td>1</td>\n",
              "      <td>-0.436965</td>\n",
              "      <td>0.833389</td>\n",
              "      <td>0.008382</td>\n",
              "      <td>0.621726</td>\n",
              "      <td>1.543166</td>\n",
              "      <td>0.402360</td>\n",
              "    </tr>\n",
              "    <tr>\n",
              "      <th>3119</th>\n",
              "      <td>-0.270233</td>\n",
              "      <td>1</td>\n",
              "      <td>-0.436965</td>\n",
              "      <td>0.654470</td>\n",
              "      <td>-0.337810</td>\n",
              "      <td>0.824789</td>\n",
              "      <td>1.543166</td>\n",
              "      <td>1.951379</td>\n",
              "    </tr>\n",
              "    <tr>\n",
              "      <th>1627</th>\n",
              "      <td>-0.270233</td>\n",
              "      <td>1</td>\n",
              "      <td>-1.318750</td>\n",
              "      <td>1.529287</td>\n",
              "      <td>1.354886</td>\n",
              "      <td>-0.677882</td>\n",
              "      <td>1.543166</td>\n",
              "      <td>-1.404828</td>\n",
              "    </tr>\n",
              "    <tr>\n",
              "      <th>8200</th>\n",
              "      <td>0.640246</td>\n",
              "      <td>0</td>\n",
              "      <td>-0.436965</td>\n",
              "      <td>0.082873</td>\n",
              "      <td>-1.443802</td>\n",
              "      <td>-0.596657</td>\n",
              "      <td>-0.919077</td>\n",
              "      <td>0.402360</td>\n",
              "    </tr>\n",
              "    <tr>\n",
              "      <th>1133</th>\n",
              "      <td>0.900383</td>\n",
              "      <td>0</td>\n",
              "      <td>-0.436965</td>\n",
              "      <td>0.313584</td>\n",
              "      <td>-0.997397</td>\n",
              "      <td>-0.068691</td>\n",
              "      <td>-0.919077</td>\n",
              "      <td>0.402360</td>\n",
              "    </tr>\n",
              "    <tr>\n",
              "      <th>...</th>\n",
              "      <td>...</td>\n",
              "      <td>...</td>\n",
              "      <td>...</td>\n",
              "      <td>...</td>\n",
              "      <td>...</td>\n",
              "      <td>...</td>\n",
              "      <td>...</td>\n",
              "      <td>...</td>\n",
              "    </tr>\n",
              "    <tr>\n",
              "      <th>2414</th>\n",
              "      <td>-0.270233</td>\n",
              "      <td>1</td>\n",
              "      <td>-0.436965</td>\n",
              "      <td>0.002831</td>\n",
              "      <td>-1.598677</td>\n",
              "      <td>-1.815039</td>\n",
              "      <td>-0.919077</td>\n",
              "      <td>-1.146658</td>\n",
              "    </tr>\n",
              "    <tr>\n",
              "      <th>1601</th>\n",
              "      <td>1.290588</td>\n",
              "      <td>0</td>\n",
              "      <td>-0.436965</td>\n",
              "      <td>0.057448</td>\n",
              "      <td>-1.492998</td>\n",
              "      <td>-0.515431</td>\n",
              "      <td>0.312044</td>\n",
              "      <td>-1.146658</td>\n",
              "    </tr>\n",
              "    <tr>\n",
              "      <th>174</th>\n",
              "      <td>-0.465336</td>\n",
              "      <td>1</td>\n",
              "      <td>-1.318750</td>\n",
              "      <td>1.052799</td>\n",
              "      <td>0.432922</td>\n",
              "      <td>0.418662</td>\n",
              "      <td>0.312044</td>\n",
              "      <td>-0.630319</td>\n",
              "    </tr>\n",
              "    <tr>\n",
              "      <th>8600</th>\n",
              "      <td>0.054938</td>\n",
              "      <td>1</td>\n",
              "      <td>1.326604</td>\n",
              "      <td>-1.089514</td>\n",
              "      <td>-0.432557</td>\n",
              "      <td>-0.759108</td>\n",
              "      <td>-0.919077</td>\n",
              "      <td>0.402360</td>\n",
              "    </tr>\n",
              "    <tr>\n",
              "      <th>496</th>\n",
              "      <td>-0.465336</td>\n",
              "      <td>1</td>\n",
              "      <td>-1.318750</td>\n",
              "      <td>1.178984</td>\n",
              "      <td>0.677078</td>\n",
              "      <td>1.068466</td>\n",
              "      <td>0.312044</td>\n",
              "      <td>-0.888489</td>\n",
              "    </tr>\n",
              "  </tbody>\n",
              "</table>\n",
              "<p>8084 rows × 8 columns</p>\n",
              "</div>"
            ],
            "text/plain": [
              "      score_differential  oneScoreGame  ...      down  distance\n",
              "3671           -0.010096             1  ...  1.543166  0.402360\n",
              "3119           -0.270233             1  ...  1.543166  1.951379\n",
              "1627           -0.270233             1  ...  1.543166 -1.404828\n",
              "8200            0.640246             0  ... -0.919077  0.402360\n",
              "1133            0.900383             0  ... -0.919077  0.402360\n",
              "...                  ...           ...  ...       ...       ...\n",
              "2414           -0.270233             1  ... -0.919077 -1.146658\n",
              "1601            1.290588             0  ...  0.312044 -1.146658\n",
              "174            -0.465336             1  ...  0.312044 -0.630319\n",
              "8600            0.054938             1  ... -0.919077  0.402360\n",
              "496            -0.465336             1  ...  0.312044 -0.888489\n",
              "\n",
              "[8084 rows x 8 columns]"
            ]
          },
          "metadata": {
            "tags": []
          },
          "execution_count": 8
        }
      ]
    },
    {
      "cell_type": "markdown",
      "metadata": {
        "id": "ZtpUw_1n5MFH",
        "colab_type": "text"
      },
      "source": [
        "As you can see, our data is completely unrecognizable. That's okay. Even if we can't make much sense of it, the computer understands it perfectly well.\n",
        "\n",
        "Now, we're ready to scale the validation data. One nice thing about using the sklearn StandardScaler is that it saves the the mean and standard deviations from the last time it was fit. This means that we can transform future data on the same scale used to transform the training data.\n",
        "\n",
        "That's exactly what we're going to do with the validation data. At this point, it's very important that we do not instantiate a new StandardScaler nor fit existing StandardScaler to the validation data. We just want to use that scale to transform the validation data."
      ]
    },
    {
      "cell_type": "code",
      "metadata": {
        "id": "jIWYwqve5Loh",
        "colab_type": "code",
        "outputId": "f1dd5019-e6fc-40e5-95a8-d32efc24086a",
        "colab": {
          "base_uri": "https://localhost:8080/",
          "height": 424
        }
      },
      "source": [
        "scaled_features = X_validation.copy()\n",
        "features = scaled_features[numeric]\n",
        "features = ss.transform(features.values)\n",
        "\n",
        "scaled_features[numeric] = features\n",
        "\n",
        "X_validation = scaled_features\n",
        "X_validation"
      ],
      "execution_count": 0,
      "outputs": [
        {
          "output_type": "execute_result",
          "data": {
            "text/html": [
              "<div>\n",
              "<style scoped>\n",
              "    .dataframe tbody tr th:only-of-type {\n",
              "        vertical-align: middle;\n",
              "    }\n",
              "\n",
              "    .dataframe tbody tr th {\n",
              "        vertical-align: top;\n",
              "    }\n",
              "\n",
              "    .dataframe thead th {\n",
              "        text-align: right;\n",
              "    }\n",
              "</style>\n",
              "<table border=\"1\" class=\"dataframe\">\n",
              "  <thead>\n",
              "    <tr style=\"text-align: right;\">\n",
              "      <th></th>\n",
              "      <th>score_differential</th>\n",
              "      <th>oneScoreGame</th>\n",
              "      <th>period</th>\n",
              "      <th>seconds_remaining</th>\n",
              "      <th>secondsInHalf</th>\n",
              "      <th>yardsToGoal</th>\n",
              "      <th>down</th>\n",
              "      <th>distance</th>\n",
              "    </tr>\n",
              "  </thead>\n",
              "  <tbody>\n",
              "    <tr>\n",
              "      <th>4750</th>\n",
              "      <td>2.461204</td>\n",
              "      <td>0</td>\n",
              "      <td>0.444819</td>\n",
              "      <td>-0.341823</td>\n",
              "      <td>1.014160</td>\n",
              "      <td>0.784177</td>\n",
              "      <td>-0.919077</td>\n",
              "      <td>0.402360</td>\n",
              "    </tr>\n",
              "    <tr>\n",
              "      <th>6349</th>\n",
              "      <td>1.160520</td>\n",
              "      <td>0</td>\n",
              "      <td>1.326604</td>\n",
              "      <td>-1.395558</td>\n",
              "      <td>-1.024728</td>\n",
              "      <td>-0.109304</td>\n",
              "      <td>-0.919077</td>\n",
              "      <td>0.402360</td>\n",
              "    </tr>\n",
              "    <tr>\n",
              "      <th>4012</th>\n",
              "      <td>-1.440849</td>\n",
              "      <td>0</td>\n",
              "      <td>0.444819</td>\n",
              "      <td>-0.384198</td>\n",
              "      <td>0.932167</td>\n",
              "      <td>-1.855652</td>\n",
              "      <td>2.774287</td>\n",
              "      <td>-1.921168</td>\n",
              "    </tr>\n",
              "    <tr>\n",
              "      <th>3070</th>\n",
              "      <td>0.640246</td>\n",
              "      <td>0</td>\n",
              "      <td>-0.436965</td>\n",
              "      <td>0.258966</td>\n",
              "      <td>-1.103076</td>\n",
              "      <td>1.068466</td>\n",
              "      <td>-0.919077</td>\n",
              "      <td>0.402360</td>\n",
              "    </tr>\n",
              "    <tr>\n",
              "      <th>8053</th>\n",
              "      <td>-0.660438</td>\n",
              "      <td>1</td>\n",
              "      <td>-0.436965</td>\n",
              "      <td>0.268383</td>\n",
              "      <td>-1.084856</td>\n",
              "      <td>0.743564</td>\n",
              "      <td>0.312044</td>\n",
              "      <td>-1.404828</td>\n",
              "    </tr>\n",
              "    <tr>\n",
              "      <th>...</th>\n",
              "      <td>...</td>\n",
              "      <td>...</td>\n",
              "      <td>...</td>\n",
              "      <td>...</td>\n",
              "      <td>...</td>\n",
              "      <td>...</td>\n",
              "      <td>...</td>\n",
              "      <td>...</td>\n",
              "    </tr>\n",
              "    <tr>\n",
              "      <th>6241</th>\n",
              "      <td>0.445143</td>\n",
              "      <td>0</td>\n",
              "      <td>0.444819</td>\n",
              "      <td>-0.127121</td>\n",
              "      <td>1.429590</td>\n",
              "      <td>0.540500</td>\n",
              "      <td>0.312044</td>\n",
              "      <td>-1.146658</td>\n",
              "    </tr>\n",
              "    <tr>\n",
              "      <th>3675</th>\n",
              "      <td>-1.180712</td>\n",
              "      <td>0</td>\n",
              "      <td>-1.318750</td>\n",
              "      <td>0.993474</td>\n",
              "      <td>0.318132</td>\n",
              "      <td>0.621726</td>\n",
              "      <td>1.543166</td>\n",
              "      <td>-0.113979</td>\n",
              "    </tr>\n",
              "    <tr>\n",
              "      <th>7106</th>\n",
              "      <td>-0.270233</td>\n",
              "      <td>1</td>\n",
              "      <td>-1.318750</td>\n",
              "      <td>1.489737</td>\n",
              "      <td>1.278359</td>\n",
              "      <td>-1.936877</td>\n",
              "      <td>-0.919077</td>\n",
              "      <td>-1.921168</td>\n",
              "    </tr>\n",
              "    <tr>\n",
              "      <th>8699</th>\n",
              "      <td>-2.286294</td>\n",
              "      <td>0</td>\n",
              "      <td>1.326604</td>\n",
              "      <td>-1.146956</td>\n",
              "      <td>-0.543703</td>\n",
              "      <td>2.002559</td>\n",
              "      <td>0.312044</td>\n",
              "      <td>0.402360</td>\n",
              "    </tr>\n",
              "    <tr>\n",
              "      <th>2668</th>\n",
              "      <td>0.250041</td>\n",
              "      <td>0</td>\n",
              "      <td>0.444819</td>\n",
              "      <td>-0.779702</td>\n",
              "      <td>0.166901</td>\n",
              "      <td>0.215598</td>\n",
              "      <td>0.312044</td>\n",
              "      <td>0.144191</td>\n",
              "    </tr>\n",
              "  </tbody>\n",
              "</table>\n",
              "<p>1427 rows × 8 columns</p>\n",
              "</div>"
            ],
            "text/plain": [
              "      score_differential  oneScoreGame  ...      down  distance\n",
              "4750            2.461204             0  ... -0.919077  0.402360\n",
              "6349            1.160520             0  ... -0.919077  0.402360\n",
              "4012           -1.440849             0  ...  2.774287 -1.921168\n",
              "3070            0.640246             0  ... -0.919077  0.402360\n",
              "8053           -0.660438             1  ...  0.312044 -1.404828\n",
              "...                  ...           ...  ...       ...       ...\n",
              "6241            0.445143             0  ...  0.312044 -1.146658\n",
              "3675           -1.180712             0  ...  1.543166 -0.113979\n",
              "7106           -0.270233             1  ... -0.919077 -1.921168\n",
              "8699           -2.286294             0  ...  0.312044  0.402360\n",
              "2668            0.250041             0  ...  0.312044  0.144191\n",
              "\n",
              "[1427 rows x 8 columns]"
            ]
          },
          "metadata": {
            "tags": []
          },
          "execution_count": 9
        }
      ]
    },
    {
      "cell_type": "markdown",
      "metadata": {
        "id": "IaRr5_27H3TS",
        "colab_type": "text"
      },
      "source": [
        "Perfect. Now that all of our data has been vectorized, scaled, and transformed, we're ready to start building our model."
      ]
    },
    {
      "cell_type": "markdown",
      "metadata": {
        "id": "4uDE7_YoIAIp",
        "colab_type": "text"
      },
      "source": [
        "##Building a Model\n",
        "\n",
        "We're going to use Keras to create a densely connected network for this binary classification task."
      ]
    },
    {
      "cell_type": "markdown",
      "metadata": {
        "id": "JGqvc0JrJKqv",
        "colab_type": "text"
      },
      "source": [
        "The number of layers, hidden units, and amount of dropout all came from a large amount of manual tuning to produce a low level of  validation loss and high validation accuracy.\n",
        "\n",
        "In this model, our densely connected layers use the **elu** activation function. This came as the result of many trials using **relu** and **tanh** and discovering that **elu** resulted in much better results.\n",
        "\n",
        "In our final layer, we use a **sigmoid** activation function to give us a probability distribution between our two possible target values (rush or pass). This is standard practice in binary classification tasks, as well as the use of **binary crossentropy** as a loss function."
      ]
    },
    {
      "cell_type": "code",
      "metadata": {
        "id": "9IuJWx7x00fO",
        "colab_type": "code",
        "colab": {}
      },
      "source": [
        "from tensorflow.keras import models, layers, optimizers\n",
        "\n",
        "model = models.Sequential()\n",
        "model.add(layers.Dense(8,activation='elu', input_dim=8))\n",
        "model.add(layers.Dense(8,activation='elu'))\n",
        "model.add(layers.Dropout(0.5))\n",
        "model.add(layers.Dense(2, activation='sigmoid'))\n",
        "\n",
        "model.compile(optimizer='adam', loss='binary_crossentropy', metrics=['accuracy'])"
      ],
      "execution_count": 0,
      "outputs": []
    },
    {
      "cell_type": "markdown",
      "metadata": {
        "id": "v6zcWjzjKExn",
        "colab_type": "text"
      },
      "source": [
        "With our sequential model built and compiled, we're ready to begin training. We'll train for 150 epochs for this model. Through testing, we found 150 epoch to be a good number that prevented too much overfitting.\n",
        "\n",
        "Okay, let's train."
      ]
    },
    {
      "cell_type": "code",
      "metadata": {
        "id": "Q0_trt8e1OgC",
        "colab_type": "code",
        "outputId": "16933647-1080-4927-8823-6c20f0b26fec",
        "colab": {
          "base_uri": "https://localhost:8080/",
          "height": 1000
        }
      },
      "source": [
        "history2 = model.fit(X_train, y_train,batch_size=24, epochs=150, validation_data=(X_validation, y_validation))"
      ],
      "execution_count": 0,
      "outputs": [
        {
          "output_type": "stream",
          "text": [
            "Epoch 1/150\n",
            "337/337 [==============================] - 1s 2ms/step - loss: 0.7333 - accuracy: 0.5285 - val_loss: 0.6837 - val_accuracy: 0.5543\n",
            "Epoch 2/150\n",
            "337/337 [==============================] - 1s 2ms/step - loss: 0.6869 - accuracy: 0.5760 - val_loss: 0.6763 - val_accuracy: 0.5781\n",
            "Epoch 3/150\n",
            "337/337 [==============================] - 1s 1ms/step - loss: 0.6768 - accuracy: 0.5860 - val_loss: 0.6733 - val_accuracy: 0.5788\n",
            "Epoch 4/150\n",
            "337/337 [==============================] - 1s 2ms/step - loss: 0.6711 - accuracy: 0.5936 - val_loss: 0.6720 - val_accuracy: 0.5795\n",
            "Epoch 5/150\n",
            "337/337 [==============================] - 1s 2ms/step - loss: 0.6675 - accuracy: 0.5962 - val_loss: 0.6703 - val_accuracy: 0.5781\n",
            "Epoch 6/150\n",
            "337/337 [==============================] - 0s 1ms/step - loss: 0.6669 - accuracy: 0.5977 - val_loss: 0.6706 - val_accuracy: 0.5851\n",
            "Epoch 7/150\n",
            "337/337 [==============================] - 0s 1ms/step - loss: 0.6650 - accuracy: 0.5997 - val_loss: 0.6707 - val_accuracy: 0.5893\n",
            "Epoch 8/150\n",
            "337/337 [==============================] - 0s 1ms/step - loss: 0.6643 - accuracy: 0.6001 - val_loss: 0.6684 - val_accuracy: 0.5950\n",
            "Epoch 9/150\n",
            "337/337 [==============================] - 1s 1ms/step - loss: 0.6626 - accuracy: 0.6075 - val_loss: 0.6674 - val_accuracy: 0.5872\n",
            "Epoch 10/150\n",
            "337/337 [==============================] - 1s 2ms/step - loss: 0.6631 - accuracy: 0.6081 - val_loss: 0.6652 - val_accuracy: 0.5964\n",
            "Epoch 11/150\n",
            "337/337 [==============================] - 0s 1ms/step - loss: 0.6618 - accuracy: 0.6084 - val_loss: 0.6654 - val_accuracy: 0.5929\n",
            "Epoch 12/150\n",
            "337/337 [==============================] - 0s 1ms/step - loss: 0.6605 - accuracy: 0.6065 - val_loss: 0.6639 - val_accuracy: 0.5943\n",
            "Epoch 13/150\n",
            "337/337 [==============================] - 0s 1ms/step - loss: 0.6601 - accuracy: 0.6082 - val_loss: 0.6632 - val_accuracy: 0.5971\n",
            "Epoch 14/150\n",
            "337/337 [==============================] - 0s 1ms/step - loss: 0.6592 - accuracy: 0.6042 - val_loss: 0.6618 - val_accuracy: 0.6006\n",
            "Epoch 15/150\n",
            "337/337 [==============================] - 1s 1ms/step - loss: 0.6590 - accuracy: 0.6117 - val_loss: 0.6599 - val_accuracy: 0.6062\n",
            "Epoch 16/150\n",
            "337/337 [==============================] - 1s 2ms/step - loss: 0.6585 - accuracy: 0.6075 - val_loss: 0.6589 - val_accuracy: 0.6076\n",
            "Epoch 17/150\n",
            "337/337 [==============================] - 0s 1ms/step - loss: 0.6584 - accuracy: 0.6091 - val_loss: 0.6583 - val_accuracy: 0.6118\n",
            "Epoch 18/150\n",
            "337/337 [==============================] - 0s 1ms/step - loss: 0.6566 - accuracy: 0.6145 - val_loss: 0.6551 - val_accuracy: 0.6237\n",
            "Epoch 19/150\n",
            "337/337 [==============================] - 0s 1ms/step - loss: 0.6549 - accuracy: 0.6117 - val_loss: 0.6560 - val_accuracy: 0.6083\n",
            "Epoch 20/150\n",
            "337/337 [==============================] - 0s 1ms/step - loss: 0.6574 - accuracy: 0.6152 - val_loss: 0.6533 - val_accuracy: 0.6174\n",
            "Epoch 21/150\n",
            "337/337 [==============================] - 0s 1ms/step - loss: 0.6525 - accuracy: 0.6154 - val_loss: 0.6515 - val_accuracy: 0.6272\n",
            "Epoch 22/150\n",
            "337/337 [==============================] - 0s 1ms/step - loss: 0.6537 - accuracy: 0.6080 - val_loss: 0.6514 - val_accuracy: 0.6153\n",
            "Epoch 23/150\n",
            "337/337 [==============================] - 1s 2ms/step - loss: 0.6525 - accuracy: 0.6247 - val_loss: 0.6501 - val_accuracy: 0.6209\n",
            "Epoch 24/150\n",
            "337/337 [==============================] - 1s 2ms/step - loss: 0.6502 - accuracy: 0.6225 - val_loss: 0.6519 - val_accuracy: 0.6167\n",
            "Epoch 25/150\n",
            "337/337 [==============================] - 1s 2ms/step - loss: 0.6521 - accuracy: 0.6169 - val_loss: 0.6530 - val_accuracy: 0.6118\n",
            "Epoch 26/150\n",
            "337/337 [==============================] - 1s 2ms/step - loss: 0.6519 - accuracy: 0.6164 - val_loss: 0.6512 - val_accuracy: 0.6181\n",
            "Epoch 27/150\n",
            "337/337 [==============================] - 1s 2ms/step - loss: 0.6486 - accuracy: 0.6218 - val_loss: 0.6514 - val_accuracy: 0.6041\n",
            "Epoch 28/150\n",
            "337/337 [==============================] - 1s 2ms/step - loss: 0.6508 - accuracy: 0.6194 - val_loss: 0.6490 - val_accuracy: 0.6286\n",
            "Epoch 29/150\n",
            "337/337 [==============================] - 0s 1ms/step - loss: 0.6513 - accuracy: 0.6223 - val_loss: 0.6484 - val_accuracy: 0.6244\n",
            "Epoch 30/150\n",
            "337/337 [==============================] - 1s 2ms/step - loss: 0.6495 - accuracy: 0.6259 - val_loss: 0.6486 - val_accuracy: 0.6230\n",
            "Epoch 31/150\n",
            "337/337 [==============================] - 1s 2ms/step - loss: 0.6474 - accuracy: 0.6253 - val_loss: 0.6487 - val_accuracy: 0.6230\n",
            "Epoch 32/150\n",
            "337/337 [==============================] - 1s 2ms/step - loss: 0.6491 - accuracy: 0.6217 - val_loss: 0.6494 - val_accuracy: 0.6237\n",
            "Epoch 33/150\n",
            "337/337 [==============================] - 1s 2ms/step - loss: 0.6477 - accuracy: 0.6214 - val_loss: 0.6477 - val_accuracy: 0.6230\n",
            "Epoch 34/150\n",
            "337/337 [==============================] - 1s 2ms/step - loss: 0.6512 - accuracy: 0.6210 - val_loss: 0.6474 - val_accuracy: 0.6244\n",
            "Epoch 35/150\n",
            "337/337 [==============================] - 1s 2ms/step - loss: 0.6485 - accuracy: 0.6291 - val_loss: 0.6484 - val_accuracy: 0.6216\n",
            "Epoch 36/150\n",
            "337/337 [==============================] - 1s 2ms/step - loss: 0.6491 - accuracy: 0.6204 - val_loss: 0.6482 - val_accuracy: 0.6195\n",
            "Epoch 37/150\n",
            "337/337 [==============================] - 1s 2ms/step - loss: 0.6464 - accuracy: 0.6256 - val_loss: 0.6491 - val_accuracy: 0.6195\n",
            "Epoch 38/150\n",
            "337/337 [==============================] - 1s 2ms/step - loss: 0.6483 - accuracy: 0.6230 - val_loss: 0.6471 - val_accuracy: 0.6244\n",
            "Epoch 39/150\n",
            "337/337 [==============================] - 1s 2ms/step - loss: 0.6488 - accuracy: 0.6201 - val_loss: 0.6497 - val_accuracy: 0.6125\n",
            "Epoch 40/150\n",
            "337/337 [==============================] - 1s 2ms/step - loss: 0.6475 - accuracy: 0.6244 - val_loss: 0.6468 - val_accuracy: 0.6202\n",
            "Epoch 41/150\n",
            "337/337 [==============================] - 1s 2ms/step - loss: 0.6466 - accuracy: 0.6223 - val_loss: 0.6493 - val_accuracy: 0.6097\n",
            "Epoch 42/150\n",
            "337/337 [==============================] - 1s 2ms/step - loss: 0.6469 - accuracy: 0.6237 - val_loss: 0.6474 - val_accuracy: 0.6216\n",
            "Epoch 43/150\n",
            "337/337 [==============================] - 1s 2ms/step - loss: 0.6454 - accuracy: 0.6264 - val_loss: 0.6468 - val_accuracy: 0.6181\n",
            "Epoch 44/150\n",
            "337/337 [==============================] - 1s 2ms/step - loss: 0.6461 - accuracy: 0.6249 - val_loss: 0.6467 - val_accuracy: 0.6237\n",
            "Epoch 45/150\n",
            "337/337 [==============================] - 1s 2ms/step - loss: 0.6466 - accuracy: 0.6248 - val_loss: 0.6486 - val_accuracy: 0.6076\n",
            "Epoch 46/150\n",
            "337/337 [==============================] - 1s 2ms/step - loss: 0.6452 - accuracy: 0.6228 - val_loss: 0.6478 - val_accuracy: 0.6181\n",
            "Epoch 47/150\n",
            "337/337 [==============================] - 1s 2ms/step - loss: 0.6478 - accuracy: 0.6232 - val_loss: 0.6480 - val_accuracy: 0.6146\n",
            "Epoch 48/150\n",
            "337/337 [==============================] - 1s 2ms/step - loss: 0.6470 - accuracy: 0.6254 - val_loss: 0.6506 - val_accuracy: 0.6062\n",
            "Epoch 49/150\n",
            "337/337 [==============================] - 1s 2ms/step - loss: 0.6476 - accuracy: 0.6220 - val_loss: 0.6470 - val_accuracy: 0.6111\n",
            "Epoch 50/150\n",
            "337/337 [==============================] - 1s 2ms/step - loss: 0.6444 - accuracy: 0.6252 - val_loss: 0.6477 - val_accuracy: 0.6167\n",
            "Epoch 51/150\n",
            "337/337 [==============================] - 1s 2ms/step - loss: 0.6443 - accuracy: 0.6267 - val_loss: 0.6472 - val_accuracy: 0.6097\n",
            "Epoch 52/150\n",
            "337/337 [==============================] - 1s 1ms/step - loss: 0.6455 - accuracy: 0.6242 - val_loss: 0.6491 - val_accuracy: 0.6062\n",
            "Epoch 53/150\n",
            "337/337 [==============================] - 1s 2ms/step - loss: 0.6471 - accuracy: 0.6284 - val_loss: 0.6481 - val_accuracy: 0.6069\n",
            "Epoch 54/150\n",
            "337/337 [==============================] - 1s 2ms/step - loss: 0.6450 - accuracy: 0.6252 - val_loss: 0.6455 - val_accuracy: 0.6265\n",
            "Epoch 55/150\n",
            "337/337 [==============================] - 1s 2ms/step - loss: 0.6445 - accuracy: 0.6226 - val_loss: 0.6451 - val_accuracy: 0.6293\n",
            "Epoch 56/150\n",
            "337/337 [==============================] - 1s 2ms/step - loss: 0.6460 - accuracy: 0.6264 - val_loss: 0.6468 - val_accuracy: 0.6153\n",
            "Epoch 57/150\n",
            "337/337 [==============================] - 1s 2ms/step - loss: 0.6457 - accuracy: 0.6277 - val_loss: 0.6454 - val_accuracy: 0.6258\n",
            "Epoch 58/150\n",
            "337/337 [==============================] - 1s 2ms/step - loss: 0.6459 - accuracy: 0.6237 - val_loss: 0.6456 - val_accuracy: 0.6300\n",
            "Epoch 59/150\n",
            "337/337 [==============================] - 1s 2ms/step - loss: 0.6436 - accuracy: 0.6264 - val_loss: 0.6462 - val_accuracy: 0.6237\n",
            "Epoch 60/150\n",
            "337/337 [==============================] - 1s 2ms/step - loss: 0.6440 - accuracy: 0.6215 - val_loss: 0.6469 - val_accuracy: 0.6076\n",
            "Epoch 61/150\n",
            "337/337 [==============================] - 1s 2ms/step - loss: 0.6446 - accuracy: 0.6174 - val_loss: 0.6467 - val_accuracy: 0.6153\n",
            "Epoch 62/150\n",
            "337/337 [==============================] - 1s 2ms/step - loss: 0.6443 - accuracy: 0.6293 - val_loss: 0.6459 - val_accuracy: 0.6139\n",
            "Epoch 63/150\n",
            "337/337 [==============================] - 1s 2ms/step - loss: 0.6459 - accuracy: 0.6253 - val_loss: 0.6456 - val_accuracy: 0.6167\n",
            "Epoch 64/150\n",
            "337/337 [==============================] - 1s 2ms/step - loss: 0.6449 - accuracy: 0.6225 - val_loss: 0.6457 - val_accuracy: 0.6251\n",
            "Epoch 65/150\n",
            "337/337 [==============================] - 1s 2ms/step - loss: 0.6441 - accuracy: 0.6308 - val_loss: 0.6450 - val_accuracy: 0.6300\n",
            "Epoch 66/150\n",
            "337/337 [==============================] - 1s 2ms/step - loss: 0.6440 - accuracy: 0.6215 - val_loss: 0.6452 - val_accuracy: 0.6258\n",
            "Epoch 67/150\n",
            "337/337 [==============================] - 1s 2ms/step - loss: 0.6440 - accuracy: 0.6296 - val_loss: 0.6485 - val_accuracy: 0.6069\n",
            "Epoch 68/150\n",
            "337/337 [==============================] - 1s 2ms/step - loss: 0.6432 - accuracy: 0.6275 - val_loss: 0.6460 - val_accuracy: 0.6216\n",
            "Epoch 69/150\n",
            "337/337 [==============================] - 1s 2ms/step - loss: 0.6430 - accuracy: 0.6272 - val_loss: 0.6453 - val_accuracy: 0.6279\n",
            "Epoch 70/150\n",
            "337/337 [==============================] - 1s 2ms/step - loss: 0.6445 - accuracy: 0.6265 - val_loss: 0.6458 - val_accuracy: 0.6251\n",
            "Epoch 71/150\n",
            "337/337 [==============================] - 1s 2ms/step - loss: 0.6443 - accuracy: 0.6226 - val_loss: 0.6447 - val_accuracy: 0.6237\n",
            "Epoch 72/150\n",
            "337/337 [==============================] - 1s 2ms/step - loss: 0.6445 - accuracy: 0.6236 - val_loss: 0.6455 - val_accuracy: 0.6160\n",
            "Epoch 73/150\n",
            "337/337 [==============================] - 1s 2ms/step - loss: 0.6437 - accuracy: 0.6236 - val_loss: 0.6450 - val_accuracy: 0.6314\n",
            "Epoch 74/150\n",
            "337/337 [==============================] - 1s 2ms/step - loss: 0.6421 - accuracy: 0.6273 - val_loss: 0.6464 - val_accuracy: 0.6118\n",
            "Epoch 75/150\n",
            "337/337 [==============================] - 1s 2ms/step - loss: 0.6418 - accuracy: 0.6215 - val_loss: 0.6465 - val_accuracy: 0.6230\n",
            "Epoch 76/150\n",
            "337/337 [==============================] - 1s 2ms/step - loss: 0.6447 - accuracy: 0.6247 - val_loss: 0.6441 - val_accuracy: 0.6314\n",
            "Epoch 77/150\n",
            "337/337 [==============================] - 1s 2ms/step - loss: 0.6448 - accuracy: 0.6305 - val_loss: 0.6456 - val_accuracy: 0.6230\n",
            "Epoch 78/150\n",
            "337/337 [==============================] - 1s 2ms/step - loss: 0.6443 - accuracy: 0.6231 - val_loss: 0.6439 - val_accuracy: 0.6314\n",
            "Epoch 79/150\n",
            "337/337 [==============================] - 1s 2ms/step - loss: 0.6427 - accuracy: 0.6270 - val_loss: 0.6443 - val_accuracy: 0.6244\n",
            "Epoch 80/150\n",
            "337/337 [==============================] - 1s 2ms/step - loss: 0.6440 - accuracy: 0.6220 - val_loss: 0.6451 - val_accuracy: 0.6251\n",
            "Epoch 81/150\n",
            "337/337 [==============================] - 1s 2ms/step - loss: 0.6442 - accuracy: 0.6257 - val_loss: 0.6479 - val_accuracy: 0.6090\n",
            "Epoch 82/150\n",
            "337/337 [==============================] - 1s 2ms/step - loss: 0.6441 - accuracy: 0.6223 - val_loss: 0.6466 - val_accuracy: 0.6132\n",
            "Epoch 83/150\n",
            "337/337 [==============================] - 1s 2ms/step - loss: 0.6450 - accuracy: 0.6296 - val_loss: 0.6459 - val_accuracy: 0.6174\n",
            "Epoch 84/150\n",
            "337/337 [==============================] - 1s 2ms/step - loss: 0.6438 - accuracy: 0.6275 - val_loss: 0.6456 - val_accuracy: 0.6104\n",
            "Epoch 85/150\n",
            "337/337 [==============================] - 1s 2ms/step - loss: 0.6446 - accuracy: 0.6262 - val_loss: 0.6448 - val_accuracy: 0.6244\n",
            "Epoch 86/150\n",
            "337/337 [==============================] - 1s 2ms/step - loss: 0.6443 - accuracy: 0.6300 - val_loss: 0.6475 - val_accuracy: 0.6097\n",
            "Epoch 87/150\n",
            "337/337 [==============================] - 1s 2ms/step - loss: 0.6431 - accuracy: 0.6286 - val_loss: 0.6477 - val_accuracy: 0.6167\n",
            "Epoch 88/150\n",
            "337/337 [==============================] - 1s 2ms/step - loss: 0.6430 - accuracy: 0.6293 - val_loss: 0.6435 - val_accuracy: 0.6272\n",
            "Epoch 89/150\n",
            "337/337 [==============================] - 1s 2ms/step - loss: 0.6405 - accuracy: 0.6326 - val_loss: 0.6467 - val_accuracy: 0.6111\n",
            "Epoch 90/150\n",
            "337/337 [==============================] - 1s 2ms/step - loss: 0.6412 - accuracy: 0.6238 - val_loss: 0.6443 - val_accuracy: 0.6230\n",
            "Epoch 91/150\n",
            "337/337 [==============================] - 1s 2ms/step - loss: 0.6417 - accuracy: 0.6218 - val_loss: 0.6442 - val_accuracy: 0.6265\n",
            "Epoch 92/150\n",
            "337/337 [==============================] - 1s 2ms/step - loss: 0.6399 - accuracy: 0.6280 - val_loss: 0.6432 - val_accuracy: 0.6342\n",
            "Epoch 93/150\n",
            "337/337 [==============================] - 1s 2ms/step - loss: 0.6414 - accuracy: 0.6335 - val_loss: 0.6435 - val_accuracy: 0.6244\n",
            "Epoch 94/150\n",
            "337/337 [==============================] - 1s 2ms/step - loss: 0.6405 - accuracy: 0.6280 - val_loss: 0.6451 - val_accuracy: 0.6209\n",
            "Epoch 95/150\n",
            "337/337 [==============================] - 1s 2ms/step - loss: 0.6461 - accuracy: 0.6231 - val_loss: 0.6440 - val_accuracy: 0.6342\n",
            "Epoch 96/150\n",
            "337/337 [==============================] - 1s 2ms/step - loss: 0.6420 - accuracy: 0.6262 - val_loss: 0.6431 - val_accuracy: 0.6293\n",
            "Epoch 97/150\n",
            "337/337 [==============================] - 1s 2ms/step - loss: 0.6415 - accuracy: 0.6301 - val_loss: 0.6472 - val_accuracy: 0.6097\n",
            "Epoch 98/150\n",
            "337/337 [==============================] - 1s 2ms/step - loss: 0.6423 - accuracy: 0.6278 - val_loss: 0.6450 - val_accuracy: 0.6139\n",
            "Epoch 99/150\n",
            "337/337 [==============================] - 1s 2ms/step - loss: 0.6419 - accuracy: 0.6324 - val_loss: 0.6521 - val_accuracy: 0.6020\n",
            "Epoch 100/150\n",
            "337/337 [==============================] - 1s 2ms/step - loss: 0.6432 - accuracy: 0.6263 - val_loss: 0.6448 - val_accuracy: 0.6258\n",
            "Epoch 101/150\n",
            "337/337 [==============================] - 0s 1ms/step - loss: 0.6416 - accuracy: 0.6249 - val_loss: 0.6447 - val_accuracy: 0.6139\n",
            "Epoch 102/150\n",
            "337/337 [==============================] - 1s 1ms/step - loss: 0.6434 - accuracy: 0.6298 - val_loss: 0.6442 - val_accuracy: 0.6174\n",
            "Epoch 103/150\n",
            "337/337 [==============================] - 1s 1ms/step - loss: 0.6419 - accuracy: 0.6225 - val_loss: 0.6462 - val_accuracy: 0.6076\n",
            "Epoch 104/150\n",
            "337/337 [==============================] - 1s 2ms/step - loss: 0.6433 - accuracy: 0.6288 - val_loss: 0.6471 - val_accuracy: 0.6104\n",
            "Epoch 105/150\n",
            "337/337 [==============================] - 1s 2ms/step - loss: 0.6435 - accuracy: 0.6301 - val_loss: 0.6442 - val_accuracy: 0.6349\n",
            "Epoch 106/150\n",
            "337/337 [==============================] - 1s 1ms/step - loss: 0.6402 - accuracy: 0.6264 - val_loss: 0.6449 - val_accuracy: 0.6223\n",
            "Epoch 107/150\n",
            "337/337 [==============================] - 1s 2ms/step - loss: 0.6424 - accuracy: 0.6270 - val_loss: 0.6438 - val_accuracy: 0.6300\n",
            "Epoch 108/150\n",
            "337/337 [==============================] - 1s 2ms/step - loss: 0.6433 - accuracy: 0.6223 - val_loss: 0.6436 - val_accuracy: 0.6307\n",
            "Epoch 109/150\n",
            "337/337 [==============================] - 1s 2ms/step - loss: 0.6431 - accuracy: 0.6265 - val_loss: 0.6453 - val_accuracy: 0.6244\n",
            "Epoch 110/150\n",
            "337/337 [==============================] - 1s 2ms/step - loss: 0.6416 - accuracy: 0.6274 - val_loss: 0.6440 - val_accuracy: 0.6307\n",
            "Epoch 111/150\n",
            "337/337 [==============================] - 1s 2ms/step - loss: 0.6415 - accuracy: 0.6310 - val_loss: 0.6439 - val_accuracy: 0.6237\n",
            "Epoch 112/150\n",
            "337/337 [==============================] - 1s 2ms/step - loss: 0.6440 - accuracy: 0.6327 - val_loss: 0.6435 - val_accuracy: 0.6293\n",
            "Epoch 113/150\n",
            "337/337 [==============================] - 1s 2ms/step - loss: 0.6409 - accuracy: 0.6253 - val_loss: 0.6438 - val_accuracy: 0.6265\n",
            "Epoch 114/150\n",
            "337/337 [==============================] - 1s 2ms/step - loss: 0.6409 - accuracy: 0.6280 - val_loss: 0.6439 - val_accuracy: 0.6307\n",
            "Epoch 115/150\n",
            "337/337 [==============================] - 1s 2ms/step - loss: 0.6422 - accuracy: 0.6298 - val_loss: 0.6435 - val_accuracy: 0.6223\n",
            "Epoch 116/150\n",
            "337/337 [==============================] - 1s 2ms/step - loss: 0.6418 - accuracy: 0.6233 - val_loss: 0.6440 - val_accuracy: 0.6300\n",
            "Epoch 117/150\n",
            "337/337 [==============================] - 1s 2ms/step - loss: 0.6424 - accuracy: 0.6278 - val_loss: 0.6423 - val_accuracy: 0.6321\n",
            "Epoch 118/150\n",
            "337/337 [==============================] - 1s 2ms/step - loss: 0.6426 - accuracy: 0.6314 - val_loss: 0.6440 - val_accuracy: 0.6286\n",
            "Epoch 119/150\n",
            "337/337 [==============================] - 1s 2ms/step - loss: 0.6432 - accuracy: 0.6293 - val_loss: 0.6440 - val_accuracy: 0.6265\n",
            "Epoch 120/150\n",
            "337/337 [==============================] - 1s 2ms/step - loss: 0.6433 - accuracy: 0.6316 - val_loss: 0.6434 - val_accuracy: 0.6307\n",
            "Epoch 121/150\n",
            "337/337 [==============================] - 1s 2ms/step - loss: 0.6410 - accuracy: 0.6355 - val_loss: 0.6499 - val_accuracy: 0.6076\n",
            "Epoch 122/150\n",
            "337/337 [==============================] - 1s 2ms/step - loss: 0.6400 - accuracy: 0.6262 - val_loss: 0.6454 - val_accuracy: 0.6139\n",
            "Epoch 123/150\n",
            "337/337 [==============================] - 1s 2ms/step - loss: 0.6433 - accuracy: 0.6300 - val_loss: 0.6441 - val_accuracy: 0.6160\n",
            "Epoch 124/150\n",
            "337/337 [==============================] - 1s 2ms/step - loss: 0.6419 - accuracy: 0.6257 - val_loss: 0.6461 - val_accuracy: 0.6125\n",
            "Epoch 125/150\n",
            "337/337 [==============================] - 1s 2ms/step - loss: 0.6407 - accuracy: 0.6232 - val_loss: 0.6439 - val_accuracy: 0.6230\n",
            "Epoch 126/150\n",
            "337/337 [==============================] - 1s 2ms/step - loss: 0.6397 - accuracy: 0.6267 - val_loss: 0.6450 - val_accuracy: 0.6223\n",
            "Epoch 127/150\n",
            "337/337 [==============================] - 1s 2ms/step - loss: 0.6426 - accuracy: 0.6342 - val_loss: 0.6428 - val_accuracy: 0.6293\n",
            "Epoch 128/150\n",
            "337/337 [==============================] - 1s 2ms/step - loss: 0.6415 - accuracy: 0.6312 - val_loss: 0.6421 - val_accuracy: 0.6314\n",
            "Epoch 129/150\n",
            "337/337 [==============================] - 1s 2ms/step - loss: 0.6416 - accuracy: 0.6332 - val_loss: 0.6425 - val_accuracy: 0.6363\n",
            "Epoch 130/150\n",
            "337/337 [==============================] - 1s 2ms/step - loss: 0.6422 - accuracy: 0.6246 - val_loss: 0.6427 - val_accuracy: 0.6265\n",
            "Epoch 131/150\n",
            "337/337 [==============================] - 1s 2ms/step - loss: 0.6394 - accuracy: 0.6282 - val_loss: 0.6429 - val_accuracy: 0.6314\n",
            "Epoch 132/150\n",
            "337/337 [==============================] - 1s 2ms/step - loss: 0.6419 - accuracy: 0.6218 - val_loss: 0.6442 - val_accuracy: 0.6314\n",
            "Epoch 133/150\n",
            "337/337 [==============================] - 1s 2ms/step - loss: 0.6422 - accuracy: 0.6277 - val_loss: 0.6462 - val_accuracy: 0.6132\n",
            "Epoch 134/150\n",
            "337/337 [==============================] - 1s 2ms/step - loss: 0.6412 - accuracy: 0.6327 - val_loss: 0.6477 - val_accuracy: 0.6111\n",
            "Epoch 135/150\n",
            "337/337 [==============================] - 1s 2ms/step - loss: 0.6430 - accuracy: 0.6272 - val_loss: 0.6433 - val_accuracy: 0.6370\n",
            "Epoch 136/150\n",
            "337/337 [==============================] - 1s 2ms/step - loss: 0.6426 - accuracy: 0.6256 - val_loss: 0.6414 - val_accuracy: 0.6349\n",
            "Epoch 137/150\n",
            "337/337 [==============================] - 1s 2ms/step - loss: 0.6400 - accuracy: 0.6308 - val_loss: 0.6428 - val_accuracy: 0.6293\n",
            "Epoch 138/150\n",
            "337/337 [==============================] - 1s 2ms/step - loss: 0.6403 - accuracy: 0.6312 - val_loss: 0.6475 - val_accuracy: 0.6083\n",
            "Epoch 139/150\n",
            "337/337 [==============================] - 1s 2ms/step - loss: 0.6422 - accuracy: 0.6294 - val_loss: 0.6418 - val_accuracy: 0.6384\n",
            "Epoch 140/150\n",
            "337/337 [==============================] - 1s 2ms/step - loss: 0.6433 - accuracy: 0.6244 - val_loss: 0.6422 - val_accuracy: 0.6342\n",
            "Epoch 141/150\n",
            "337/337 [==============================] - 1s 2ms/step - loss: 0.6408 - accuracy: 0.6311 - val_loss: 0.6428 - val_accuracy: 0.6265\n",
            "Epoch 142/150\n",
            "337/337 [==============================] - 1s 2ms/step - loss: 0.6418 - accuracy: 0.6279 - val_loss: 0.6444 - val_accuracy: 0.6181\n",
            "Epoch 143/150\n",
            "337/337 [==============================] - 1s 2ms/step - loss: 0.6392 - accuracy: 0.6301 - val_loss: 0.6431 - val_accuracy: 0.6258\n",
            "Epoch 144/150\n",
            "337/337 [==============================] - 1s 2ms/step - loss: 0.6401 - accuracy: 0.6308 - val_loss: 0.6437 - val_accuracy: 0.6286\n",
            "Epoch 145/150\n",
            "337/337 [==============================] - 1s 2ms/step - loss: 0.6399 - accuracy: 0.6348 - val_loss: 0.6435 - val_accuracy: 0.6321\n",
            "Epoch 146/150\n",
            "337/337 [==============================] - 1s 2ms/step - loss: 0.6418 - accuracy: 0.6317 - val_loss: 0.6432 - val_accuracy: 0.6272\n",
            "Epoch 147/150\n",
            "337/337 [==============================] - 1s 2ms/step - loss: 0.6424 - accuracy: 0.6277 - val_loss: 0.6421 - val_accuracy: 0.6265\n",
            "Epoch 148/150\n",
            "337/337 [==============================] - 1s 2ms/step - loss: 0.6423 - accuracy: 0.6284 - val_loss: 0.6426 - val_accuracy: 0.6265\n",
            "Epoch 149/150\n",
            "337/337 [==============================] - 1s 2ms/step - loss: 0.6416 - accuracy: 0.6296 - val_loss: 0.6469 - val_accuracy: 0.6118\n",
            "Epoch 150/150\n",
            "337/337 [==============================] - 1s 2ms/step - loss: 0.6400 - accuracy: 0.6243 - val_loss: 0.6427 - val_accuracy: 0.6265\n"
          ],
          "name": "stdout"
        }
      ]
    },
    {
      "cell_type": "markdown",
      "metadata": {
        "id": "YiGIz1r9Ke4w",
        "colab_type": "text"
      },
      "source": [
        "Let's take a look at the model's performance in terms of accuracy."
      ]
    },
    {
      "cell_type": "code",
      "metadata": {
        "id": "_Luk9tRA1jHU",
        "colab_type": "code",
        "outputId": "4185aca1-b86e-453f-c5c4-8d042b9117d3",
        "colab": {
          "base_uri": "https://localhost:8080/",
          "height": 295
        }
      },
      "source": [
        "import matplotlib.pyplot as plt\n",
        "\n",
        "plt.plot(history2.history['accuracy'])\n",
        "plt.plot(history2.history['val_accuracy'])\n",
        "plt.title('Training v. Validation Accuracy')\n",
        "plt.ylabel('Accuracy')\n",
        "plt.xlabel('Epoch')\n",
        "plt.legend(['Train', 'Validation'], loc='upper left')\n",
        "plt.show()"
      ],
      "execution_count": 0,
      "outputs": [
        {
          "output_type": "display_data",
          "data": {
            "image/png": "[encoded data removed]",
            "text/plain": [
              "<Figure size 432x288 with 1 Axes>"
            ]
          },
          "metadata": {
            "tags": [],
            "needs_background": "light"
          }
        }
      ]
    },
    {
      "cell_type": "markdown",
      "metadata": {
        "id": "rKrA5EE0KmzR",
        "colab_type": "text"
      },
      "source": [
        "Okay, this is actually pretty decent. The validation and training accuracies track each other fairly well and we don't see much evidence of overfitting or underfitting. With a final validation accuracy of 62.65%, let's take a look at the loss."
      ]
    },
    {
      "cell_type": "code",
      "metadata": {
        "id": "iFSt2bSO1pDB",
        "colab_type": "code",
        "outputId": "7bbf2d9e-5264-4896-ec79-77f33a69179d",
        "colab": {
          "base_uri": "https://localhost:8080/",
          "height": 295
        }
      },
      "source": [
        "plt.plot(history2.history['loss'])\n",
        "plt.plot(history2.history['val_loss'])\n",
        "plt.title('Training v. Validation Loss')\n",
        "plt.ylabel('Loss')\n",
        "plt.xlabel('Epoch')\n",
        "plt.legend(['Train', 'Validation'], loc='upper left')\n",
        "plt.show()"
      ],
      "execution_count": 0,
      "outputs": [
        {
          "output_type": "display_data",
          "data": {
            "image/png": "[encoded data removed]",
            "text/plain": [
              "<Figure size 432x288 with 1 Axes>"
            ]
          },
          "metadata": {
            "tags": [],
            "needs_background": "light"
          }
        }
      ]
    },
    {
      "cell_type": "markdown",
      "metadata": {
        "id": "ZCXl2Vu7LE13",
        "colab_type": "text"
      },
      "source": [
        "Like we saw in the accuracy, we see a close tracking between the training and validation losses. This model looks to be about as good as it will get, so let's save it and test it out.\n",
        "\n",
        "**NOTE: The next block of code will save the model to the same content folder as our dataset in the Colab runtime. If you want to keep the model, be sure to right click and download it from the Colab directory.**"
      ]
    },
    {
      "cell_type": "code",
      "metadata": {
        "id": "eCjp34OeRYwz",
        "colab_type": "code",
        "colab": {}
      },
      "source": [
        "model.save('coachingModel.h5')"
      ],
      "execution_count": 0,
      "outputs": []
    },
    {
      "cell_type": "markdown",
      "metadata": {
        "id": "5Q15570-Lz79",
        "colab_type": "text"
      },
      "source": [
        "##Testing the Model\n",
        "\n",
        "To test how good our model is on unseen data, we will use it to try to predict every play in the 2019 Big XII Championship Game between Oklahoma and Baylor. Since our model did not train or validate on any play from this game, it should be a good test of how well our model generalizes on new data."
      ]
    },
    {
      "cell_type": "markdown",
      "metadata": {
        "id": "U4ESYOD8MdNZ",
        "colab_type": "text"
      },
      "source": [
        "To begin, we have to go through the same process of uploading the test dataset to Colab, setting our target values, and vectorizing and transforming the data for use in a neural network.\n",
        "\n",
        "Again, we must be careful to only transform the test set to the scale saved in the StandardScaler, which was fit on the test data at the beginning of the notebook. This is important in the test set because in a real-life scenario, the only context for scale we would have as plays occur would be every play that's previously occured."
      ]
    },
    {
      "cell_type": "code",
      "metadata": {
        "id": "C1Z6fHPXzdGe",
        "colab_type": "code",
        "outputId": "20aba60f-bef3-4528-e575-855e0f9015dd",
        "colab": {
          "base_uri": "https://localhost:8080/",
          "height": 424
        }
      },
      "source": [
        "testDF = pd.read_csv('/content/test.csv')\n",
        "XGame = testDF.iloc[:,0:8]\n",
        "yGame= testDF.iloc[:,8]\n",
        "\n",
        "XGame = XGame.replace({True:1, False:0})\n",
        "yGame = yGame.replace({'Rush':0, 'Pass':1})\n",
        "yGame = to_categorical(yGame)\n",
        "\n",
        "scaled_features = XGame.copy()\n",
        "features = scaled_features[numeric]\n",
        "features = ss.transform(features.values)\n",
        "\n",
        "scaled_features[numeric] = features\n",
        "\n",
        "XGame = scaled_features\n",
        "XGame"
      ],
      "execution_count": 0,
      "outputs": [
        {
          "output_type": "execute_result",
          "data": {
            "text/html": [
              "<div>\n",
              "<style scoped>\n",
              "    .dataframe tbody tr th:only-of-type {\n",
              "        vertical-align: middle;\n",
              "    }\n",
              "\n",
              "    .dataframe tbody tr th {\n",
              "        vertical-align: top;\n",
              "    }\n",
              "\n",
              "    .dataframe thead th {\n",
              "        text-align: right;\n",
              "    }\n",
              "</style>\n",
              "<table border=\"1\" class=\"dataframe\">\n",
              "  <thead>\n",
              "    <tr style=\"text-align: right;\">\n",
              "      <th></th>\n",
              "      <th>score_differential</th>\n",
              "      <th>oneScoreGame</th>\n",
              "      <th>period</th>\n",
              "      <th>seconds_remaining</th>\n",
              "      <th>secondsInHalf</th>\n",
              "      <th>yardsToGoal</th>\n",
              "      <th>down</th>\n",
              "      <th>distance</th>\n",
              "    </tr>\n",
              "  </thead>\n",
              "  <tbody>\n",
              "    <tr>\n",
              "      <th>0</th>\n",
              "      <td>0.185006</td>\n",
              "      <td>1</td>\n",
              "      <td>-1.318750</td>\n",
              "      <td>1.151675</td>\n",
              "      <td>0.624239</td>\n",
              "      <td>-1.205848</td>\n",
              "      <td>0.312044</td>\n",
              "      <td>0.402360</td>\n",
              "    </tr>\n",
              "    <tr>\n",
              "      <th>1</th>\n",
              "      <td>0.380109</td>\n",
              "      <td>0</td>\n",
              "      <td>-0.436965</td>\n",
              "      <td>0.682721</td>\n",
              "      <td>-0.283148</td>\n",
              "      <td>0.906015</td>\n",
              "      <td>-0.919077</td>\n",
              "      <td>0.402360</td>\n",
              "    </tr>\n",
              "    <tr>\n",
              "      <th>2</th>\n",
              "      <td>0.185006</td>\n",
              "      <td>1</td>\n",
              "      <td>-0.436965</td>\n",
              "      <td>0.340892</td>\n",
              "      <td>-0.944557</td>\n",
              "      <td>0.499887</td>\n",
              "      <td>1.543166</td>\n",
              "      <td>1.176870</td>\n",
              "    </tr>\n",
              "    <tr>\n",
              "      <th>3</th>\n",
              "      <td>-0.270233</td>\n",
              "      <td>1</td>\n",
              "      <td>-0.436965</td>\n",
              "      <td>0.069689</td>\n",
              "      <td>-1.469311</td>\n",
              "      <td>1.515206</td>\n",
              "      <td>1.543166</td>\n",
              "      <td>0.144191</td>\n",
              "    </tr>\n",
              "    <tr>\n",
              "      <th>4</th>\n",
              "      <td>0.185006</td>\n",
              "      <td>1</td>\n",
              "      <td>1.326604</td>\n",
              "      <td>-1.111172</td>\n",
              "      <td>-0.474465</td>\n",
              "      <td>-1.693201</td>\n",
              "      <td>1.543166</td>\n",
              "      <td>-0.372149</td>\n",
              "    </tr>\n",
              "    <tr>\n",
              "      <th>...</th>\n",
              "      <td>...</td>\n",
              "      <td>...</td>\n",
              "      <td>...</td>\n",
              "      <td>...</td>\n",
              "      <td>...</td>\n",
              "      <td>...</td>\n",
              "      <td>...</td>\n",
              "      <td>...</td>\n",
              "    </tr>\n",
              "    <tr>\n",
              "      <th>69</th>\n",
              "      <td>0.185006</td>\n",
              "      <td>1</td>\n",
              "      <td>-1.318750</td>\n",
              "      <td>1.371086</td>\n",
              "      <td>1.048779</td>\n",
              "      <td>-1.733814</td>\n",
              "      <td>0.312044</td>\n",
              "      <td>-0.630319</td>\n",
              "    </tr>\n",
              "    <tr>\n",
              "      <th>70</th>\n",
              "      <td>0.185006</td>\n",
              "      <td>1</td>\n",
              "      <td>2.208388</td>\n",
              "      <td>-2.556645</td>\n",
              "      <td>-3.271331</td>\n",
              "      <td>-1.774426</td>\n",
              "      <td>0.312044</td>\n",
              "      <td>-1.146658</td>\n",
              "    </tr>\n",
              "    <tr>\n",
              "      <th>71</th>\n",
              "      <td>0.185006</td>\n",
              "      <td>1</td>\n",
              "      <td>-1.318750</td>\n",
              "      <td>1.144142</td>\n",
              "      <td>0.609662</td>\n",
              "      <td>-1.205848</td>\n",
              "      <td>1.543166</td>\n",
              "      <td>0.402360</td>\n",
              "    </tr>\n",
              "    <tr>\n",
              "      <th>72</th>\n",
              "      <td>0.380109</td>\n",
              "      <td>0</td>\n",
              "      <td>-0.436965</td>\n",
              "      <td>0.649762</td>\n",
              "      <td>-0.346921</td>\n",
              "      <td>0.459275</td>\n",
              "      <td>-0.919077</td>\n",
              "      <td>0.402360</td>\n",
              "    </tr>\n",
              "    <tr>\n",
              "      <th>73</th>\n",
              "      <td>-0.270233</td>\n",
              "      <td>1</td>\n",
              "      <td>-0.436965</td>\n",
              "      <td>0.111123</td>\n",
              "      <td>-1.389140</td>\n",
              "      <td>1.230917</td>\n",
              "      <td>0.312044</td>\n",
              "      <td>-1.662998</td>\n",
              "    </tr>\n",
              "  </tbody>\n",
              "</table>\n",
              "<p>74 rows × 8 columns</p>\n",
              "</div>"
            ],
            "text/plain": [
              "    score_differential  oneScoreGame    period  ...  yardsToGoal      down  distance\n",
              "0             0.185006             1 -1.318750  ...    -1.205848  0.312044  0.402360\n",
              "1             0.380109             0 -0.436965  ...     0.906015 -0.919077  0.402360\n",
              "2             0.185006             1 -0.436965  ...     0.499887  1.543166  1.176870\n",
              "3            -0.270233             1 -0.436965  ...     1.515206  1.543166  0.144191\n",
              "4             0.185006             1  1.326604  ...    -1.693201  1.543166 -0.372149\n",
              "..                 ...           ...       ...  ...          ...       ...       ...\n",
              "69            0.185006             1 -1.318750  ...    -1.733814  0.312044 -0.630319\n",
              "70            0.185006             1  2.208388  ...    -1.774426  0.312044 -1.146658\n",
              "71            0.185006             1 -1.318750  ...    -1.205848  1.543166  0.402360\n",
              "72            0.380109             0 -0.436965  ...     0.459275 -0.919077  0.402360\n",
              "73           -0.270233             1 -0.436965  ...     1.230917  0.312044 -1.662998\n",
              "\n",
              "[74 rows x 8 columns]"
            ]
          },
          "metadata": {
            "tags": []
          },
          "execution_count": 15
        }
      ]
    },
    {
      "cell_type": "markdown",
      "metadata": {
        "id": "MQZ6vEmeNDkT",
        "colab_type": "text"
      },
      "source": [
        "Looks good. Now let's use our model to evaluate the game and see how well we do."
      ]
    },
    {
      "cell_type": "markdown",
      "metadata": {
        "id": "mbnP9rN7MzXp",
        "colab_type": "text"
      },
      "source": [
        "###Model Performance\n",
        "\n",
        "With our test data all set up for input into our model, we are ready to test it out. We can use the Keras **evaluate** model function to get predictions for every play in the dataset."
      ]
    },
    {
      "cell_type": "code",
      "metadata": {
        "colab_type": "code",
        "outputId": "a870aff0-019c-408c-a78b-4cde88f229cc",
        "id": "SZTrB8kI_z51",
        "colab": {
          "base_uri": "https://localhost:8080/",
          "height": 53
        }
      },
      "source": [
        "model.evaluate(XGame, yGame)"
      ],
      "execution_count": 0,
      "outputs": [
        {
          "output_type": "stream",
          "text": [
            "3/3 [==============================] - 0s 1ms/step - loss: 0.6990 - accuracy: 0.5946\n"
          ],
          "name": "stdout"
        },
        {
          "output_type": "execute_result",
          "data": {
            "text/plain": [
              "[0.6990373134613037, 0.5945945978164673]"
            ]
          },
          "metadata": {
            "tags": []
          },
          "execution_count": 16
        }
      ]
    },
    {
      "cell_type": "markdown",
      "metadata": {
        "id": "rnJcev75ObVu",
        "colab_type": "text"
      },
      "source": [
        "In this test set we only get about a 59.45% accuracy, even though we had a 62.65% final validation accuracy.  This 3% difference may seem significant, and it surely is, but our test set only had 74 plays in it. As such, in the context of this test set, we only got about two more predictions incorrect than our validation set would have us believe we are capable of.\n",
        "\n",
        "Let's take a closer look using the sklearn **classification report** which has several parameters beyond just accuracy which may help us better understand the behaviour of our model:\n",
        "\n",
        "\n",
        "*   *Precision* - The ratio of true positives to true positives plus false positives. In other words, the percentage of predictions that were correct for a given class.\n",
        "*   *Recall* - The ratio of true positives to true positives plus false positives. In other words, the percentage of instances of a certain class that were correctly identified.\n",
        "*   *f1-score* - The harmonic mean between precision and recall. Typically, this value is a bit more informative than just plain accuracy.\n",
        "* *support* - The number insances of a certain class in the test set.\n",
        "\n",
        "\n",
        "\n"
      ]
    },
    {
      "cell_type": "code",
      "metadata": {
        "id": "C2ZuI8twA2VA",
        "colab_type": "code",
        "outputId": "b24cc047-6b2d-430a-c244-b39fb70e66cf",
        "colab": {
          "base_uri": "https://localhost:8080/",
          "height": 255
        }
      },
      "source": [
        "from sklearn.metrics import classification_report\n",
        "\n",
        "Y_test = np.argmax(yGame, axis=1) # Convert one-hot to index\n",
        "y_pred = model.predict_classes(XGame)\n",
        "print(classification_report(Y_test, y_pred, target_names=['Rush', 'Pass'], digits=4))"
      ],
      "execution_count": 0,
      "outputs": [
        {
          "output_type": "stream",
          "text": [
            "WARNING:tensorflow:From <ipython-input-17-2fc6320c7a16>:4: Sequential.predict_classes (from tensorflow.python.keras.engine.sequential) is deprecated and will be removed after 2021-01-01.\n",
            "Instructions for updating:\n",
            "Please use instead:* `np.argmax(model.predict(x), axis=-1)`,   if your model does multi-class classification   (e.g. if it uses a `softmax` last-layer activation).* `(model.predict(x) > 0.5).astype(\"int32\")`,   if your model does binary classification   (e.g. if it uses a `sigmoid` last-layer activation).\n",
            "              precision    recall  f1-score   support\n",
            "\n",
            "        Rush     0.7576    0.5319    0.6250        47\n",
            "        Pass     0.4634    0.7037    0.5588        27\n",
            "\n",
            "    accuracy                         0.5946        74\n",
            "   macro avg     0.6105    0.6178    0.5919        74\n",
            "weighted avg     0.6502    0.5946    0.6009        74\n",
            "\n"
          ],
          "name": "stdout"
        }
      ]
    },
    {
      "cell_type": "markdown",
      "metadata": {
        "id": "wPnHs82Wi1zy",
        "colab_type": "text"
      },
      "source": [
        "Reading this chart, we are able to deduce that our model guesses \"Pass\" more often than \"Rush'. Since Pass has low precision, and high recall, we must be guessing pass a lot. \n",
        "\n",
        "In the context of football, this is probably a good thing- to over guess on pass, instead of rush. Pass plays potentially result in large gains and scoring opportunities. If we predict pass plays more often, we would position our defense in such a way to prevent these big plays from happening too often."
      ]
    },
    {
      "cell_type": "markdown",
      "metadata": {
        "id": "rlp-YyVAuVEf",
        "colab_type": "text"
      },
      "source": [
        "##Conclusion\n",
        "\n",
        "This notebook explored whether or not we could evaluate the predictability of Lincoln Riley using data derived from the information available on the scoreboard.\n",
        "\n",
        "Ultimately, we were able to produce a model that achieved around 60% accuracy on a single test game. This may not seem that high, but we must remember that in the context of football, it pays to be unpredictable. If a coach were predictable, they surely would not have the same success that Lincoln Riley has experienced.\n",
        "\n",
        "We can get better, though. I'm sure of it. Let's see if we can use the Big XII Conference to predict Lincoln Riley's play-calling behavior. Perhaps he simply calls plays in the way that all of the coaches in the Big XII do. We will explore this idea in Part II of this series, [building a conference model](https://colab.research.google.com/drive/19qggMX5b_FWNvDxkJsxlwpzjAHW4fKl2#offline=true&sandboxMode=true).\n",
        "\n"
      ]
    }
  ]
}