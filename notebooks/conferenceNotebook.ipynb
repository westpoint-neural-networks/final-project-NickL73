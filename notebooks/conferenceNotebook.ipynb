{
  "nbformat": 4,
  "nbformat_minor": 0,
  "metadata": {
    "colab": {
      "name": "conferenceNotebook.ipynb",
      "provenance": [],
      "collapsed_sections": [],
      "toc_visible": true
    },
    "kernelspec": {
      "name": "python3",
      "display_name": "Python 3"
    }
  },
  "cells": [
    {
      "cell_type": "markdown",
      "metadata": {
        "id": "M3EYJ9u7555J",
        "colab_type": "text"
      },
      "source": [
        "# Ahead of the Game: Coaching Predictability in NCAA Football\n",
        "\n",
        "This notebook is Part II in a series that seeks to model the predictability of offenseive playcallers in the NCAA FBS football league. While this idea could be practically applied to any offensive playcaller in the game, we will use Lincoln Riley, the head coach of the Oklahoma Sooners, as a singular case study.\n",
        "\n",
        "In [Part I](https://colab.research.google.com/drive/1ITENEu7jQ-3Hox3Mxr-TRgueKHElmwCH#offline=true&sandboxMode=true), we used all of Lincoln Riley's called plays to try to predict his coaching behavior. In this notebook, we will explore whether or not Mr. Riley's behavior can be better predicted using a model of the aggregate coaching behavior in the Big XII.\n",
        "\n",
        "**NOTE: This notebook is meant to be used in [Google Colaboratory](https://colab.research.google.com). The instructions will assume as much, and may not be accurate if you're using a different platform.**\n",
        "\n",
        "We'll begin just as we did in Part I of the series, by importing the base modules necessary to start and setting a random seed."
      ]
    },
    {
      "cell_type": "code",
      "metadata": {
        "id": "6D1D1RlKcG4G",
        "colab_type": "code",
        "colab": {}
      },
      "source": [
        "from numpy.random import seed\n",
        "import random\n",
        "\n",
        "seed(485)\n",
        "random.seed(485)"
      ],
      "execution_count": 0,
      "outputs": []
    },
    {
      "cell_type": "code",
      "metadata": {
        "id": "apZ5EmTBvCxE",
        "colab_type": "code",
        "colab": {}
      },
      "source": [
        "import pandas as pd\n",
        "import numpy as np\n",
        "import tensorflow"
      ],
      "execution_count": 0,
      "outputs": []
    },
    {
      "cell_type": "markdown",
      "metadata": {
        "id": "1DxYyhZ37bXr",
        "colab_type": "text"
      },
      "source": [
        "## Preparing our Data\n",
        "\n",
        "The data we will be using was again scraped from [collegefootballdata.com](https://www.collegefootballdata.com)\n",
        "\n",
        "Since Oklahoma is a member of the Big XII conference, our dataset will consist of every play that's been run by a Big XII team since Lincoln Riley started at Oklahoma in 2016. As such, it will be much larger than our previous data set."
      ]
    },
    {
      "cell_type": "markdown",
      "metadata": {
        "id": "fF0wIatS78FK",
        "colab_type": "text"
      },
      "source": [
        "Again, we will need to import the data. To do this on Google Colab, you will first need to download the \"conferenceData.csv\" from the models folder in the [GitHub repository](https://github.com/westpoint-neural-networks/final-project-NickL73). Next, you will need to click on the folder icon on the toolbar to the left of Google Colab and upload the dataset.\n",
        "\n",
        "Once you have done that, load it into a Pandas dataframe and we'll inspect the data."
      ]
    },
    {
      "cell_type": "code",
      "metadata": {
        "id": "15OBpS2NwChs",
        "colab_type": "code",
        "colab": {
          "base_uri": "https://localhost:8080/",
          "height": 424
        },
        "outputId": "dba6888e-d9d7-429d-b3e3-c9eb2ffa8096"
      },
      "source": [
        "df = pd.read_csv('/content/conferenceData.csv')\n",
        "df"
      ],
      "execution_count": 3,
      "outputs": [
        {
          "output_type": "execute_result",
          "data": {
            "text/html": [
              "<div>\n",
              "<style scoped>\n",
              "    .dataframe tbody tr th:only-of-type {\n",
              "        vertical-align: middle;\n",
              "    }\n",
              "\n",
              "    .dataframe tbody tr th {\n",
              "        vertical-align: top;\n",
              "    }\n",
              "\n",
              "    .dataframe thead th {\n",
              "        text-align: right;\n",
              "    }\n",
              "</style>\n",
              "<table border=\"1\" class=\"dataframe\">\n",
              "  <thead>\n",
              "    <tr style=\"text-align: right;\">\n",
              "      <th></th>\n",
              "      <th>score_differential</th>\n",
              "      <th>oneScoreGame</th>\n",
              "      <th>period</th>\n",
              "      <th>seconds_remaining</th>\n",
              "      <th>secondsInHalf</th>\n",
              "      <th>yardsToGoal</th>\n",
              "      <th>down</th>\n",
              "      <th>distance</th>\n",
              "      <th>play_type</th>\n",
              "    </tr>\n",
              "  </thead>\n",
              "  <tbody>\n",
              "    <tr>\n",
              "      <th>0</th>\n",
              "      <td>-14</td>\n",
              "      <td>False</td>\n",
              "      <td>3</td>\n",
              "      <td>1517</td>\n",
              "      <td>1517</td>\n",
              "      <td>31</td>\n",
              "      <td>1</td>\n",
              "      <td>10</td>\n",
              "      <td>Rush</td>\n",
              "    </tr>\n",
              "    <tr>\n",
              "      <th>1</th>\n",
              "      <td>-17</td>\n",
              "      <td>False</td>\n",
              "      <td>3</td>\n",
              "      <td>1017</td>\n",
              "      <td>1017</td>\n",
              "      <td>23</td>\n",
              "      <td>1</td>\n",
              "      <td>10</td>\n",
              "      <td>Rush</td>\n",
              "    </tr>\n",
              "    <tr>\n",
              "      <th>2</th>\n",
              "      <td>0</td>\n",
              "      <td>True</td>\n",
              "      <td>1</td>\n",
              "      <td>3600</td>\n",
              "      <td>1800</td>\n",
              "      <td>77</td>\n",
              "      <td>2</td>\n",
              "      <td>12</td>\n",
              "      <td>Rush</td>\n",
              "    </tr>\n",
              "    <tr>\n",
              "      <th>3</th>\n",
              "      <td>3</td>\n",
              "      <td>True</td>\n",
              "      <td>2</td>\n",
              "      <td>2700</td>\n",
              "      <td>900</td>\n",
              "      <td>6</td>\n",
              "      <td>1</td>\n",
              "      <td>6</td>\n",
              "      <td>Rush</td>\n",
              "    </tr>\n",
              "    <tr>\n",
              "      <th>4</th>\n",
              "      <td>0</td>\n",
              "      <td>True</td>\n",
              "      <td>1</td>\n",
              "      <td>3066</td>\n",
              "      <td>1266</td>\n",
              "      <td>10</td>\n",
              "      <td>1</td>\n",
              "      <td>10</td>\n",
              "      <td>Rush</td>\n",
              "    </tr>\n",
              "    <tr>\n",
              "      <th>...</th>\n",
              "      <td>...</td>\n",
              "      <td>...</td>\n",
              "      <td>...</td>\n",
              "      <td>...</td>\n",
              "      <td>...</td>\n",
              "      <td>...</td>\n",
              "      <td>...</td>\n",
              "      <td>...</td>\n",
              "      <td>...</td>\n",
              "    </tr>\n",
              "    <tr>\n",
              "      <th>39853</th>\n",
              "      <td>-9</td>\n",
              "      <td>False</td>\n",
              "      <td>2</td>\n",
              "      <td>2070</td>\n",
              "      <td>270</td>\n",
              "      <td>26</td>\n",
              "      <td>2</td>\n",
              "      <td>2</td>\n",
              "      <td>Rush</td>\n",
              "    </tr>\n",
              "    <tr>\n",
              "      <th>39854</th>\n",
              "      <td>28</td>\n",
              "      <td>False</td>\n",
              "      <td>4</td>\n",
              "      <td>502</td>\n",
              "      <td>502</td>\n",
              "      <td>8</td>\n",
              "      <td>1</td>\n",
              "      <td>8</td>\n",
              "      <td>Rush</td>\n",
              "    </tr>\n",
              "    <tr>\n",
              "      <th>39855</th>\n",
              "      <td>-24</td>\n",
              "      <td>False</td>\n",
              "      <td>4</td>\n",
              "      <td>315</td>\n",
              "      <td>315</td>\n",
              "      <td>1</td>\n",
              "      <td>3</td>\n",
              "      <td>0</td>\n",
              "      <td>Rush</td>\n",
              "    </tr>\n",
              "    <tr>\n",
              "      <th>39856</th>\n",
              "      <td>-7</td>\n",
              "      <td>True</td>\n",
              "      <td>1</td>\n",
              "      <td>3476</td>\n",
              "      <td>1676</td>\n",
              "      <td>27</td>\n",
              "      <td>3</td>\n",
              "      <td>9</td>\n",
              "      <td>Rush</td>\n",
              "    </tr>\n",
              "    <tr>\n",
              "      <th>39857</th>\n",
              "      <td>-3</td>\n",
              "      <td>True</td>\n",
              "      <td>2</td>\n",
              "      <td>2110</td>\n",
              "      <td>310</td>\n",
              "      <td>52</td>\n",
              "      <td>1</td>\n",
              "      <td>10</td>\n",
              "      <td>Rush</td>\n",
              "    </tr>\n",
              "  </tbody>\n",
              "</table>\n",
              "<p>39858 rows × 9 columns</p>\n",
              "</div>"
            ],
            "text/plain": [
              "       score_differential  oneScoreGame  period  ...  down  distance  play_type\n",
              "0                     -14         False       3  ...     1        10       Rush\n",
              "1                     -17         False       3  ...     1        10       Rush\n",
              "2                       0          True       1  ...     2        12       Rush\n",
              "3                       3          True       2  ...     1         6       Rush\n",
              "4                       0          True       1  ...     1        10       Rush\n",
              "...                   ...           ...     ...  ...   ...       ...        ...\n",
              "39853                  -9         False       2  ...     2         2       Rush\n",
              "39854                  28         False       4  ...     1         8       Rush\n",
              "39855                 -24         False       4  ...     3         0       Rush\n",
              "39856                  -7          True       1  ...     3         9       Rush\n",
              "39857                  -3          True       2  ...     1        10       Rush\n",
              "\n",
              "[39858 rows x 9 columns]"
            ]
          },
          "metadata": {
            "tags": []
          },
          "execution_count": 3
        }
      ]
    },
    {
      "cell_type": "markdown",
      "metadata": {
        "id": "w0IAsqpIydnx",
        "colab_type": "text"
      },
      "source": [
        "Just as before, the data has been to clean certain features and engineer other features before use. Notice that with this dataset, we have about four times as many plays. This will hopefully make our model better, since it has more data to train on.\n",
        "\n",
        "\n",
        "Now that we have our data in a Pandas data frame, we have to prepare it for use in a neural network. The first step will be to formally define our target values (the play type) and input values (the scoreboard information) by [indexing](https://pandas.pydata.org/pandas-docs/stable/reference/api/pandas.DataFrame.iloc.html) our dataframe."
      ]
    },
    {
      "cell_type": "code",
      "metadata": {
        "id": "ahSpeEIvxjI-",
        "colab_type": "code",
        "colab": {}
      },
      "source": [
        "X = df.iloc[:,0:8]\n",
        "y = df.iloc[:,8]"
      ],
      "execution_count": 0,
      "outputs": []
    },
    {
      "cell_type": "markdown",
      "metadata": {
        "id": "fm6-Sx1i96dM",
        "colab_type": "text"
      },
      "source": [
        "### Vectorizing the Data\n",
        "\n",
        "For use in a neural network, each piece of data must be interpretable by a machine. This means things like our values of \"True\" and \"False\", as well as our target values of \"Rush\" and \"Pass\", must be converted into some number. To do this, we will simply binarize the data.\n",
        "\n",
        "While we're at it, we'll go ahead and convert our target values into Keras categorical one-hot values."
      ]
    },
    {
      "cell_type": "code",
      "metadata": {
        "id": "7FlStfi06Ksg",
        "colab_type": "code",
        "outputId": "8eb4c836-5e2a-4296-90d9-4cfe7e867604",
        "colab": {
          "base_uri": "https://localhost:8080/",
          "height": 35
        }
      },
      "source": [
        "from keras.utils import to_categorical\n",
        "\n",
        "X = X.replace({True:1, False:0})\n",
        "y = y.replace({'Rush':0, 'Pass':1})\n",
        "y = to_categorical(y)"
      ],
      "execution_count": 5,
      "outputs": [
        {
          "output_type": "stream",
          "text": [
            "Using TensorFlow backend.\n"
          ],
          "name": "stderr"
        }
      ]
    },
    {
      "cell_type": "markdown",
      "metadata": {
        "id": "3v9zyosv-WKd",
        "colab_type": "text"
      },
      "source": [
        "### Splitting the Data\n",
        "\n",
        "Like in the coaching notebook, we'll split our dataset into training and validation sets using the scikit-learn [train_test_split](https://scikit-learn.org/stable/modules/generated/sklearn.model_selection.train_test_split.html) function\n",
        "\n",
        "We will again use 85% of the data in the training set, and the remaining 15% of the data in the validation set."
      ]
    },
    {
      "cell_type": "code",
      "metadata": {
        "id": "whLbGZQPyFg5",
        "colab_type": "code",
        "colab": {}
      },
      "source": [
        "from sklearn.model_selection import train_test_split\n",
        "X_train, X_validation, y_train, y_validation = train_test_split(X, y, test_size=0.15)"
      ],
      "execution_count": 0,
      "outputs": []
    },
    {
      "cell_type": "markdown",
      "metadata": {
        "id": "KYOArwPD3b5O",
        "colab_type": "text"
      },
      "source": [
        "###Scaling and Normalizing the Data\n",
        "\n",
        "Applying the sklearn [StandardScaler](https://stackoverflow.com/questions/38420847/apply-standardscaler-to-parts-of-a-data-set) to the features of our DataFrame seemed to work pretty well last time.We'll do that again, remembering to only by fit the StandardScaler to our **training data**. It's very important that we do not do this to the validation data at the same time, as that would cause data leakage in the model and decrease the overall accuracy of our model."
      ]
    },
    {
      "cell_type": "code",
      "metadata": {
        "id": "pya78CZJMBB0",
        "colab_type": "code",
        "outputId": "12139cbe-dfa1-4af3-cd39-021ca65f157e",
        "colab": {
          "base_uri": "https://localhost:8080/",
          "height": 424
        }
      },
      "source": [
        "from sklearn.preprocessing import StandardScaler\n",
        "\n",
        "ss = StandardScaler()\n",
        "numeric = ['score_differential', 'period', 'seconds_remaining', 'secondsInHalf', 'yardsToGoal', 'down', 'distance']\n",
        "scaled_features = X_train.copy()\n",
        "features = scaled_features[numeric]\n",
        "scaler = ss.fit(features.values)\n",
        "features = ss.transform(features.values)\n",
        "\n",
        "scaled_features[numeric] = features\n",
        "\n",
        "X_train = scaled_features\n",
        "X_train"
      ],
      "execution_count": 7,
      "outputs": [
        {
          "output_type": "execute_result",
          "data": {
            "text/html": [
              "<div>\n",
              "<style scoped>\n",
              "    .dataframe tbody tr th:only-of-type {\n",
              "        vertical-align: middle;\n",
              "    }\n",
              "\n",
              "    .dataframe tbody tr th {\n",
              "        vertical-align: top;\n",
              "    }\n",
              "\n",
              "    .dataframe thead th {\n",
              "        text-align: right;\n",
              "    }\n",
              "</style>\n",
              "<table border=\"1\" class=\"dataframe\">\n",
              "  <thead>\n",
              "    <tr style=\"text-align: right;\">\n",
              "      <th></th>\n",
              "      <th>score_differential</th>\n",
              "      <th>oneScoreGame</th>\n",
              "      <th>period</th>\n",
              "      <th>seconds_remaining</th>\n",
              "      <th>secondsInHalf</th>\n",
              "      <th>yardsToGoal</th>\n",
              "      <th>down</th>\n",
              "      <th>distance</th>\n",
              "    </tr>\n",
              "  </thead>\n",
              "  <tbody>\n",
              "    <tr>\n",
              "      <th>15772</th>\n",
              "      <td>-1.483643</td>\n",
              "      <td>0</td>\n",
              "      <td>0.431835</td>\n",
              "      <td>-0.447860</td>\n",
              "      <td>0.782926</td>\n",
              "      <td>-0.025787</td>\n",
              "      <td>0.255795</td>\n",
              "      <td>1.624214</td>\n",
              "    </tr>\n",
              "    <tr>\n",
              "      <th>19083</th>\n",
              "      <td>0.872721</td>\n",
              "      <td>0</td>\n",
              "      <td>-1.345717</td>\n",
              "      <td>1.141220</td>\n",
              "      <td>0.556796</td>\n",
              "      <td>-1.303528</td>\n",
              "      <td>0.255795</td>\n",
              "      <td>0.108681</td>\n",
              "    </tr>\n",
              "    <tr>\n",
              "      <th>29131</th>\n",
              "      <td>-0.675747</td>\n",
              "      <td>0</td>\n",
              "      <td>0.431835</td>\n",
              "      <td>-0.167043</td>\n",
              "      <td>1.318400</td>\n",
              "      <td>-1.344746</td>\n",
              "      <td>-0.951853</td>\n",
              "      <td>0.361270</td>\n",
              "    </tr>\n",
              "    <tr>\n",
              "      <th>18799</th>\n",
              "      <td>0.199474</td>\n",
              "      <td>1</td>\n",
              "      <td>-1.345717</td>\n",
              "      <td>1.017889</td>\n",
              "      <td>0.321622</td>\n",
              "      <td>-1.303528</td>\n",
              "      <td>1.463443</td>\n",
              "      <td>0.613858</td>\n",
              "    </tr>\n",
              "    <tr>\n",
              "      <th>20836</th>\n",
              "      <td>2.017240</td>\n",
              "      <td>0</td>\n",
              "      <td>0.431835</td>\n",
              "      <td>-0.117711</td>\n",
              "      <td>1.412470</td>\n",
              "      <td>-0.644049</td>\n",
              "      <td>0.255795</td>\n",
              "      <td>-0.901675</td>\n",
              "    </tr>\n",
              "    <tr>\n",
              "      <th>...</th>\n",
              "      <td>...</td>\n",
              "      <td>...</td>\n",
              "      <td>...</td>\n",
              "      <td>...</td>\n",
              "      <td>...</td>\n",
              "      <td>...</td>\n",
              "      <td>...</td>\n",
              "      <td>...</td>\n",
              "    </tr>\n",
              "    <tr>\n",
              "      <th>22568</th>\n",
              "      <td>-0.069825</td>\n",
              "      <td>1</td>\n",
              "      <td>-1.345717</td>\n",
              "      <td>1.552009</td>\n",
              "      <td>1.340108</td>\n",
              "      <td>-1.221093</td>\n",
              "      <td>-0.951853</td>\n",
              "      <td>0.361270</td>\n",
              "    </tr>\n",
              "    <tr>\n",
              "      <th>35182</th>\n",
              "      <td>0.401448</td>\n",
              "      <td>1</td>\n",
              "      <td>-0.456941</td>\n",
              "      <td>0.469537</td>\n",
              "      <td>-0.724000</td>\n",
              "      <td>0.015430</td>\n",
              "      <td>-0.951853</td>\n",
              "      <td>0.361270</td>\n",
              "    </tr>\n",
              "    <tr>\n",
              "      <th>17985</th>\n",
              "      <td>1.545968</td>\n",
              "      <td>0</td>\n",
              "      <td>-0.456941</td>\n",
              "      <td>0.401231</td>\n",
              "      <td>-0.854251</td>\n",
              "      <td>1.375606</td>\n",
              "      <td>0.255795</td>\n",
              "      <td>0.361270</td>\n",
              "    </tr>\n",
              "    <tr>\n",
              "      <th>174</th>\n",
              "      <td>-1.483643</td>\n",
              "      <td>0</td>\n",
              "      <td>0.431835</td>\n",
              "      <td>-0.294170</td>\n",
              "      <td>1.075989</td>\n",
              "      <td>1.004649</td>\n",
              "      <td>-0.951853</td>\n",
              "      <td>0.361270</td>\n",
              "    </tr>\n",
              "    <tr>\n",
              "      <th>16880</th>\n",
              "      <td>-1.416318</td>\n",
              "      <td>0</td>\n",
              "      <td>-0.456941</td>\n",
              "      <td>0.574844</td>\n",
              "      <td>-0.523197</td>\n",
              "      <td>0.798562</td>\n",
              "      <td>-0.951853</td>\n",
              "      <td>0.361270</td>\n",
              "    </tr>\n",
              "  </tbody>\n",
              "</table>\n",
              "<p>33879 rows × 8 columns</p>\n",
              "</div>"
            ],
            "text/plain": [
              "       score_differential  oneScoreGame  ...      down  distance\n",
              "15772           -1.483643             0  ...  0.255795  1.624214\n",
              "19083            0.872721             0  ...  0.255795  0.108681\n",
              "29131           -0.675747             0  ... -0.951853  0.361270\n",
              "18799            0.199474             1  ...  1.463443  0.613858\n",
              "20836            2.017240             0  ...  0.255795 -0.901675\n",
              "...                   ...           ...  ...       ...       ...\n",
              "22568           -0.069825             1  ... -0.951853  0.361270\n",
              "35182            0.401448             1  ... -0.951853  0.361270\n",
              "17985            1.545968             0  ...  0.255795  0.361270\n",
              "174             -1.483643             0  ... -0.951853  0.361270\n",
              "16880           -1.416318             0  ... -0.951853  0.361270\n",
              "\n",
              "[33879 rows x 8 columns]"
            ]
          },
          "metadata": {
            "tags": []
          },
          "execution_count": 7
        }
      ]
    },
    {
      "cell_type": "markdown",
      "metadata": {
        "id": "ZtpUw_1n5MFH",
        "colab_type": "text"
      },
      "source": [
        "Now that we have instantiated a StandardScaler, we can transform all of the values in the **validation set** to the scale of the **training set**."
      ]
    },
    {
      "cell_type": "code",
      "metadata": {
        "id": "jIWYwqve5Loh",
        "colab_type": "code",
        "outputId": "9b237470-c4cc-462c-83b7-bd8e84f5745e",
        "colab": {
          "base_uri": "https://localhost:8080/",
          "height": 424
        }
      },
      "source": [
        "scaled_features = X_validation.copy()\n",
        "features = scaled_features[numeric]\n",
        "features = ss.transform(features.values)\n",
        "\n",
        "scaled_features[numeric] = features\n",
        "\n",
        "X_validation = scaled_features\n",
        "X_validation"
      ],
      "execution_count": 8,
      "outputs": [
        {
          "output_type": "execute_result",
          "data": {
            "text/html": [
              "<div>\n",
              "<style scoped>\n",
              "    .dataframe tbody tr th:only-of-type {\n",
              "        vertical-align: middle;\n",
              "    }\n",
              "\n",
              "    .dataframe tbody tr th {\n",
              "        vertical-align: top;\n",
              "    }\n",
              "\n",
              "    .dataframe thead th {\n",
              "        text-align: right;\n",
              "    }\n",
              "</style>\n",
              "<table border=\"1\" class=\"dataframe\">\n",
              "  <thead>\n",
              "    <tr style=\"text-align: right;\">\n",
              "      <th></th>\n",
              "      <th>score_differential</th>\n",
              "      <th>oneScoreGame</th>\n",
              "      <th>period</th>\n",
              "      <th>seconds_remaining</th>\n",
              "      <th>secondsInHalf</th>\n",
              "      <th>yardsToGoal</th>\n",
              "      <th>down</th>\n",
              "      <th>distance</th>\n",
              "    </tr>\n",
              "  </thead>\n",
              "  <tbody>\n",
              "    <tr>\n",
              "      <th>25531</th>\n",
              "      <td>0.401448</td>\n",
              "      <td>1</td>\n",
              "      <td>-1.345717</td>\n",
              "      <td>1.493189</td>\n",
              "      <td>1.227948</td>\n",
              "      <td>-0.231875</td>\n",
              "      <td>0.255795</td>\n",
              "      <td>0.361270</td>\n",
              "    </tr>\n",
              "    <tr>\n",
              "      <th>9432</th>\n",
              "      <td>0.603422</td>\n",
              "      <td>0</td>\n",
              "      <td>-1.345717</td>\n",
              "      <td>1.267398</td>\n",
              "      <td>0.797398</td>\n",
              "      <td>0.139083</td>\n",
              "      <td>0.255795</td>\n",
              "      <td>-0.901675</td>\n",
              "    </tr>\n",
              "    <tr>\n",
              "      <th>17736</th>\n",
              "      <td>-0.069825</td>\n",
              "      <td>1</td>\n",
              "      <td>-1.345717</td>\n",
              "      <td>1.665854</td>\n",
              "      <td>1.557192</td>\n",
              "      <td>1.293171</td>\n",
              "      <td>-0.951853</td>\n",
              "      <td>0.361270</td>\n",
              "    </tr>\n",
              "    <tr>\n",
              "      <th>18738</th>\n",
              "      <td>0.401448</td>\n",
              "      <td>1</td>\n",
              "      <td>-1.345717</td>\n",
              "      <td>1.110862</td>\n",
              "      <td>0.498907</td>\n",
              "      <td>1.293171</td>\n",
              "      <td>-0.951853</td>\n",
              "      <td>0.361270</td>\n",
              "    </tr>\n",
              "    <tr>\n",
              "      <th>18991</th>\n",
              "      <td>0.872721</td>\n",
              "      <td>0</td>\n",
              "      <td>0.431835</td>\n",
              "      <td>-0.401373</td>\n",
              "      <td>0.871568</td>\n",
              "      <td>-1.179876</td>\n",
              "      <td>1.463443</td>\n",
              "      <td>-0.901675</td>\n",
              "    </tr>\n",
              "    <tr>\n",
              "      <th>...</th>\n",
              "      <td>...</td>\n",
              "      <td>...</td>\n",
              "      <td>...</td>\n",
              "      <td>...</td>\n",
              "      <td>...</td>\n",
              "      <td>...</td>\n",
              "      <td>...</td>\n",
              "      <td>...</td>\n",
              "    </tr>\n",
              "    <tr>\n",
              "      <th>22280</th>\n",
              "      <td>-0.069825</td>\n",
              "      <td>1</td>\n",
              "      <td>-0.456941</td>\n",
              "      <td>0.515075</td>\n",
              "      <td>-0.637167</td>\n",
              "      <td>-0.561614</td>\n",
              "      <td>-0.951853</td>\n",
              "      <td>0.361270</td>\n",
              "    </tr>\n",
              "    <tr>\n",
              "      <th>22421</th>\n",
              "      <td>1.343994</td>\n",
              "      <td>0</td>\n",
              "      <td>-0.456941</td>\n",
              "      <td>0.162157</td>\n",
              "      <td>-1.310127</td>\n",
              "      <td>-0.520397</td>\n",
              "      <td>-0.951853</td>\n",
              "      <td>0.361270</td>\n",
              "    </tr>\n",
              "    <tr>\n",
              "      <th>22031</th>\n",
              "      <td>-0.339123</td>\n",
              "      <td>1</td>\n",
              "      <td>1.320611</td>\n",
              "      <td>-1.055979</td>\n",
              "      <td>-0.376666</td>\n",
              "      <td>-0.850136</td>\n",
              "      <td>0.255795</td>\n",
              "      <td>-0.143908</td>\n",
              "    </tr>\n",
              "    <tr>\n",
              "      <th>21377</th>\n",
              "      <td>-0.069825</td>\n",
              "      <td>1</td>\n",
              "      <td>-1.345717</td>\n",
              "      <td>1.164938</td>\n",
              "      <td>0.602022</td>\n",
              "      <td>1.210736</td>\n",
              "      <td>-0.951853</td>\n",
              "      <td>0.361270</td>\n",
              "    </tr>\n",
              "    <tr>\n",
              "      <th>30574</th>\n",
              "      <td>0.401448</td>\n",
              "      <td>1</td>\n",
              "      <td>1.320611</td>\n",
              "      <td>-0.903238</td>\n",
              "      <td>-0.085411</td>\n",
              "      <td>-0.850136</td>\n",
              "      <td>-0.951853</td>\n",
              "      <td>0.361270</td>\n",
              "    </tr>\n",
              "  </tbody>\n",
              "</table>\n",
              "<p>5979 rows × 8 columns</p>\n",
              "</div>"
            ],
            "text/plain": [
              "       score_differential  oneScoreGame  ...      down  distance\n",
              "25531            0.401448             1  ...  0.255795  0.361270\n",
              "9432             0.603422             0  ...  0.255795 -0.901675\n",
              "17736           -0.069825             1  ... -0.951853  0.361270\n",
              "18738            0.401448             1  ... -0.951853  0.361270\n",
              "18991            0.872721             0  ...  1.463443 -0.901675\n",
              "...                   ...           ...  ...       ...       ...\n",
              "22280           -0.069825             1  ... -0.951853  0.361270\n",
              "22421            1.343994             0  ... -0.951853  0.361270\n",
              "22031           -0.339123             1  ...  0.255795 -0.143908\n",
              "21377           -0.069825             1  ... -0.951853  0.361270\n",
              "30574            0.401448             1  ... -0.951853  0.361270\n",
              "\n",
              "[5979 rows x 8 columns]"
            ]
          },
          "metadata": {
            "tags": []
          },
          "execution_count": 8
        }
      ]
    },
    {
      "cell_type": "markdown",
      "metadata": {
        "id": "Ruekv4Q0__AB",
        "colab_type": "text"
      },
      "source": [
        "##Building a Model\n",
        "\n",
        "So far, we have seen very little difference between the process in this notebook and the process in Part I. Now, however, we will see a major departure from the coaching model we previously created. This network will have a significantly different architecture and thought process behind it, which will hopefully increase our accuracy even more.\n",
        "\n",
        "**NOTE: Remember that is not a model of Lincoln Riley. Rather, it will be a model of the entire Big XII conference, that we will apply to Lincoln Riley. This is a subtle, but important distinction to make. Even though we might get a high level of predictability for the conference, we still might see low predictability in Lincoln Riley.**"
      ]
    },
    {
      "cell_type": "markdown",
      "metadata": {
        "id": "lGCnyUhcA-zt",
        "colab_type": "text"
      },
      "source": [
        "###Model Architecture\n",
        "\n",
        "Our conference model will be made up of six different layers. Like in the coaching model, we will primarily use Densely connected layers with an **elu** activation function. Notice however, that these Dense layers are separated by a layer of BatchNormalization, which recenters and rescales the input to the next layer. This should help increase the accuracy of our model. Additionally. we specify a lower rate of Dropout.\n",
        "\n",
        "We will again use a **sigmoid** activation in the final layer and **binary_crossentropy** as our loss function, given that this is still a binary classificaton problem.\n",
        "\n",
        "Lastly, we will specify a learning rate for **Adam**, our optimizer. We're doing this because we will ultimately use a learning rate reduction callback while training this model. As such, we need to start with a high learning rate so that we have room to decrease it while training the model."
      ]
    },
    {
      "cell_type": "code",
      "metadata": {
        "id": "9IuJWx7x00fO",
        "colab_type": "code",
        "colab": {}
      },
      "source": [
        "from tensorflow.keras import models, layers, optimizers\n",
        "\n",
        "model = models.Sequential()\n",
        "model.add(layers.Dense(16, activation='elu', input_dim=8))\n",
        "model.add(layers.BatchNormalization())\n",
        "model.add(layers.Dense(16, activation='elu'))\n",
        "model.add(layers.Dropout(0.3))\n",
        "model.add(layers.Dense(2, activation='sigmoid'))\n",
        "\n",
        "ad = optimizers.Adam(learning_rate=0.1)\n",
        "\n",
        "model.compile(optimizer='adam', loss='binary_crossentropy', metrics=['accuracy'])"
      ],
      "execution_count": 0,
      "outputs": []
    },
    {
      "cell_type": "markdown",
      "metadata": {
        "id": "GNSd88tWCF-s",
        "colab_type": "text"
      },
      "source": [
        "###Training the Model\n",
        "\n",
        "With a model defined and compiled, we're ready to begin training."
      ]
    },
    {
      "cell_type": "markdown",
      "metadata": {
        "id": "dYjAeUIxCWk9",
        "colab_type": "text"
      },
      "source": [
        "Before we do so, however, let's write a couple of callbacks that might help us achieve the best model possible.\n",
        "\n",
        "The first callback we will use will be **EarlyStopping**, which monitors the training progress. If the validation scores stop improving for a certain number of epochs, it will stop the training and restore the weights of the best model we saw during training. This is useful because it allows us to set an arbitrarily high number of epochs for training, without having to worry about getting just the right number of epochs for our model.\n",
        "\n",
        "Second, we will use **ReduceLROnPlateau**, which reduces our learning rate if the validation loss of our model seems to stall out. This will make our training in the beginning go a little bit faster, but will slow it down as we get closer and closer to a finely tuned model."
      ]
    },
    {
      "cell_type": "code",
      "metadata": {
        "id": "aTmRdxxFR1qg",
        "colab_type": "code",
        "colab": {}
      },
      "source": [
        "from tensorflow.keras.callbacks import EarlyStopping, ReduceLROnPlateau\n",
        "# early stopping if training for more epochs\n",
        "es_cb = EarlyStopping(monitor = 'val_loss', verbose=1, patience = 25, restore_best_weights=True)\n",
        "\n",
        "#reduce learning rate on plateau\n",
        "rlr_cb = ReduceLROnPlateau(monitor='val_loss', factor=0.1, patience=10)\n",
        "\n",
        "cb_list = [es_cb, rlr_cb]"
      ],
      "execution_count": 0,
      "outputs": []
    },
    {
      "cell_type": "markdown",
      "metadata": {
        "id": "JzFNXLomDSeo",
        "colab_type": "text"
      },
      "source": [
        "With these callbacks defined, we're ready to begin training our model while remembering to set a high number of epochs."
      ]
    },
    {
      "cell_type": "code",
      "metadata": {
        "id": "Q0_trt8e1OgC",
        "colab_type": "code",
        "outputId": "6e69fccb-70e5-49aa-c856-6b9ee50797ea",
        "colab": {
          "base_uri": "https://localhost:8080/",
          "height": 1000
        }
      },
      "source": [
        "history2 = model.fit(X_train, y_train,batch_size=24, epochs=1000, validation_data=(X_validation, y_validation), callbacks=cb_list)"
      ],
      "execution_count": 11,
      "outputs": [
        {
          "output_type": "stream",
          "text": [
            "Epoch 1/1000\n",
            "1412/1412 [==============================] - 3s 2ms/step - loss: 0.6657 - accuracy: 0.6034 - val_loss: 0.6454 - val_accuracy: 0.6284 - lr: 0.0010\n",
            "Epoch 2/1000\n",
            "1412/1412 [==============================] - 2s 2ms/step - loss: 0.6488 - accuracy: 0.6200 - val_loss: 0.6400 - val_accuracy: 0.6392 - lr: 0.0010\n",
            "Epoch 3/1000\n",
            "1412/1412 [==============================] - 2s 2ms/step - loss: 0.6453 - accuracy: 0.6207 - val_loss: 0.6392 - val_accuracy: 0.6369 - lr: 0.0010\n",
            "Epoch 4/1000\n",
            "1412/1412 [==============================] - 2s 2ms/step - loss: 0.6438 - accuracy: 0.6237 - val_loss: 0.6397 - val_accuracy: 0.6351 - lr: 0.0010\n",
            "Epoch 5/1000\n",
            "1412/1412 [==============================] - 2s 2ms/step - loss: 0.6431 - accuracy: 0.6245 - val_loss: 0.6381 - val_accuracy: 0.6377 - lr: 0.0010\n",
            "Epoch 6/1000\n",
            "1412/1412 [==============================] - 2s 2ms/step - loss: 0.6422 - accuracy: 0.6265 - val_loss: 0.6362 - val_accuracy: 0.6407 - lr: 0.0010\n",
            "Epoch 7/1000\n",
            "1412/1412 [==============================] - 2s 2ms/step - loss: 0.6410 - accuracy: 0.6266 - val_loss: 0.6368 - val_accuracy: 0.6401 - lr: 0.0010\n",
            "Epoch 8/1000\n",
            "1412/1412 [==============================] - 2s 2ms/step - loss: 0.6403 - accuracy: 0.6300 - val_loss: 0.6374 - val_accuracy: 0.6394 - lr: 0.0010\n",
            "Epoch 9/1000\n",
            "1412/1412 [==============================] - 2s 2ms/step - loss: 0.6399 - accuracy: 0.6319 - val_loss: 0.6368 - val_accuracy: 0.6406 - lr: 0.0010\n",
            "Epoch 10/1000\n",
            "1412/1412 [==============================] - 2s 2ms/step - loss: 0.6399 - accuracy: 0.6293 - val_loss: 0.6358 - val_accuracy: 0.6391 - lr: 0.0010\n",
            "Epoch 11/1000\n",
            "1412/1412 [==============================] - 2s 2ms/step - loss: 0.6387 - accuracy: 0.6308 - val_loss: 0.6373 - val_accuracy: 0.6352 - lr: 0.0010\n",
            "Epoch 12/1000\n",
            "1412/1412 [==============================] - 2s 2ms/step - loss: 0.6384 - accuracy: 0.6298 - val_loss: 0.6361 - val_accuracy: 0.6397 - lr: 0.0010\n",
            "Epoch 13/1000\n",
            "1412/1412 [==============================] - 2s 2ms/step - loss: 0.6380 - accuracy: 0.6307 - val_loss: 0.6357 - val_accuracy: 0.6406 - lr: 0.0010\n",
            "Epoch 14/1000\n",
            "1412/1412 [==============================] - 2s 2ms/step - loss: 0.6369 - accuracy: 0.6322 - val_loss: 0.6340 - val_accuracy: 0.6411 - lr: 0.0010\n",
            "Epoch 15/1000\n",
            "1412/1412 [==============================] - 2s 2ms/step - loss: 0.6365 - accuracy: 0.6323 - val_loss: 0.6326 - val_accuracy: 0.6399 - lr: 0.0010\n",
            "Epoch 16/1000\n",
            "1412/1412 [==============================] - 2s 2ms/step - loss: 0.6354 - accuracy: 0.6320 - val_loss: 0.6351 - val_accuracy: 0.6387 - lr: 0.0010\n",
            "Epoch 17/1000\n",
            "1412/1412 [==============================] - 2s 2ms/step - loss: 0.6366 - accuracy: 0.6320 - val_loss: 0.6325 - val_accuracy: 0.6417 - lr: 0.0010\n",
            "Epoch 18/1000\n",
            "1412/1412 [==============================] - 3s 2ms/step - loss: 0.6337 - accuracy: 0.6364 - val_loss: 0.6318 - val_accuracy: 0.6387 - lr: 0.0010\n",
            "Epoch 19/1000\n",
            "1412/1412 [==============================] - 3s 2ms/step - loss: 0.6340 - accuracy: 0.6335 - val_loss: 0.6319 - val_accuracy: 0.6402 - lr: 0.0010\n",
            "Epoch 20/1000\n",
            "1412/1412 [==============================] - 3s 2ms/step - loss: 0.6340 - accuracy: 0.6363 - val_loss: 0.6306 - val_accuracy: 0.6429 - lr: 0.0010\n",
            "Epoch 21/1000\n",
            "1412/1412 [==============================] - 3s 2ms/step - loss: 0.6343 - accuracy: 0.6336 - val_loss: 0.6313 - val_accuracy: 0.6386 - lr: 0.0010\n",
            "Epoch 22/1000\n",
            "1412/1412 [==============================] - 2s 2ms/step - loss: 0.6338 - accuracy: 0.6325 - val_loss: 0.6322 - val_accuracy: 0.6453 - lr: 0.0010\n",
            "Epoch 23/1000\n",
            "1412/1412 [==============================] - 2s 2ms/step - loss: 0.6337 - accuracy: 0.6341 - val_loss: 0.6301 - val_accuracy: 0.6416 - lr: 0.0010\n",
            "Epoch 24/1000\n",
            "1412/1412 [==============================] - 2s 2ms/step - loss: 0.6323 - accuracy: 0.6365 - val_loss: 0.6302 - val_accuracy: 0.6446 - lr: 0.0010\n",
            "Epoch 25/1000\n",
            "1412/1412 [==============================] - 2s 2ms/step - loss: 0.6328 - accuracy: 0.6350 - val_loss: 0.6295 - val_accuracy: 0.6412 - lr: 0.0010\n",
            "Epoch 26/1000\n",
            "1412/1412 [==============================] - 2s 2ms/step - loss: 0.6330 - accuracy: 0.6353 - val_loss: 0.6295 - val_accuracy: 0.6433 - lr: 0.0010\n",
            "Epoch 27/1000\n",
            "1412/1412 [==============================] - 2s 2ms/step - loss: 0.6314 - accuracy: 0.6370 - val_loss: 0.6286 - val_accuracy: 0.6458 - lr: 0.0010\n",
            "Epoch 28/1000\n",
            "1412/1412 [==============================] - 2s 2ms/step - loss: 0.6310 - accuracy: 0.6388 - val_loss: 0.6286 - val_accuracy: 0.6397 - lr: 0.0010\n",
            "Epoch 29/1000\n",
            "1412/1412 [==============================] - 2s 2ms/step - loss: 0.6317 - accuracy: 0.6381 - val_loss: 0.6278 - val_accuracy: 0.6409 - lr: 0.0010\n",
            "Epoch 30/1000\n",
            "1412/1412 [==============================] - 2s 2ms/step - loss: 0.6309 - accuracy: 0.6377 - val_loss: 0.6281 - val_accuracy: 0.6404 - lr: 0.0010\n",
            "Epoch 31/1000\n",
            "1412/1412 [==============================] - 2s 2ms/step - loss: 0.6309 - accuracy: 0.6380 - val_loss: 0.6281 - val_accuracy: 0.6392 - lr: 0.0010\n",
            "Epoch 32/1000\n",
            "1412/1412 [==============================] - 2s 2ms/step - loss: 0.6307 - accuracy: 0.6356 - val_loss: 0.6271 - val_accuracy: 0.6416 - lr: 0.0010\n",
            "Epoch 33/1000\n",
            "1412/1412 [==============================] - 2s 2ms/step - loss: 0.6298 - accuracy: 0.6391 - val_loss: 0.6255 - val_accuracy: 0.6417 - lr: 0.0010\n",
            "Epoch 34/1000\n",
            "1412/1412 [==============================] - 2s 2ms/step - loss: 0.6303 - accuracy: 0.6368 - val_loss: 0.6270 - val_accuracy: 0.6436 - lr: 0.0010\n",
            "Epoch 35/1000\n",
            "1412/1412 [==============================] - 2s 2ms/step - loss: 0.6299 - accuracy: 0.6376 - val_loss: 0.6253 - val_accuracy: 0.6439 - lr: 0.0010\n",
            "Epoch 36/1000\n",
            "1412/1412 [==============================] - 3s 2ms/step - loss: 0.6289 - accuracy: 0.6380 - val_loss: 0.6265 - val_accuracy: 0.6417 - lr: 0.0010\n",
            "Epoch 37/1000\n",
            "1412/1412 [==============================] - 3s 2ms/step - loss: 0.6291 - accuracy: 0.6380 - val_loss: 0.6249 - val_accuracy: 0.6409 - lr: 0.0010\n",
            "Epoch 38/1000\n",
            "1412/1412 [==============================] - 2s 2ms/step - loss: 0.6282 - accuracy: 0.6414 - val_loss: 0.6261 - val_accuracy: 0.6377 - lr: 0.0010\n",
            "Epoch 39/1000\n",
            "1412/1412 [==============================] - 2s 2ms/step - loss: 0.6298 - accuracy: 0.6381 - val_loss: 0.6266 - val_accuracy: 0.6441 - lr: 0.0010\n",
            "Epoch 40/1000\n",
            "1412/1412 [==============================] - 2s 2ms/step - loss: 0.6276 - accuracy: 0.6374 - val_loss: 0.6247 - val_accuracy: 0.6416 - lr: 0.0010\n",
            "Epoch 41/1000\n",
            "1412/1412 [==============================] - 2s 2ms/step - loss: 0.6284 - accuracy: 0.6381 - val_loss: 0.6258 - val_accuracy: 0.6401 - lr: 0.0010\n",
            "Epoch 42/1000\n",
            "1412/1412 [==============================] - 2s 2ms/step - loss: 0.6272 - accuracy: 0.6391 - val_loss: 0.6247 - val_accuracy: 0.6351 - lr: 0.0010\n",
            "Epoch 43/1000\n",
            "1412/1412 [==============================] - 2s 2ms/step - loss: 0.6286 - accuracy: 0.6395 - val_loss: 0.6248 - val_accuracy: 0.6407 - lr: 0.0010\n",
            "Epoch 44/1000\n",
            "1412/1412 [==============================] - 2s 2ms/step - loss: 0.6285 - accuracy: 0.6401 - val_loss: 0.6262 - val_accuracy: 0.6427 - lr: 0.0010\n",
            "Epoch 45/1000\n",
            "1412/1412 [==============================] - 2s 2ms/step - loss: 0.6270 - accuracy: 0.6403 - val_loss: 0.6252 - val_accuracy: 0.6391 - lr: 0.0010\n",
            "Epoch 46/1000\n",
            "1412/1412 [==============================] - 2s 2ms/step - loss: 0.6262 - accuracy: 0.6420 - val_loss: 0.6242 - val_accuracy: 0.6427 - lr: 0.0010\n",
            "Epoch 47/1000\n",
            "1412/1412 [==============================] - 2s 2ms/step - loss: 0.6257 - accuracy: 0.6443 - val_loss: 0.6253 - val_accuracy: 0.6416 - lr: 0.0010\n",
            "Epoch 48/1000\n",
            "1412/1412 [==============================] - 2s 2ms/step - loss: 0.6261 - accuracy: 0.6387 - val_loss: 0.6249 - val_accuracy: 0.6412 - lr: 0.0010\n",
            "Epoch 49/1000\n",
            "1412/1412 [==============================] - 2s 2ms/step - loss: 0.6271 - accuracy: 0.6426 - val_loss: 0.6263 - val_accuracy: 0.6391 - lr: 0.0010\n",
            "Epoch 50/1000\n",
            "1412/1412 [==============================] - 2s 2ms/step - loss: 0.6274 - accuracy: 0.6405 - val_loss: 0.6251 - val_accuracy: 0.6417 - lr: 0.0010\n",
            "Epoch 51/1000\n",
            "1412/1412 [==============================] - 3s 2ms/step - loss: 0.6262 - accuracy: 0.6390 - val_loss: 0.6241 - val_accuracy: 0.6426 - lr: 0.0010\n",
            "Epoch 52/1000\n",
            "1412/1412 [==============================] - 2s 2ms/step - loss: 0.6269 - accuracy: 0.6400 - val_loss: 0.6249 - val_accuracy: 0.6426 - lr: 0.0010\n",
            "Epoch 53/1000\n",
            "1412/1412 [==============================] - 2s 2ms/step - loss: 0.6264 - accuracy: 0.6405 - val_loss: 0.6242 - val_accuracy: 0.6431 - lr: 0.0010\n",
            "Epoch 54/1000\n",
            "1412/1412 [==============================] - 2s 2ms/step - loss: 0.6259 - accuracy: 0.6420 - val_loss: 0.6243 - val_accuracy: 0.6433 - lr: 0.0010\n",
            "Epoch 55/1000\n",
            "1412/1412 [==============================] - 2s 2ms/step - loss: 0.6244 - accuracy: 0.6420 - val_loss: 0.6258 - val_accuracy: 0.6426 - lr: 0.0010\n",
            "Epoch 56/1000\n",
            "1412/1412 [==============================] - 2s 2ms/step - loss: 0.6258 - accuracy: 0.6421 - val_loss: 0.6249 - val_accuracy: 0.6407 - lr: 0.0010\n",
            "Epoch 57/1000\n",
            "1412/1412 [==============================] - 2s 2ms/step - loss: 0.6241 - accuracy: 0.6409 - val_loss: 0.6236 - val_accuracy: 0.6439 - lr: 1.0000e-04\n",
            "Epoch 58/1000\n",
            "1412/1412 [==============================] - 2s 2ms/step - loss: 0.6248 - accuracy: 0.6400 - val_loss: 0.6237 - val_accuracy: 0.6427 - lr: 1.0000e-04\n",
            "Epoch 59/1000\n",
            "1412/1412 [==============================] - 2s 2ms/step - loss: 0.6249 - accuracy: 0.6433 - val_loss: 0.6235 - val_accuracy: 0.6439 - lr: 1.0000e-04\n",
            "Epoch 60/1000\n",
            "1412/1412 [==============================] - 2s 2ms/step - loss: 0.6246 - accuracy: 0.6413 - val_loss: 0.6235 - val_accuracy: 0.6416 - lr: 1.0000e-04\n",
            "Epoch 61/1000\n",
            "1412/1412 [==============================] - 2s 2ms/step - loss: 0.6238 - accuracy: 0.6435 - val_loss: 0.6233 - val_accuracy: 0.6417 - lr: 1.0000e-04\n",
            "Epoch 62/1000\n",
            "1412/1412 [==============================] - 2s 2ms/step - loss: 0.6240 - accuracy: 0.6422 - val_loss: 0.6233 - val_accuracy: 0.6443 - lr: 1.0000e-04\n",
            "Epoch 63/1000\n",
            "1412/1412 [==============================] - 2s 2ms/step - loss: 0.6242 - accuracy: 0.6441 - val_loss: 0.6233 - val_accuracy: 0.6422 - lr: 1.0000e-04\n",
            "Epoch 64/1000\n",
            "1412/1412 [==============================] - 2s 2ms/step - loss: 0.6240 - accuracy: 0.6447 - val_loss: 0.6233 - val_accuracy: 0.6438 - lr: 1.0000e-04\n",
            "Epoch 65/1000\n",
            "1412/1412 [==============================] - 2s 2ms/step - loss: 0.6239 - accuracy: 0.6439 - val_loss: 0.6235 - val_accuracy: 0.6431 - lr: 1.0000e-04\n",
            "Epoch 66/1000\n",
            "1412/1412 [==============================] - 2s 2ms/step - loss: 0.6248 - accuracy: 0.6441 - val_loss: 0.6235 - val_accuracy: 0.6438 - lr: 1.0000e-04\n",
            "Epoch 67/1000\n",
            "1412/1412 [==============================] - 2s 2ms/step - loss: 0.6239 - accuracy: 0.6441 - val_loss: 0.6232 - val_accuracy: 0.6441 - lr: 1.0000e-04\n",
            "Epoch 68/1000\n",
            "1412/1412 [==============================] - 2s 2ms/step - loss: 0.6232 - accuracy: 0.6441 - val_loss: 0.6234 - val_accuracy: 0.6444 - lr: 1.0000e-04\n",
            "Epoch 69/1000\n",
            "1412/1412 [==============================] - 2s 2ms/step - loss: 0.6249 - accuracy: 0.6400 - val_loss: 0.6234 - val_accuracy: 0.6458 - lr: 1.0000e-04\n",
            "Epoch 70/1000\n",
            "1412/1412 [==============================] - 2s 2ms/step - loss: 0.6241 - accuracy: 0.6427 - val_loss: 0.6233 - val_accuracy: 0.6441 - lr: 1.0000e-04\n",
            "Epoch 71/1000\n",
            "1412/1412 [==============================] - 2s 2ms/step - loss: 0.6254 - accuracy: 0.6402 - val_loss: 0.6230 - val_accuracy: 0.6441 - lr: 1.0000e-04\n",
            "Epoch 72/1000\n",
            "1412/1412 [==============================] - 2s 2ms/step - loss: 0.6246 - accuracy: 0.6422 - val_loss: 0.6231 - val_accuracy: 0.6451 - lr: 1.0000e-04\n",
            "Epoch 73/1000\n",
            "1412/1412 [==============================] - 2s 2ms/step - loss: 0.6251 - accuracy: 0.6435 - val_loss: 0.6234 - val_accuracy: 0.6429 - lr: 1.0000e-04\n",
            "Epoch 74/1000\n",
            "1412/1412 [==============================] - 2s 2ms/step - loss: 0.6242 - accuracy: 0.6435 - val_loss: 0.6231 - val_accuracy: 0.6453 - lr: 1.0000e-04\n",
            "Epoch 75/1000\n",
            "1412/1412 [==============================] - 2s 2ms/step - loss: 0.6228 - accuracy: 0.6463 - val_loss: 0.6233 - val_accuracy: 0.6436 - lr: 1.0000e-04\n",
            "Epoch 76/1000\n",
            "1412/1412 [==============================] - 2s 2ms/step - loss: 0.6242 - accuracy: 0.6418 - val_loss: 0.6230 - val_accuracy: 0.6448 - lr: 1.0000e-04\n",
            "Epoch 77/1000\n",
            "1412/1412 [==============================] - 2s 2ms/step - loss: 0.6233 - accuracy: 0.6435 - val_loss: 0.6233 - val_accuracy: 0.6441 - lr: 1.0000e-04\n",
            "Epoch 78/1000\n",
            "1412/1412 [==============================] - 2s 2ms/step - loss: 0.6238 - accuracy: 0.6427 - val_loss: 0.6232 - val_accuracy: 0.6439 - lr: 1.0000e-04\n",
            "Epoch 79/1000\n",
            "1412/1412 [==============================] - 2s 2ms/step - loss: 0.6237 - accuracy: 0.6439 - val_loss: 0.6232 - val_accuracy: 0.6444 - lr: 1.0000e-04\n",
            "Epoch 80/1000\n",
            "1412/1412 [==============================] - 2s 2ms/step - loss: 0.6236 - accuracy: 0.6443 - val_loss: 0.6234 - val_accuracy: 0.6427 - lr: 1.0000e-04\n",
            "Epoch 81/1000\n",
            "1412/1412 [==============================] - 2s 2ms/step - loss: 0.6251 - accuracy: 0.6402 - val_loss: 0.6233 - val_accuracy: 0.6443 - lr: 1.0000e-04\n",
            "Epoch 82/1000\n",
            "1412/1412 [==============================] - 2s 2ms/step - loss: 0.6241 - accuracy: 0.6425 - val_loss: 0.6232 - val_accuracy: 0.6443 - lr: 1.0000e-05\n",
            "Epoch 83/1000\n",
            "1412/1412 [==============================] - 2s 2ms/step - loss: 0.6259 - accuracy: 0.6419 - val_loss: 0.6233 - val_accuracy: 0.6429 - lr: 1.0000e-05\n",
            "Epoch 84/1000\n",
            "1412/1412 [==============================] - 2s 2ms/step - loss: 0.6239 - accuracy: 0.6411 - val_loss: 0.6232 - val_accuracy: 0.6453 - lr: 1.0000e-05\n",
            "Epoch 85/1000\n",
            "1412/1412 [==============================] - 2s 2ms/step - loss: 0.6243 - accuracy: 0.6405 - val_loss: 0.6232 - val_accuracy: 0.6448 - lr: 1.0000e-05\n",
            "Epoch 86/1000\n",
            "1412/1412 [==============================] - 2s 2ms/step - loss: 0.6230 - accuracy: 0.6459 - val_loss: 0.6233 - val_accuracy: 0.6414 - lr: 1.0000e-05\n",
            "Epoch 87/1000\n",
            "1412/1412 [==============================] - 2s 2ms/step - loss: 0.6248 - accuracy: 0.6430 - val_loss: 0.6233 - val_accuracy: 0.6424 - lr: 1.0000e-05\n",
            "Epoch 88/1000\n",
            "1412/1412 [==============================] - 2s 2ms/step - loss: 0.6231 - accuracy: 0.6424 - val_loss: 0.6231 - val_accuracy: 0.6444 - lr: 1.0000e-05\n",
            "Epoch 89/1000\n",
            "1412/1412 [==============================] - 2s 2ms/step - loss: 0.6241 - accuracy: 0.6405 - val_loss: 0.6231 - val_accuracy: 0.6459 - lr: 1.0000e-05\n",
            "Epoch 90/1000\n",
            "1412/1412 [==============================] - 2s 2ms/step - loss: 0.6246 - accuracy: 0.6446 - val_loss: 0.6231 - val_accuracy: 0.6448 - lr: 1.0000e-05\n",
            "Epoch 91/1000\n",
            "1412/1412 [==============================] - 2s 2ms/step - loss: 0.6218 - accuracy: 0.6453 - val_loss: 0.6231 - val_accuracy: 0.6461 - lr: 1.0000e-05\n",
            "Epoch 92/1000\n",
            "1412/1412 [==============================] - 2s 2ms/step - loss: 0.6227 - accuracy: 0.6440 - val_loss: 0.6232 - val_accuracy: 0.6431 - lr: 1.0000e-06\n",
            "Epoch 93/1000\n",
            "1412/1412 [==============================] - 2s 2ms/step - loss: 0.6248 - accuracy: 0.6417 - val_loss: 0.6232 - val_accuracy: 0.6453 - lr: 1.0000e-06\n",
            "Epoch 94/1000\n",
            "1412/1412 [==============================] - 2s 2ms/step - loss: 0.6246 - accuracy: 0.6422 - val_loss: 0.6232 - val_accuracy: 0.6441 - lr: 1.0000e-06\n",
            "Epoch 95/1000\n",
            "1412/1412 [==============================] - 2s 2ms/step - loss: 0.6224 - accuracy: 0.6450 - val_loss: 0.6231 - val_accuracy: 0.6453 - lr: 1.0000e-06\n",
            "Epoch 96/1000\n",
            "1412/1412 [==============================] - 2s 2ms/step - loss: 0.6231 - accuracy: 0.6431 - val_loss: 0.6233 - val_accuracy: 0.6434 - lr: 1.0000e-06\n",
            "Epoch 97/1000\n",
            "1412/1412 [==============================] - 2s 2ms/step - loss: 0.6226 - accuracy: 0.6441 - val_loss: 0.6232 - val_accuracy: 0.6444 - lr: 1.0000e-06\n",
            "Epoch 98/1000\n",
            "1412/1412 [==============================] - 2s 2ms/step - loss: 0.6242 - accuracy: 0.6420 - val_loss: 0.6231 - val_accuracy: 0.6451 - lr: 1.0000e-06\n",
            "Epoch 99/1000\n",
            "1412/1412 [==============================] - 2s 2ms/step - loss: 0.6226 - accuracy: 0.6431 - val_loss: 0.6232 - val_accuracy: 0.6441 - lr: 1.0000e-06\n",
            "Epoch 100/1000\n",
            "1412/1412 [==============================] - 2s 2ms/step - loss: 0.6231 - accuracy: 0.6455 - val_loss: 0.6231 - val_accuracy: 0.6446 - lr: 1.0000e-06\n",
            "Epoch 101/1000\n",
            "1383/1412 [============================>.] - ETA: 0s - loss: 0.6232 - accuracy: 0.6450Restoring model weights from the end of the best epoch.\n",
            "1412/1412 [==============================] - 2s 2ms/step - loss: 0.6234 - accuracy: 0.6447 - val_loss: 0.6231 - val_accuracy: 0.6461 - lr: 1.0000e-06\n",
            "Epoch 00101: early stopping\n"
          ],
          "name": "stdout"
        }
      ]
    },
    {
      "cell_type": "markdown",
      "metadata": {
        "id": "i1xT9-5Qo3vY",
        "colab_type": "text"
      },
      "source": [
        "If you look at the training history closely, you'll notice that as the validation loss begins to plateau, we automatically reduce the learning rate. Eventually it, and the validation accuracy, plateau and the model stops training. Once it does, it restores the weights of the model after the epoch with lowest validation loss.\n",
        "\n",
        "Now let's take a look at the model's performance in terms of accuracy."
      ]
    },
    {
      "cell_type": "code",
      "metadata": {
        "id": "_Luk9tRA1jHU",
        "colab_type": "code",
        "outputId": "d8148f60-5459-47f6-fa70-b6d654e9254b",
        "colab": {
          "base_uri": "https://localhost:8080/",
          "height": 295
        }
      },
      "source": [
        "import matplotlib.pyplot as plt\n",
        "\n",
        "plt.plot(history2.history['accuracy'])\n",
        "plt.plot(history2.history['val_accuracy'])\n",
        "plt.title('Training v. Validation Accuracy')\n",
        "plt.ylabel('Accuracy')\n",
        "plt.xlabel('Epoch')\n",
        "plt.legend(['Train', 'Validation'], loc='upper left')\n",
        "plt.show()"
      ],
      "execution_count": 12,
      "outputs": [
        {
          "output_type": "display_data",
          "data": {
            "image/png": "[encoded data removed]",
            "text/plain": [
              "<Figure size 432x288 with 1 Axes>"
            ]
          },
          "metadata": {
            "tags": [],
            "needs_background": "light"
          }
        }
      ]
    },
    {
      "cell_type": "markdown",
      "metadata": {
        "id": "o_gn9ncopepG",
        "colab_type": "text"
      },
      "source": [
        "Interestingly, we see evidence of underfitting at the beginning of training but both training and validation accuracies converge around epoch 100. Our restored validation accuracy appears to be 64.61%. This is pretty similar to the coaching model, which might suggest that the Big XII is just about as predictable as Lincoln Riley.\n",
        "\n",
        "Let's take a look at the loss."
      ]
    },
    {
      "cell_type": "code",
      "metadata": {
        "id": "iFSt2bSO1pDB",
        "colab_type": "code",
        "outputId": "50da4f71-4ccd-41d7-aa8f-ae6d2eab3e18",
        "colab": {
          "base_uri": "https://localhost:8080/",
          "height": 295
        }
      },
      "source": [
        "plt.plot(history2.history['loss'])\n",
        "plt.plot(history2.history['val_loss'])\n",
        "plt.title('Training v. Validation Loss')\n",
        "plt.ylabel('Loss')\n",
        "plt.xlabel('Epoch')\n",
        "plt.legend(['Train', 'Validation'], loc='upper left')\n",
        "plt.show()"
      ],
      "execution_count": 13,
      "outputs": [
        {
          "output_type": "display_data",
          "data": {
            "image/png": "[encoded data removed]",
            "text/plain": [
              "<Figure size 432x288 with 1 Axes>"
            ]
          },
          "metadata": {
            "tags": [],
            "needs_background": "light"
          }
        }
      ]
    },
    {
      "cell_type": "markdown",
      "metadata": {
        "id": "NsZwhdeip9YY",
        "colab_type": "text"
      },
      "source": [
        "This time, we see a much more gradual convergence of the training and validation losses. This looks pretty good, and they track each other well. Now, we're ready to save and test the model.\n",
        "\n",
        "**NOTE: The next block of code will save the model to the same content folder as our dataset in the Colab runtime. If you want to keep the model, be sure to right click and download it from the Colab directory.**"
      ]
    },
    {
      "cell_type": "code",
      "metadata": {
        "id": "HJGC17WIqb01",
        "colab_type": "code",
        "colab": {}
      },
      "source": [
        "model.save('conferenceModel.h5')"
      ],
      "execution_count": 0,
      "outputs": []
    },
    {
      "cell_type": "markdown",
      "metadata": {
        "id": "bAvnIygMqHrG",
        "colab_type": "text"
      },
      "source": [
        "##Testing the Model\n",
        "\n",
        "As we discussed earlier, we built a model of the Big XII conference. This model describes the aggregate predictability of the conference as a whole, but we're going to use it to see if it reveals anything when applied soley to Lincoln Riley.\n",
        "\n",
        "Again, we're using the 2019 Big XII Championship Game between Oklahoma and Baylor as our test case."
      ]
    },
    {
      "cell_type": "markdown",
      "metadata": {
        "id": "eyFGshafq27n",
        "colab_type": "text"
      },
      "source": [
        "Obviously, we'll start by reading in our test data and manipulating it for use in the model."
      ]
    },
    {
      "cell_type": "code",
      "metadata": {
        "id": "XeQHv9Oy8RHJ",
        "colab_type": "code",
        "outputId": "b23c9079-59d5-4c04-8acf-d173ec487b44",
        "colab": {
          "base_uri": "https://localhost:8080/",
          "height": 424
        }
      },
      "source": [
        "testDF = pd.read_csv('/content/test.csv')\n",
        "XGame = testDF.iloc[:,0:8]\n",
        "yGame= testDF.iloc[:,8]\n",
        "\n",
        "XGame = XGame.replace({True:1, False:0})\n",
        "yGame = yGame.replace({'Rush':0, 'Pass':1, 'FG':2, 'Punt':3})\n",
        "yGame = to_categorical(yGame)\n",
        "\n",
        "scaled_features = XGame.copy()\n",
        "features = scaled_features[numeric]\n",
        "features = ss.transform(features.values)\n",
        "\n",
        "scaled_features[numeric] = features\n",
        "\n",
        "XGame = scaled_features\n",
        "XGame"
      ],
      "execution_count": 14,
      "outputs": [
        {
          "output_type": "execute_result",
          "data": {
            "text/html": [
              "<div>\n",
              "<style scoped>\n",
              "    .dataframe tbody tr th:only-of-type {\n",
              "        vertical-align: middle;\n",
              "    }\n",
              "\n",
              "    .dataframe tbody tr th {\n",
              "        vertical-align: top;\n",
              "    }\n",
              "\n",
              "    .dataframe thead th {\n",
              "        text-align: right;\n",
              "    }\n",
              "</style>\n",
              "<table border=\"1\" class=\"dataframe\">\n",
              "  <thead>\n",
              "    <tr style=\"text-align: right;\">\n",
              "      <th></th>\n",
              "      <th>score_differential</th>\n",
              "      <th>oneScoreGame</th>\n",
              "      <th>period</th>\n",
              "      <th>seconds_remaining</th>\n",
              "      <th>secondsInHalf</th>\n",
              "      <th>yardsToGoal</th>\n",
              "      <th>down</th>\n",
              "      <th>distance</th>\n",
              "    </tr>\n",
              "  </thead>\n",
              "  <tbody>\n",
              "    <tr>\n",
              "      <th>0</th>\n",
              "      <td>0</td>\n",
              "      <td>True</td>\n",
              "      <td>1</td>\n",
              "      <td>3595</td>\n",
              "      <td>1795</td>\n",
              "      <td>75</td>\n",
              "      <td>1</td>\n",
              "      <td>10</td>\n",
              "    </tr>\n",
              "    <tr>\n",
              "      <th>1</th>\n",
              "      <td>0</td>\n",
              "      <td>True</td>\n",
              "      <td>1</td>\n",
              "      <td>3554</td>\n",
              "      <td>1754</td>\n",
              "      <td>72</td>\n",
              "      <td>2</td>\n",
              "      <td>7</td>\n",
              "    </tr>\n",
              "    <tr>\n",
              "      <th>2</th>\n",
              "      <td>0</td>\n",
              "      <td>True</td>\n",
              "      <td>1</td>\n",
              "      <td>3522</td>\n",
              "      <td>1722</td>\n",
              "      <td>70</td>\n",
              "      <td>3</td>\n",
              "      <td>5</td>\n",
              "    </tr>\n",
              "    <tr>\n",
              "      <th>3</th>\n",
              "      <td>0</td>\n",
              "      <td>True</td>\n",
              "      <td>1</td>\n",
              "      <td>3337</td>\n",
              "      <td>1537</td>\n",
              "      <td>78</td>\n",
              "      <td>1</td>\n",
              "      <td>10</td>\n",
              "    </tr>\n",
              "    <tr>\n",
              "      <th>4</th>\n",
              "      <td>0</td>\n",
              "      <td>True</td>\n",
              "      <td>1</td>\n",
              "      <td>3299</td>\n",
              "      <td>1499</td>\n",
              "      <td>7</td>\n",
              "      <td>1</td>\n",
              "      <td>7</td>\n",
              "    </tr>\n",
              "    <tr>\n",
              "      <th>...</th>\n",
              "      <td>...</td>\n",
              "      <td>...</td>\n",
              "      <td>...</td>\n",
              "      <td>...</td>\n",
              "      <td>...</td>\n",
              "      <td>...</td>\n",
              "      <td>...</td>\n",
              "      <td>...</td>\n",
              "    </tr>\n",
              "    <tr>\n",
              "      <th>69</th>\n",
              "      <td>0</td>\n",
              "      <td>True</td>\n",
              "      <td>4</td>\n",
              "      <td>119</td>\n",
              "      <td>119</td>\n",
              "      <td>52</td>\n",
              "      <td>2</td>\n",
              "      <td>8</td>\n",
              "    </tr>\n",
              "    <tr>\n",
              "      <th>70</th>\n",
              "      <td>0</td>\n",
              "      <td>True</td>\n",
              "      <td>4</td>\n",
              "      <td>74</td>\n",
              "      <td>74</td>\n",
              "      <td>47</td>\n",
              "      <td>3</td>\n",
              "      <td>3</td>\n",
              "    </tr>\n",
              "    <tr>\n",
              "      <th>71</th>\n",
              "      <td>0</td>\n",
              "      <td>True</td>\n",
              "      <td>5</td>\n",
              "      <td>-900</td>\n",
              "      <td>-900</td>\n",
              "      <td>23</td>\n",
              "      <td>1</td>\n",
              "      <td>10</td>\n",
              "    </tr>\n",
              "    <tr>\n",
              "      <th>72</th>\n",
              "      <td>0</td>\n",
              "      <td>True</td>\n",
              "      <td>5</td>\n",
              "      <td>-900</td>\n",
              "      <td>-900</td>\n",
              "      <td>11</td>\n",
              "      <td>1</td>\n",
              "      <td>10</td>\n",
              "    </tr>\n",
              "    <tr>\n",
              "      <th>73</th>\n",
              "      <td>7</td>\n",
              "      <td>True</td>\n",
              "      <td>5</td>\n",
              "      <td>-900</td>\n",
              "      <td>-900</td>\n",
              "      <td>5</td>\n",
              "      <td>2</td>\n",
              "      <td>4</td>\n",
              "    </tr>\n",
              "  </tbody>\n",
              "</table>\n",
              "<p>74 rows × 8 columns</p>\n",
              "</div>"
            ],
            "text/plain": [
              "    score_differential  oneScoreGame  period  ...  yardsToGoal  down  distance\n",
              "0                    0          True       1  ...           75     1        10\n",
              "1                    0          True       1  ...           72     2         7\n",
              "2                    0          True       1  ...           70     3         5\n",
              "3                    0          True       1  ...           78     1        10\n",
              "4                    0          True       1  ...            7     1         7\n",
              "..                 ...           ...     ...  ...          ...   ...       ...\n",
              "69                   0          True       4  ...           52     2         8\n",
              "70                   0          True       4  ...           47     3         3\n",
              "71                   0          True       5  ...           23     1        10\n",
              "72                   0          True       5  ...           11     1        10\n",
              "73                   7          True       5  ...            5     2         4\n",
              "\n",
              "[74 rows x 8 columns]"
            ]
          },
          "metadata": {
            "tags": []
          },
          "execution_count": 14
        }
      ]
    },
    {
      "cell_type": "markdown",
      "metadata": {
        "id": "WBtuzudgrMqd",
        "colab_type": "text"
      },
      "source": [
        "###Evaluating Performance\n",
        "\n",
        "Now that the data has been prepared, let's see how well our conference model can predict Lincoln Riley."
      ]
    },
    {
      "cell_type": "code",
      "metadata": {
        "colab_type": "code",
        "outputId": "9d35ab8f-c8db-4841-a1ea-08321aa32bc8",
        "id": "SZTrB8kI_z51",
        "colab": {
          "base_uri": "https://localhost:8080/",
          "height": 53
        }
      },
      "source": [
        "model.evaluate(XGame, yGame)"
      ],
      "execution_count": 16,
      "outputs": [
        {
          "output_type": "stream",
          "text": [
            "3/3 [==============================] - 0s 2ms/step - loss: 0.6378 - accuracy: 0.6351\n"
          ],
          "name": "stdout"
        },
        {
          "output_type": "execute_result",
          "data": {
            "text/plain": [
              "[0.6378172636032104, 0.6351351141929626]"
            ]
          },
          "metadata": {
            "tags": []
          },
          "execution_count": 16
        }
      ]
    },
    {
      "cell_type": "markdown",
      "metadata": {
        "id": "Fv6jcyl3rfac",
        "colab_type": "text"
      },
      "source": [
        "Wow, this is a pretty high accuracy given that our final validation accuracy was about 64%. It's also a bit surprising that this model was about 4% more accurate than our coaching model. This suggests that using a model of the Big XII Conference might actually be a better predictor of Lincoln Riley's play calling.\n",
        "\n",
        "Let's take a deeper look into the performance using sklearn's **classification report**."
      ]
    },
    {
      "cell_type": "code",
      "metadata": {
        "id": "C2ZuI8twA2VA",
        "colab_type": "code",
        "outputId": "f76d7e4e-0b53-47b5-914e-7147a1f2a1bf",
        "colab": {
          "base_uri": "https://localhost:8080/",
          "height": 181
        }
      },
      "source": [
        "from sklearn.metrics import classification_report\n",
        "\n",
        "Y_test = np.argmax(yGame, axis=1) # Convert one-hot to index\n",
        "y_pred = np.argmax(model.predict(XGame), axis=1)\n",
        "print(classification_report(Y_test, y_pred, target_names=['Rush', 'Pass'], digits=5))"
      ],
      "execution_count": 18,
      "outputs": [
        {
          "output_type": "stream",
          "text": [
            "              precision    recall  f1-score   support\n",
            "\n",
            "        Rush    0.73810   0.65957   0.69663        47\n",
            "        Pass    0.50000   0.59259   0.54237        27\n",
            "\n",
            "    accuracy                        0.63514        74\n",
            "   macro avg    0.61905   0.62608   0.61950        74\n",
            "weighted avg    0.65122   0.63514   0.64035        74\n",
            "\n"
          ],
          "name": "stdout"
        }
      ]
    },
    {
      "cell_type": "markdown",
      "metadata": {
        "id": "Tqm5xAaSs9gp",
        "colab_type": "text"
      },
      "source": [
        "According to the classification report, we see similar behavior to that of the coaching model. Though to a lesser degree, we are still guessing pass more than rush. However, this seems to be a much more balanced and accurate model on the test data."
      ]
    },
    {
      "cell_type": "markdown",
      "metadata": {
        "id": "3sHnxvnGtXBc",
        "colab_type": "text"
      },
      "source": [
        "##Conclusion\n",
        "\n",
        "This notebook explored the utility of applying a play prediction model based off of the Big XII NCAA football conference to a game of plays called by Lincoln Riley, the head coach of the Oklahoma Sooners. Surprisingly, it did a better job of predicting his behavior than a model based soley on his own history of play calling.\n",
        "\n",
        "https://colab.research.google.com/drive/1gG2g3m8M6z9hshwrL4Jj_VSWoGZn3zDL\n",
        "Can we get even better? What would be the result of modeling the coaching behavior of the entire NCAA FBS league and applying it to Lincoln Riley? We'll find out in [Part III](https://colab.research.google.com/drive/1gG2g3m8M6z9hshwrL4Jj_VSWoGZn3zDL#offline=true&sandboxMode=true) of this series."
      ]
    }
  ]
}