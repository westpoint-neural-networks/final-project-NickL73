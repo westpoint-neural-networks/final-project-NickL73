{
  "nbformat": 4,
  "nbformat_minor": 0,
  "metadata": {
    "colab": {
      "name": "leagueNotebook.ipynb",
      "provenance": [],
      "collapsed_sections": [],
      "toc_visible": true
    },
    "kernelspec": {
      "name": "python3",
      "display_name": "Python 3"
    }
  },
  "cells": [
    {
      "cell_type": "markdown",
      "metadata": {
        "id": "i3G6MN-Rzarm",
        "colab_type": "text"
      },
      "source": [
        "# Ahead of the Game: Coaching Predictability in NCAA Football\n",
        "\n",
        "This notebook is Part III in a series that seeks to model the predictability of offenseive playcallers in the NCAA FBS football league. While this idea could be practically applied to any offensive playcaller in the game, we will use Lincoln Riley, the head coach of the Oklahoma Sooners, as a singular case study.\n",
        "\n",
        "In [Part I](https://colab.research.google.com/drive/1ITENEu7jQ-3Hox3Mxr-TRgueKHElmwCH#offline=true&sandboxMode=true), we used all of Lincoln Riley's called plays to try to predict his coaching behavior. In [Part II](https://colab.research.google.com/drive/19qggMX5b_FWNvDxkJsxlwpzjAHW4fKl2#offline=true&sandboxMode=true) we found that a model of the Big XII Conference was an even better predictor of Lincoln Riley's coaching behavior. In this notebook, we will see how well a model of the entire NCAA's coaching behavior can accurately predict Mr. Riley's behavior.\n",
        "\n",
        "**NOTE: This notebook is meant to be used in [Google Colaboratory](https://colab.research.google.com). The instructions will assume as much, and may not be accurate if you're using a different platform.**\n",
        "\n",
        "We'll begin just as we have in the previous notebooks in this series by importing the base modules necessary to start and setting a random seed."
      ]
    },
    {
      "cell_type": "code",
      "metadata": {
        "id": "6D1D1RlKcG4G",
        "colab_type": "code",
        "colab": {}
      },
      "source": [
        "from numpy.random import seed\n",
        "import random\n",
        "\n",
        "seed(485)\n",
        "random.seed(485)"
      ],
      "execution_count": 0,
      "outputs": []
    },
    {
      "cell_type": "code",
      "metadata": {
        "id": "apZ5EmTBvCxE",
        "colab_type": "code",
        "colab": {}
      },
      "source": [
        "import pandas as pd\n",
        "import numpy as np\n",
        "import tensorflow"
      ],
      "execution_count": 0,
      "outputs": []
    },
    {
      "cell_type": "markdown",
      "metadata": {
        "id": "-r5B0KjW0Qhd",
        "colab_type": "text"
      },
      "source": [
        "##Preparing the Data\n",
        "For this notebook, our data consists of all plays from all games in the NCAA FBS league between 2016 and 2019 - the years that Lincoln Riley has been a head coach in the league. Again, we'll hold out test set of the 2019 Big XII Championship Game.\n",
        "\n",
        "As always, we'll have to load and transform the data for use in the model. I'll skip the explanations, but if you're looking for more discussion on what this data transformation looks like, refer to Part I of the series."
      ]
    },
    {
      "cell_type": "markdown",
      "metadata": {
        "id": "fZ6c36NH0u94",
        "colab_type": "text"
      },
      "source": [
        "To import our data to Google Colab, you will first need to download the \"leagueData.csv\" from the models folder in the [GitHub repository](https://github.com/westpoint-neural-networks/final-project-NickL73). Next, you will need to click on the folder icon on the toolbar to the left of Google Colab and upload the dataset."
      ]
    },
    {
      "cell_type": "code",
      "metadata": {
        "id": "15OBpS2NwChs",
        "colab_type": "code",
        "outputId": "b4b00321-aee0-4150-ea6c-ca07408f8bad",
        "colab": {
          "base_uri": "https://localhost:8080/",
          "height": 424
        }
      },
      "source": [
        "df = pd.read_csv('/content/leagueData.csv')\n",
        "df"
      ],
      "execution_count": 3,
      "outputs": [
        {
          "output_type": "execute_result",
          "data": {
            "text/html": [
              "<div>\n",
              "<style scoped>\n",
              "    .dataframe tbody tr th:only-of-type {\n",
              "        vertical-align: middle;\n",
              "    }\n",
              "\n",
              "    .dataframe tbody tr th {\n",
              "        vertical-align: top;\n",
              "    }\n",
              "\n",
              "    .dataframe thead th {\n",
              "        text-align: right;\n",
              "    }\n",
              "</style>\n",
              "<table border=\"1\" class=\"dataframe\">\n",
              "  <thead>\n",
              "    <tr style=\"text-align: right;\">\n",
              "      <th></th>\n",
              "      <th>score_differential</th>\n",
              "      <th>oneScoreGame</th>\n",
              "      <th>period</th>\n",
              "      <th>seconds_remaining</th>\n",
              "      <th>secondsInHalf</th>\n",
              "      <th>yardsToGoal</th>\n",
              "      <th>down</th>\n",
              "      <th>distance</th>\n",
              "      <th>play_type</th>\n",
              "    </tr>\n",
              "  </thead>\n",
              "  <tbody>\n",
              "    <tr>\n",
              "      <th>0</th>\n",
              "      <td>-4</td>\n",
              "      <td>True</td>\n",
              "      <td>2</td>\n",
              "      <td>1990</td>\n",
              "      <td>190</td>\n",
              "      <td>75</td>\n",
              "      <td>1</td>\n",
              "      <td>10</td>\n",
              "      <td>Pass</td>\n",
              "    </tr>\n",
              "    <tr>\n",
              "      <th>1</th>\n",
              "      <td>-17</td>\n",
              "      <td>False</td>\n",
              "      <td>3</td>\n",
              "      <td>1497</td>\n",
              "      <td>1497</td>\n",
              "      <td>56</td>\n",
              "      <td>1</td>\n",
              "      <td>10</td>\n",
              "      <td>Pass</td>\n",
              "    </tr>\n",
              "    <tr>\n",
              "      <th>2</th>\n",
              "      <td>10</td>\n",
              "      <td>False</td>\n",
              "      <td>3</td>\n",
              "      <td>1317</td>\n",
              "      <td>1317</td>\n",
              "      <td>51</td>\n",
              "      <td>3</td>\n",
              "      <td>8</td>\n",
              "      <td>Pass</td>\n",
              "    </tr>\n",
              "    <tr>\n",
              "      <th>3</th>\n",
              "      <td>4</td>\n",
              "      <td>True</td>\n",
              "      <td>4</td>\n",
              "      <td>893</td>\n",
              "      <td>893</td>\n",
              "      <td>45</td>\n",
              "      <td>2</td>\n",
              "      <td>6</td>\n",
              "      <td>Pass</td>\n",
              "    </tr>\n",
              "    <tr>\n",
              "      <th>4</th>\n",
              "      <td>-41</td>\n",
              "      <td>False</td>\n",
              "      <td>4</td>\n",
              "      <td>101</td>\n",
              "      <td>101</td>\n",
              "      <td>62</td>\n",
              "      <td>3</td>\n",
              "      <td>7</td>\n",
              "      <td>Pass</td>\n",
              "    </tr>\n",
              "    <tr>\n",
              "      <th>...</th>\n",
              "      <td>...</td>\n",
              "      <td>...</td>\n",
              "      <td>...</td>\n",
              "      <td>...</td>\n",
              "      <td>...</td>\n",
              "      <td>...</td>\n",
              "      <td>...</td>\n",
              "      <td>...</td>\n",
              "      <td>...</td>\n",
              "    </tr>\n",
              "    <tr>\n",
              "      <th>98734</th>\n",
              "      <td>-16</td>\n",
              "      <td>False</td>\n",
              "      <td>3</td>\n",
              "      <td>1792</td>\n",
              "      <td>1792</td>\n",
              "      <td>99</td>\n",
              "      <td>1</td>\n",
              "      <td>10</td>\n",
              "      <td>Rush</td>\n",
              "    </tr>\n",
              "    <tr>\n",
              "      <th>98735</th>\n",
              "      <td>-20</td>\n",
              "      <td>False</td>\n",
              "      <td>3</td>\n",
              "      <td>927</td>\n",
              "      <td>927</td>\n",
              "      <td>99</td>\n",
              "      <td>1</td>\n",
              "      <td>10</td>\n",
              "      <td>Rush</td>\n",
              "    </tr>\n",
              "    <tr>\n",
              "      <th>98736</th>\n",
              "      <td>-6</td>\n",
              "      <td>True</td>\n",
              "      <td>1</td>\n",
              "      <td>2708</td>\n",
              "      <td>908</td>\n",
              "      <td>99</td>\n",
              "      <td>1</td>\n",
              "      <td>10</td>\n",
              "      <td>Rush</td>\n",
              "    </tr>\n",
              "    <tr>\n",
              "      <th>98737</th>\n",
              "      <td>5</td>\n",
              "      <td>True</td>\n",
              "      <td>1</td>\n",
              "      <td>3143</td>\n",
              "      <td>1343</td>\n",
              "      <td>92</td>\n",
              "      <td>4</td>\n",
              "      <td>4</td>\n",
              "      <td>Rush</td>\n",
              "    </tr>\n",
              "    <tr>\n",
              "      <th>98738</th>\n",
              "      <td>3</td>\n",
              "      <td>True</td>\n",
              "      <td>4</td>\n",
              "      <td>0</td>\n",
              "      <td>0</td>\n",
              "      <td>99</td>\n",
              "      <td>4</td>\n",
              "      <td>21</td>\n",
              "      <td>Rush</td>\n",
              "    </tr>\n",
              "  </tbody>\n",
              "</table>\n",
              "<p>98739 rows × 9 columns</p>\n",
              "</div>"
            ],
            "text/plain": [
              "       score_differential  oneScoreGame  period  ...  down  distance  play_type\n",
              "0                      -4          True       2  ...     1        10       Pass\n",
              "1                     -17         False       3  ...     1        10       Pass\n",
              "2                      10         False       3  ...     3         8       Pass\n",
              "3                       4          True       4  ...     2         6       Pass\n",
              "4                     -41         False       4  ...     3         7       Pass\n",
              "...                   ...           ...     ...  ...   ...       ...        ...\n",
              "98734                 -16         False       3  ...     1        10       Rush\n",
              "98735                 -20         False       3  ...     1        10       Rush\n",
              "98736                  -6          True       1  ...     1        10       Rush\n",
              "98737                   5          True       1  ...     4         4       Rush\n",
              "98738                   3          True       4  ...     4        21       Rush\n",
              "\n",
              "[98739 rows x 9 columns]"
            ]
          },
          "metadata": {
            "tags": []
          },
          "execution_count": 3
        }
      ]
    },
    {
      "cell_type": "markdown",
      "metadata": {
        "id": "w0IAsqpIydnx",
        "colab_type": "text"
      },
      "source": [
        "You should note that we have *even more* data than before. We'll do all the same preprocessing as before, but just in one block to save some time and effort."
      ]
    },
    {
      "cell_type": "code",
      "metadata": {
        "id": "ahSpeEIvxjI-",
        "colab_type": "code",
        "colab": {
          "base_uri": "https://localhost:8080/",
          "height": 442
        },
        "outputId": "fcd0ed34-564a-4244-fafd-fdbae2ddcaae"
      },
      "source": [
        "from sklearn.model_selection import train_test_split\n",
        "from keras.utils import to_categorical\n",
        "from sklearn.preprocessing import StandardScaler\n",
        "\n",
        "X = df.iloc[:,0:8]\n",
        "y = df.iloc[:,8]\n",
        "\n",
        "X = X.replace({True:1, False:0})\n",
        "y = y.replace({'Rush':0, 'Pass':1})\n",
        "y = to_categorical(y)\n",
        "\n",
        "X_train, X_validation, y_train, y_validation = train_test_split(X, y, test_size=0.15)\n",
        "\n",
        "ss = StandardScaler()\n",
        "numeric = ['score_differential', 'period', 'seconds_remaining', 'secondsInHalf', 'yardsToGoal', 'down', 'distance']\n",
        "scaled_features = X_train.copy()\n",
        "features = scaled_features[numeric]\n",
        "scaler = ss.fit(features.values)\n",
        "features = ss.transform(features.values)\n",
        "\n",
        "scaled_features[numeric] = features\n",
        "\n",
        "X_train = scaled_features\n",
        "X_train"
      ],
      "execution_count": 4,
      "outputs": [
        {
          "output_type": "stream",
          "text": [
            "Using TensorFlow backend.\n"
          ],
          "name": "stderr"
        },
        {
          "output_type": "execute_result",
          "data": {
            "text/html": [
              "<div>\n",
              "<style scoped>\n",
              "    .dataframe tbody tr th:only-of-type {\n",
              "        vertical-align: middle;\n",
              "    }\n",
              "\n",
              "    .dataframe tbody tr th {\n",
              "        vertical-align: top;\n",
              "    }\n",
              "\n",
              "    .dataframe thead th {\n",
              "        text-align: right;\n",
              "    }\n",
              "</style>\n",
              "<table border=\"1\" class=\"dataframe\">\n",
              "  <thead>\n",
              "    <tr style=\"text-align: right;\">\n",
              "      <th></th>\n",
              "      <th>score_differential</th>\n",
              "      <th>oneScoreGame</th>\n",
              "      <th>period</th>\n",
              "      <th>seconds_remaining</th>\n",
              "      <th>secondsInHalf</th>\n",
              "      <th>yardsToGoal</th>\n",
              "      <th>down</th>\n",
              "      <th>distance</th>\n",
              "    </tr>\n",
              "  </thead>\n",
              "  <tbody>\n",
              "    <tr>\n",
              "      <th>58515</th>\n",
              "      <td>0.452645</td>\n",
              "      <td>1</td>\n",
              "      <td>-1.342096</td>\n",
              "      <td>1.409503</td>\n",
              "      <td>1.071846</td>\n",
              "      <td>-0.057245</td>\n",
              "      <td>1.420007</td>\n",
              "      <td>-1.689187</td>\n",
              "    </tr>\n",
              "    <tr>\n",
              "      <th>19326</th>\n",
              "      <td>1.167600</td>\n",
              "      <td>0</td>\n",
              "      <td>0.443805</td>\n",
              "      <td>-0.192988</td>\n",
              "      <td>1.284711</td>\n",
              "      <td>1.182388</td>\n",
              "      <td>0.230412</td>\n",
              "      <td>-0.399646</td>\n",
              "    </tr>\n",
              "    <tr>\n",
              "      <th>12449</th>\n",
              "      <td>1.167600</td>\n",
              "      <td>0</td>\n",
              "      <td>1.336755</td>\n",
              "      <td>-1.347697</td>\n",
              "      <td>-0.901660</td>\n",
              "      <td>1.099746</td>\n",
              "      <td>1.420007</td>\n",
              "      <td>2.179436</td>\n",
              "    </tr>\n",
              "    <tr>\n",
              "      <th>69715</th>\n",
              "      <td>0.214327</td>\n",
              "      <td>1</td>\n",
              "      <td>-1.342096</td>\n",
              "      <td>1.380922</td>\n",
              "      <td>1.017728</td>\n",
              "      <td>0.769177</td>\n",
              "      <td>0.230412</td>\n",
              "      <td>-0.399646</td>\n",
              "    </tr>\n",
              "    <tr>\n",
              "      <th>56392</th>\n",
              "      <td>-0.619786</td>\n",
              "      <td>0</td>\n",
              "      <td>0.443805</td>\n",
              "      <td>-0.210137</td>\n",
              "      <td>1.252240</td>\n",
              "      <td>-1.834052</td>\n",
              "      <td>0.230412</td>\n",
              "      <td>-0.399646</td>\n",
              "    </tr>\n",
              "    <tr>\n",
              "      <th>...</th>\n",
              "      <td>...</td>\n",
              "      <td>...</td>\n",
              "      <td>...</td>\n",
              "      <td>...</td>\n",
              "      <td>...</td>\n",
              "      <td>...</td>\n",
              "      <td>...</td>\n",
              "      <td>...</td>\n",
              "    </tr>\n",
              "    <tr>\n",
              "      <th>22568</th>\n",
              "      <td>1.644236</td>\n",
              "      <td>0</td>\n",
              "      <td>0.443805</td>\n",
              "      <td>-0.361621</td>\n",
              "      <td>0.965414</td>\n",
              "      <td>-0.759703</td>\n",
              "      <td>0.230412</td>\n",
              "      <td>0.374079</td>\n",
              "    </tr>\n",
              "    <tr>\n",
              "      <th>83521</th>\n",
              "      <td>0.512225</td>\n",
              "      <td>0</td>\n",
              "      <td>0.443805</td>\n",
              "      <td>-0.032930</td>\n",
              "      <td>1.587772</td>\n",
              "      <td>-0.801024</td>\n",
              "      <td>1.420007</td>\n",
              "      <td>-1.173370</td>\n",
              "    </tr>\n",
              "    <tr>\n",
              "      <th>174</th>\n",
              "      <td>0.035589</td>\n",
              "      <td>1</td>\n",
              "      <td>-1.342096</td>\n",
              "      <td>1.272310</td>\n",
              "      <td>0.812079</td>\n",
              "      <td>1.306351</td>\n",
              "      <td>-0.959182</td>\n",
              "      <td>0.374079</td>\n",
              "    </tr>\n",
              "    <tr>\n",
              "      <th>57752</th>\n",
              "      <td>-1.036842</td>\n",
              "      <td>0</td>\n",
              "      <td>0.443805</td>\n",
              "      <td>-0.700793</td>\n",
              "      <td>0.323212</td>\n",
              "      <td>0.108040</td>\n",
              "      <td>1.420007</td>\n",
              "      <td>-0.915462</td>\n",
              "    </tr>\n",
              "    <tr>\n",
              "      <th>82416</th>\n",
              "      <td>1.882554</td>\n",
              "      <td>0</td>\n",
              "      <td>1.336755</td>\n",
              "      <td>-1.543007</td>\n",
              "      <td>-1.271467</td>\n",
              "      <td>1.554278</td>\n",
              "      <td>-0.959182</td>\n",
              "      <td>0.374079</td>\n",
              "    </tr>\n",
              "  </tbody>\n",
              "</table>\n",
              "<p>83928 rows × 8 columns</p>\n",
              "</div>"
            ],
            "text/plain": [
              "       score_differential  oneScoreGame  ...      down  distance\n",
              "58515            0.452645             1  ...  1.420007 -1.689187\n",
              "19326            1.167600             0  ...  0.230412 -0.399646\n",
              "12449            1.167600             0  ...  1.420007  2.179436\n",
              "69715            0.214327             1  ...  0.230412 -0.399646\n",
              "56392           -0.619786             0  ...  0.230412 -0.399646\n",
              "...                   ...           ...  ...       ...       ...\n",
              "22568            1.644236             0  ...  0.230412  0.374079\n",
              "83521            0.512225             0  ...  1.420007 -1.173370\n",
              "174              0.035589             1  ... -0.959182  0.374079\n",
              "57752           -1.036842             0  ...  1.420007 -0.915462\n",
              "82416            1.882554             0  ... -0.959182  0.374079\n",
              "\n",
              "[83928 rows x 8 columns]"
            ]
          },
          "metadata": {
            "tags": []
          },
          "execution_count": 4
        }
      ]
    },
    {
      "cell_type": "markdown",
      "metadata": {
        "id": "ZtpUw_1n5MFH",
        "colab_type": "text"
      },
      "source": [
        "Repeat for the validation data."
      ]
    },
    {
      "cell_type": "code",
      "metadata": {
        "id": "jIWYwqve5Loh",
        "colab_type": "code",
        "outputId": "f143af10-6cb9-4018-8f94-1247a1f304c9",
        "colab": {
          "base_uri": "https://localhost:8080/",
          "height": 424
        }
      },
      "source": [
        "scaled_features = X_validation.copy()\n",
        "features = scaled_features[numeric]\n",
        "features = ss.transform(features.values)\n",
        "\n",
        "scaled_features[numeric] = features\n",
        "\n",
        "X_validation = scaled_features\n",
        "X_validation"
      ],
      "execution_count": 5,
      "outputs": [
        {
          "output_type": "execute_result",
          "data": {
            "text/html": [
              "<div>\n",
              "<style scoped>\n",
              "    .dataframe tbody tr th:only-of-type {\n",
              "        vertical-align: middle;\n",
              "    }\n",
              "\n",
              "    .dataframe tbody tr th {\n",
              "        vertical-align: top;\n",
              "    }\n",
              "\n",
              "    .dataframe thead th {\n",
              "        text-align: right;\n",
              "    }\n",
              "</style>\n",
              "<table border=\"1\" class=\"dataframe\">\n",
              "  <thead>\n",
              "    <tr style=\"text-align: right;\">\n",
              "      <th></th>\n",
              "      <th>score_differential</th>\n",
              "      <th>oneScoreGame</th>\n",
              "      <th>period</th>\n",
              "      <th>seconds_remaining</th>\n",
              "      <th>secondsInHalf</th>\n",
              "      <th>yardsToGoal</th>\n",
              "      <th>down</th>\n",
              "      <th>distance</th>\n",
              "    </tr>\n",
              "  </thead>\n",
              "  <tbody>\n",
              "    <tr>\n",
              "      <th>45546</th>\n",
              "      <td>0.035589</td>\n",
              "      <td>1</td>\n",
              "      <td>-0.449146</td>\n",
              "      <td>0.088067</td>\n",
              "      <td>-1.430214</td>\n",
              "      <td>0.108040</td>\n",
              "      <td>1.420007</td>\n",
              "      <td>-0.141738</td>\n",
              "    </tr>\n",
              "    <tr>\n",
              "      <th>30142</th>\n",
              "      <td>-0.143150</td>\n",
              "      <td>1</td>\n",
              "      <td>-0.449146</td>\n",
              "      <td>0.056627</td>\n",
              "      <td>-1.489744</td>\n",
              "      <td>-1.131593</td>\n",
              "      <td>-0.959182</td>\n",
              "      <td>0.374079</td>\n",
              "    </tr>\n",
              "    <tr>\n",
              "      <th>14355</th>\n",
              "      <td>-2.466751</td>\n",
              "      <td>0</td>\n",
              "      <td>1.336755</td>\n",
              "      <td>-1.630658</td>\n",
              "      <td>-1.437430</td>\n",
              "      <td>-1.420841</td>\n",
              "      <td>1.420007</td>\n",
              "      <td>-0.399646</td>\n",
              "    </tr>\n",
              "    <tr>\n",
              "      <th>52184</th>\n",
              "      <td>0.333486</td>\n",
              "      <td>1</td>\n",
              "      <td>1.336755</td>\n",
              "      <td>-1.230511</td>\n",
              "      <td>-0.679776</td>\n",
              "      <td>1.223709</td>\n",
              "      <td>-0.959182</td>\n",
              "      <td>0.374079</td>\n",
              "    </tr>\n",
              "    <tr>\n",
              "      <th>81115</th>\n",
              "      <td>0.273907</td>\n",
              "      <td>1</td>\n",
              "      <td>-0.449146</td>\n",
              "      <td>0.742593</td>\n",
              "      <td>-0.190910</td>\n",
              "      <td>-1.751409</td>\n",
              "      <td>0.230412</td>\n",
              "      <td>0.116171</td>\n",
              "    </tr>\n",
              "    <tr>\n",
              "      <th>...</th>\n",
              "      <td>...</td>\n",
              "      <td>...</td>\n",
              "      <td>...</td>\n",
              "      <td>...</td>\n",
              "      <td>...</td>\n",
              "      <td>...</td>\n",
              "      <td>...</td>\n",
              "      <td>...</td>\n",
              "    </tr>\n",
              "    <tr>\n",
              "      <th>15138</th>\n",
              "      <td>-0.619786</td>\n",
              "      <td>0</td>\n",
              "      <td>-0.449146</td>\n",
              "      <td>0.824527</td>\n",
              "      <td>-0.035771</td>\n",
              "      <td>0.686535</td>\n",
              "      <td>1.420007</td>\n",
              "      <td>-1.431278</td>\n",
              "    </tr>\n",
              "    <tr>\n",
              "      <th>87408</th>\n",
              "      <td>0.035589</td>\n",
              "      <td>1</td>\n",
              "      <td>-1.342096</td>\n",
              "      <td>1.125590</td>\n",
              "      <td>0.534273</td>\n",
              "      <td>0.975782</td>\n",
              "      <td>-0.959182</td>\n",
              "      <td>0.374079</td>\n",
              "    </tr>\n",
              "    <tr>\n",
              "      <th>66719</th>\n",
              "      <td>0.452645</td>\n",
              "      <td>1</td>\n",
              "      <td>-0.449146</td>\n",
              "      <td>0.817858</td>\n",
              "      <td>-0.048399</td>\n",
              "      <td>1.265030</td>\n",
              "      <td>0.230412</td>\n",
              "      <td>-0.399646</td>\n",
              "    </tr>\n",
              "    <tr>\n",
              "      <th>36522</th>\n",
              "      <td>0.035589</td>\n",
              "      <td>1</td>\n",
              "      <td>-0.449146</td>\n",
              "      <td>0.028045</td>\n",
              "      <td>-1.543862</td>\n",
              "      <td>-0.677061</td>\n",
              "      <td>1.420007</td>\n",
              "      <td>-0.915462</td>\n",
              "    </tr>\n",
              "    <tr>\n",
              "      <th>74464</th>\n",
              "      <td>-0.381468</td>\n",
              "      <td>1</td>\n",
              "      <td>0.443805</td>\n",
              "      <td>-0.634102</td>\n",
              "      <td>0.449488</td>\n",
              "      <td>0.893140</td>\n",
              "      <td>-0.959182</td>\n",
              "      <td>0.374079</td>\n",
              "    </tr>\n",
              "  </tbody>\n",
              "</table>\n",
              "<p>14811 rows × 8 columns</p>\n",
              "</div>"
            ],
            "text/plain": [
              "       score_differential  oneScoreGame  ...      down  distance\n",
              "45546            0.035589             1  ...  1.420007 -0.141738\n",
              "30142           -0.143150             1  ... -0.959182  0.374079\n",
              "14355           -2.466751             0  ...  1.420007 -0.399646\n",
              "52184            0.333486             1  ... -0.959182  0.374079\n",
              "81115            0.273907             1  ...  0.230412  0.116171\n",
              "...                   ...           ...  ...       ...       ...\n",
              "15138           -0.619786             0  ...  1.420007 -1.431278\n",
              "87408            0.035589             1  ... -0.959182  0.374079\n",
              "66719            0.452645             1  ...  0.230412 -0.399646\n",
              "36522            0.035589             1  ...  1.420007 -0.915462\n",
              "74464           -0.381468             1  ... -0.959182  0.374079\n",
              "\n",
              "[14811 rows x 8 columns]"
            ]
          },
          "metadata": {
            "tags": []
          },
          "execution_count": 5
        }
      ]
    },
    {
      "cell_type": "markdown",
      "metadata": {
        "id": "sw5ZW22889t5",
        "colab_type": "text"
      },
      "source": [
        "##Creating a model\n",
        "\n",
        "The league model's architecture will differ from both the coaching and conference models. Again, we will primarily use a Densely connected network with **elu** activation functions, batch normalization, a final **sigmoid** activation, and a **binary crossentropy** loss function."
      ]
    },
    {
      "cell_type": "code",
      "metadata": {
        "id": "9IuJWx7x00fO",
        "colab_type": "code",
        "colab": {}
      },
      "source": [
        "from tensorflow.keras import models, layers, optimizers\n",
        "\n",
        "model = models.Sequential()\n",
        "model.add(layers.Dense(32, activation='elu', input_dim=8))\n",
        "model.add(layers.BatchNormalization())\n",
        "model.add(layers.Dense(16, activation='elu'))\n",
        "model.add(layers.BatchNormalization())\n",
        "model.add(layers.Dense(16, activation='elu'))\n",
        "model.add(layers.Dense(2, activation='sigmoid'))\n",
        "\n",
        "ad = optimizers.Adam(learning_rate=0.1)\n",
        "\n",
        "model.compile(optimizer='adam', loss='binary_crossentropy', metrics=['accuracy'])"
      ],
      "execution_count": 0,
      "outputs": []
    },
    {
      "cell_type": "markdown",
      "metadata": {
        "id": "ZY4hVPd79ctD",
        "colab_type": "text"
      },
      "source": [
        "###Training the Model\n",
        "\n",
        "We will use the same callback functions as we did in the conference model, and then train it like normal."
      ]
    },
    {
      "cell_type": "code",
      "metadata": {
        "id": "aTmRdxxFR1qg",
        "colab_type": "code",
        "colab": {}
      },
      "source": [
        "from tensorflow.keras.callbacks import EarlyStopping, ReduceLROnPlateau\n",
        "# early stopping if training for more epochs\n",
        "es_cb = EarlyStopping(monitor = 'val_loss', verbose=1, patience = 25, restore_best_weights=True)\n",
        "\n",
        "#reduce learning rate on plateau\n",
        "rlr_cb = ReduceLROnPlateau(monitor='val_loss', factor=0.1, patience=10)\n",
        "\n",
        "cb_list = [es_cb, rlr_cb]"
      ],
      "execution_count": 0,
      "outputs": []
    },
    {
      "cell_type": "code",
      "metadata": {
        "id": "Q0_trt8e1OgC",
        "colab_type": "code",
        "outputId": "e1fad8b6-d58d-42c2-e04a-e836ffb05abd",
        "colab": {
          "base_uri": "https://localhost:8080/",
          "height": 1000
        }
      },
      "source": [
        "history2 = model.fit(X_train, y_train,batch_size=24, epochs=1000, validation_data=(X_validation, y_validation), callbacks=cb_list)"
      ],
      "execution_count": 8,
      "outputs": [
        {
          "output_type": "stream",
          "text": [
            "Epoch 1/1000\n",
            "3497/3497 [==============================] - 6s 2ms/step - loss: 0.6470 - accuracy: 0.6216 - val_loss: 0.6321 - val_accuracy: 0.6374 - lr: 0.0010\n",
            "Epoch 2/1000\n",
            "3497/3497 [==============================] - 6s 2ms/step - loss: 0.6358 - accuracy: 0.6324 - val_loss: 0.6262 - val_accuracy: 0.6409 - lr: 0.0010\n",
            "Epoch 3/1000\n",
            "3497/3497 [==============================] - 6s 2ms/step - loss: 0.6311 - accuracy: 0.6370 - val_loss: 0.6241 - val_accuracy: 0.6404 - lr: 0.0010\n",
            "Epoch 4/1000\n",
            "3497/3497 [==============================] - 6s 2ms/step - loss: 0.6282 - accuracy: 0.6376 - val_loss: 0.6208 - val_accuracy: 0.6437 - lr: 0.0010\n",
            "Epoch 5/1000\n",
            "3497/3497 [==============================] - 6s 2ms/step - loss: 0.6267 - accuracy: 0.6386 - val_loss: 0.6195 - val_accuracy: 0.6479 - lr: 0.0010\n",
            "Epoch 6/1000\n",
            "3497/3497 [==============================] - 6s 2ms/step - loss: 0.6258 - accuracy: 0.6429 - val_loss: 0.6186 - val_accuracy: 0.6461 - lr: 0.0010\n",
            "Epoch 7/1000\n",
            "3497/3497 [==============================] - 6s 2ms/step - loss: 0.6240 - accuracy: 0.6428 - val_loss: 0.6168 - val_accuracy: 0.6503 - lr: 0.0010\n",
            "Epoch 8/1000\n",
            "3497/3497 [==============================] - 6s 2ms/step - loss: 0.6236 - accuracy: 0.6437 - val_loss: 0.6175 - val_accuracy: 0.6439 - lr: 0.0010\n",
            "Epoch 9/1000\n",
            "3497/3497 [==============================] - 6s 2ms/step - loss: 0.6223 - accuracy: 0.6442 - val_loss: 0.6165 - val_accuracy: 0.6504 - lr: 0.0010\n",
            "Epoch 10/1000\n",
            "3497/3497 [==============================] - 6s 2ms/step - loss: 0.6215 - accuracy: 0.6447 - val_loss: 0.6153 - val_accuracy: 0.6511 - lr: 0.0010\n",
            "Epoch 11/1000\n",
            "3497/3497 [==============================] - 6s 2ms/step - loss: 0.6208 - accuracy: 0.6456 - val_loss: 0.6146 - val_accuracy: 0.6515 - lr: 0.0010\n",
            "Epoch 12/1000\n",
            "3497/3497 [==============================] - 6s 2ms/step - loss: 0.6209 - accuracy: 0.6456 - val_loss: 0.6159 - val_accuracy: 0.6463 - lr: 0.0010\n",
            "Epoch 13/1000\n",
            "3497/3497 [==============================] - 6s 2ms/step - loss: 0.6195 - accuracy: 0.6468 - val_loss: 0.6154 - val_accuracy: 0.6515 - lr: 0.0010\n",
            "Epoch 14/1000\n",
            "3497/3497 [==============================] - 6s 2ms/step - loss: 0.6202 - accuracy: 0.6462 - val_loss: 0.6153 - val_accuracy: 0.6479 - lr: 0.0010\n",
            "Epoch 15/1000\n",
            "3497/3497 [==============================] - 6s 2ms/step - loss: 0.6195 - accuracy: 0.6470 - val_loss: 0.6135 - val_accuracy: 0.6528 - lr: 0.0010\n",
            "Epoch 16/1000\n",
            "3497/3497 [==============================] - 6s 2ms/step - loss: 0.6190 - accuracy: 0.6460 - val_loss: 0.6183 - val_accuracy: 0.6487 - lr: 0.0010\n",
            "Epoch 17/1000\n",
            "3497/3497 [==============================] - 6s 2ms/step - loss: 0.6188 - accuracy: 0.6463 - val_loss: 0.6137 - val_accuracy: 0.6544 - lr: 0.0010\n",
            "Epoch 18/1000\n",
            "3497/3497 [==============================] - 6s 2ms/step - loss: 0.6184 - accuracy: 0.6467 - val_loss: 0.6155 - val_accuracy: 0.6492 - lr: 0.0010\n",
            "Epoch 19/1000\n",
            "3497/3497 [==============================] - 6s 2ms/step - loss: 0.6183 - accuracy: 0.6488 - val_loss: 0.6143 - val_accuracy: 0.6528 - lr: 0.0010\n",
            "Epoch 20/1000\n",
            "3497/3497 [==============================] - 6s 2ms/step - loss: 0.6178 - accuracy: 0.6494 - val_loss: 0.6165 - val_accuracy: 0.6524 - lr: 0.0010\n",
            "Epoch 21/1000\n",
            "3497/3497 [==============================] - 6s 2ms/step - loss: 0.6179 - accuracy: 0.6483 - val_loss: 0.6141 - val_accuracy: 0.6509 - lr: 0.0010\n",
            "Epoch 22/1000\n",
            "3497/3497 [==============================] - 6s 2ms/step - loss: 0.6180 - accuracy: 0.6474 - val_loss: 0.6144 - val_accuracy: 0.6500 - lr: 0.0010\n",
            "Epoch 23/1000\n",
            "3497/3497 [==============================] - 6s 2ms/step - loss: 0.6177 - accuracy: 0.6477 - val_loss: 0.6148 - val_accuracy: 0.6515 - lr: 0.0010\n",
            "Epoch 24/1000\n",
            "3497/3497 [==============================] - 6s 2ms/step - loss: 0.6173 - accuracy: 0.6493 - val_loss: 0.6147 - val_accuracy: 0.6510 - lr: 0.0010\n",
            "Epoch 25/1000\n",
            "3497/3497 [==============================] - 6s 2ms/step - loss: 0.6169 - accuracy: 0.6489 - val_loss: 0.6145 - val_accuracy: 0.6497 - lr: 0.0010\n",
            "Epoch 26/1000\n",
            "3497/3497 [==============================] - 6s 2ms/step - loss: 0.6149 - accuracy: 0.6515 - val_loss: 0.6125 - val_accuracy: 0.6536 - lr: 1.0000e-04\n",
            "Epoch 27/1000\n",
            "3497/3497 [==============================] - 6s 2ms/step - loss: 0.6143 - accuracy: 0.6512 - val_loss: 0.6125 - val_accuracy: 0.6534 - lr: 1.0000e-04\n",
            "Epoch 28/1000\n",
            "3497/3497 [==============================] - 6s 2ms/step - loss: 0.6142 - accuracy: 0.6509 - val_loss: 0.6128 - val_accuracy: 0.6546 - lr: 1.0000e-04\n",
            "Epoch 29/1000\n",
            "3497/3497 [==============================] - 6s 2ms/step - loss: 0.6138 - accuracy: 0.6519 - val_loss: 0.6125 - val_accuracy: 0.6540 - lr: 1.0000e-04\n",
            "Epoch 30/1000\n",
            "3497/3497 [==============================] - 6s 2ms/step - loss: 0.6146 - accuracy: 0.6496 - val_loss: 0.6126 - val_accuracy: 0.6538 - lr: 1.0000e-04\n",
            "Epoch 31/1000\n",
            "3497/3497 [==============================] - 6s 2ms/step - loss: 0.6143 - accuracy: 0.6519 - val_loss: 0.6126 - val_accuracy: 0.6542 - lr: 1.0000e-04\n",
            "Epoch 32/1000\n",
            "3497/3497 [==============================] - 6s 2ms/step - loss: 0.6141 - accuracy: 0.6519 - val_loss: 0.6127 - val_accuracy: 0.6546 - lr: 1.0000e-04\n",
            "Epoch 33/1000\n",
            "3497/3497 [==============================] - 6s 2ms/step - loss: 0.6139 - accuracy: 0.6521 - val_loss: 0.6124 - val_accuracy: 0.6530 - lr: 1.0000e-04\n",
            "Epoch 34/1000\n",
            "3497/3497 [==============================] - 6s 2ms/step - loss: 0.6139 - accuracy: 0.6522 - val_loss: 0.6121 - val_accuracy: 0.6526 - lr: 1.0000e-04\n",
            "Epoch 35/1000\n",
            "3497/3497 [==============================] - 6s 2ms/step - loss: 0.6144 - accuracy: 0.6517 - val_loss: 0.6128 - val_accuracy: 0.6550 - lr: 1.0000e-04\n",
            "Epoch 36/1000\n",
            "3497/3497 [==============================] - 6s 2ms/step - loss: 0.6148 - accuracy: 0.6513 - val_loss: 0.6127 - val_accuracy: 0.6541 - lr: 1.0000e-04\n",
            "Epoch 37/1000\n",
            "3497/3497 [==============================] - 6s 2ms/step - loss: 0.6148 - accuracy: 0.6506 - val_loss: 0.6134 - val_accuracy: 0.6517 - lr: 1.0000e-04\n",
            "Epoch 38/1000\n",
            "3497/3497 [==============================] - 6s 2ms/step - loss: 0.6142 - accuracy: 0.6526 - val_loss: 0.6125 - val_accuracy: 0.6538 - lr: 1.0000e-04\n",
            "Epoch 39/1000\n",
            "3497/3497 [==============================] - 6s 2ms/step - loss: 0.6142 - accuracy: 0.6510 - val_loss: 0.6126 - val_accuracy: 0.6542 - lr: 1.0000e-04\n",
            "Epoch 40/1000\n",
            "3497/3497 [==============================] - 6s 2ms/step - loss: 0.6137 - accuracy: 0.6521 - val_loss: 0.6124 - val_accuracy: 0.6544 - lr: 1.0000e-04\n",
            "Epoch 41/1000\n",
            "3497/3497 [==============================] - 6s 2ms/step - loss: 0.6147 - accuracy: 0.6512 - val_loss: 0.6126 - val_accuracy: 0.6544 - lr: 1.0000e-04\n",
            "Epoch 42/1000\n",
            "3497/3497 [==============================] - 6s 2ms/step - loss: 0.6142 - accuracy: 0.6510 - val_loss: 0.6123 - val_accuracy: 0.6557 - lr: 1.0000e-04\n",
            "Epoch 43/1000\n",
            "3497/3497 [==============================] - 6s 2ms/step - loss: 0.6134 - accuracy: 0.6524 - val_loss: 0.6126 - val_accuracy: 0.6534 - lr: 1.0000e-04\n",
            "Epoch 44/1000\n",
            "3497/3497 [==============================] - 6s 2ms/step - loss: 0.6137 - accuracy: 0.6510 - val_loss: 0.6123 - val_accuracy: 0.6540 - lr: 1.0000e-04\n",
            "Epoch 45/1000\n",
            "3497/3497 [==============================] - 6s 2ms/step - loss: 0.6137 - accuracy: 0.6526 - val_loss: 0.6123 - val_accuracy: 0.6540 - lr: 1.0000e-05\n",
            "Epoch 46/1000\n",
            "3497/3497 [==============================] - 6s 2ms/step - loss: 0.6135 - accuracy: 0.6526 - val_loss: 0.6124 - val_accuracy: 0.6547 - lr: 1.0000e-05\n",
            "Epoch 47/1000\n",
            "3497/3497 [==============================] - 6s 2ms/step - loss: 0.6139 - accuracy: 0.6514 - val_loss: 0.6123 - val_accuracy: 0.6545 - lr: 1.0000e-05\n",
            "Epoch 48/1000\n",
            "3497/3497 [==============================] - 6s 2ms/step - loss: 0.6128 - accuracy: 0.6526 - val_loss: 0.6125 - val_accuracy: 0.6544 - lr: 1.0000e-05\n",
            "Epoch 49/1000\n",
            "3497/3497 [==============================] - 6s 2ms/step - loss: 0.6140 - accuracy: 0.6517 - val_loss: 0.6124 - val_accuracy: 0.6548 - lr: 1.0000e-05\n",
            "Epoch 50/1000\n",
            "3497/3497 [==============================] - 6s 2ms/step - loss: 0.6134 - accuracy: 0.6513 - val_loss: 0.6124 - val_accuracy: 0.6549 - lr: 1.0000e-05\n",
            "Epoch 51/1000\n",
            "3497/3497 [==============================] - 6s 2ms/step - loss: 0.6140 - accuracy: 0.6522 - val_loss: 0.6124 - val_accuracy: 0.6546 - lr: 1.0000e-05\n",
            "Epoch 52/1000\n",
            "3497/3497 [==============================] - 6s 2ms/step - loss: 0.6145 - accuracy: 0.6509 - val_loss: 0.6123 - val_accuracy: 0.6549 - lr: 1.0000e-05\n",
            "Epoch 53/1000\n",
            "3497/3497 [==============================] - 6s 2ms/step - loss: 0.6135 - accuracy: 0.6510 - val_loss: 0.6124 - val_accuracy: 0.6545 - lr: 1.0000e-05\n",
            "Epoch 54/1000\n",
            "3497/3497 [==============================] - 6s 2ms/step - loss: 0.6137 - accuracy: 0.6519 - val_loss: 0.6126 - val_accuracy: 0.6523 - lr: 1.0000e-05\n",
            "Epoch 55/1000\n",
            "3497/3497 [==============================] - 6s 2ms/step - loss: 0.6132 - accuracy: 0.6510 - val_loss: 0.6125 - val_accuracy: 0.6557 - lr: 1.0000e-06\n",
            "Epoch 56/1000\n",
            "3497/3497 [==============================] - 6s 2ms/step - loss: 0.6137 - accuracy: 0.6526 - val_loss: 0.6123 - val_accuracy: 0.6549 - lr: 1.0000e-06\n",
            "Epoch 57/1000\n",
            "3497/3497 [==============================] - 6s 2ms/step - loss: 0.6131 - accuracy: 0.6519 - val_loss: 0.6124 - val_accuracy: 0.6551 - lr: 1.0000e-06\n",
            "Epoch 58/1000\n",
            "3497/3497 [==============================] - 6s 2ms/step - loss: 0.6146 - accuracy: 0.6513 - val_loss: 0.6125 - val_accuracy: 0.6543 - lr: 1.0000e-06\n",
            "Epoch 59/1000\n",
            "3472/3497 [============================>.] - ETA: 0s - loss: 0.6138 - accuracy: 0.6509Restoring model weights from the end of the best epoch.\n",
            "3497/3497 [==============================] - 6s 2ms/step - loss: 0.6139 - accuracy: 0.6509 - val_loss: 0.6123 - val_accuracy: 0.6547 - lr: 1.0000e-06\n",
            "Epoch 00059: early stopping\n"
          ],
          "name": "stdout"
        }
      ]
    },
    {
      "cell_type": "code",
      "metadata": {
        "id": "_Luk9tRA1jHU",
        "colab_type": "code",
        "outputId": "3223ef85-1edd-4f51-fb29-55842a842c21",
        "colab": {
          "base_uri": "https://localhost:8080/",
          "height": 295
        }
      },
      "source": [
        "import matplotlib.pyplot as plt\n",
        "\n",
        "plt.plot(history2.history['accuracy'])\n",
        "plt.plot(history2.history['val_accuracy'])\n",
        "plt.title('Training v. Validation Accuracy')\n",
        "plt.ylabel('Accuracy')\n",
        "plt.xlabel('Epoch')\n",
        "plt.legend(['Train', 'Validation'], loc='upper left')\n",
        "plt.show()"
      ],
      "execution_count": 9,
      "outputs": [
        {
          "output_type": "display_data",
          "data": {
            "image/png": "[encoded data removed]",
            "text/plain": [
              "<Figure size 432x288 with 1 Axes>"
            ]
          },
          "metadata": {
            "tags": [],
            "needs_background": "light"
          }
        }
      ]
    },
    {
      "cell_type": "markdown",
      "metadata": {
        "id": "-ZEpYeVXA05F",
        "colab_type": "text"
      },
      "source": [
        "Surprisingly, we seem to underfit the training data which suggests that our model could get even more accurate with a bit more tuning of the hyperparameters."
      ]
    },
    {
      "cell_type": "code",
      "metadata": {
        "id": "iFSt2bSO1pDB",
        "colab_type": "code",
        "outputId": "9ee6cdbb-d29d-4ffd-cb3b-d66f98e2d9cb",
        "colab": {
          "base_uri": "https://localhost:8080/",
          "height": 295
        }
      },
      "source": [
        "plt.plot(history2.history['loss'])\n",
        "plt.plot(history2.history['val_loss'])\n",
        "plt.title('Training v. Validation Loss')\n",
        "plt.ylabel('Loss')\n",
        "plt.xlabel('Epoch')\n",
        "plt.legend(['Train', 'Validation'], loc='upper left')\n",
        "plt.show()"
      ],
      "execution_count": 10,
      "outputs": [
        {
          "output_type": "display_data",
          "data": {
            "image/png": "[encoded data removed]",
            "text/plain": [
              "<Figure size 432x288 with 1 Axes>"
            ]
          },
          "metadata": {
            "tags": [],
            "needs_background": "light"
          }
        }
      ]
    },
    {
      "cell_type": "markdown",
      "metadata": {
        "id": "K9HpnzbOMZVH",
        "colab_type": "text"
      },
      "source": [
        "This time, we see an even more gradual convergence of the training and validation losses as compared to the conference model. Now, we're ready to save and test the model.\n",
        "\n",
        "**NOTE: The next block of code will save the model to the same content folder as our dataset in the Colab runtime. If you want to keep the model, be sure to right click and download it from the Colab directory.**"
      ]
    },
    {
      "cell_type": "code",
      "metadata": {
        "id": "vKLO-XIBU6CE",
        "colab_type": "code",
        "colab": {}
      },
      "source": [
        "model.save('leagueModel.h5')"
      ],
      "execution_count": 0,
      "outputs": []
    },
    {
      "cell_type": "markdown",
      "metadata": {
        "id": "eGnq5k0vMqmn",
        "colab_type": "text"
      },
      "source": [
        "##Testing the Model\n",
        "\n",
        "In this notebook, we built a model of the NCAA football league. This model describes the aggregate predictability of the league as a whole, but we're going to use it to see if it reveals anything when applied soley to Lincoln Riley.\n",
        "\n",
        "Again, we'll use the 2019 Big XII Championship Game between Oklahoma and Baylor as our test case."
      ]
    },
    {
      "cell_type": "markdown",
      "metadata": {
        "id": "xdL7C657NDMs",
        "colab_type": "text"
      },
      "source": [
        "We'll start by reading in our test data and manipulating it for use in the model."
      ]
    },
    {
      "cell_type": "code",
      "metadata": {
        "id": "XeQHv9Oy8RHJ",
        "colab_type": "code",
        "outputId": "7a17c5fd-e064-40d3-b99a-af649f796bb6",
        "colab": {
          "base_uri": "https://localhost:8080/",
          "height": 424
        }
      },
      "source": [
        "testDF = pd.read_csv('/content/test.csv')\n",
        "XGame = testDF.iloc[:,0:8]\n",
        "yGame= testDF.iloc[:,8]\n",
        "\n",
        "XGame = XGame.replace({True:1, False:0})\n",
        "yGame = yGame.replace({'Rush':0, 'Pass':1})\n",
        "yGame = to_categorical(yGame)\n",
        "\n",
        "scaled_features = XGame.copy()\n",
        "features = scaled_features[numeric]\n",
        "features = ss.transform(features.values)\n",
        "\n",
        "scaled_features[numeric] = features\n",
        "\n",
        "XGame = scaled_features\n",
        "XGame"
      ],
      "execution_count": 12,
      "outputs": [
        {
          "output_type": "execute_result",
          "data": {
            "text/html": [
              "<div>\n",
              "<style scoped>\n",
              "    .dataframe tbody tr th:only-of-type {\n",
              "        vertical-align: middle;\n",
              "    }\n",
              "\n",
              "    .dataframe tbody tr th {\n",
              "        vertical-align: top;\n",
              "    }\n",
              "\n",
              "    .dataframe thead th {\n",
              "        text-align: right;\n",
              "    }\n",
              "</style>\n",
              "<table border=\"1\" class=\"dataframe\">\n",
              "  <thead>\n",
              "    <tr style=\"text-align: right;\">\n",
              "      <th></th>\n",
              "      <th>score_differential</th>\n",
              "      <th>oneScoreGame</th>\n",
              "      <th>period</th>\n",
              "      <th>seconds_remaining</th>\n",
              "      <th>secondsInHalf</th>\n",
              "      <th>yardsToGoal</th>\n",
              "      <th>down</th>\n",
              "      <th>distance</th>\n",
              "    </tr>\n",
              "  </thead>\n",
              "  <tbody>\n",
              "    <tr>\n",
              "      <th>0</th>\n",
              "      <td>0</td>\n",
              "      <td>True</td>\n",
              "      <td>1</td>\n",
              "      <td>3595</td>\n",
              "      <td>1795</td>\n",
              "      <td>75</td>\n",
              "      <td>1</td>\n",
              "      <td>10</td>\n",
              "    </tr>\n",
              "    <tr>\n",
              "      <th>1</th>\n",
              "      <td>0</td>\n",
              "      <td>True</td>\n",
              "      <td>1</td>\n",
              "      <td>3554</td>\n",
              "      <td>1754</td>\n",
              "      <td>72</td>\n",
              "      <td>2</td>\n",
              "      <td>7</td>\n",
              "    </tr>\n",
              "    <tr>\n",
              "      <th>2</th>\n",
              "      <td>0</td>\n",
              "      <td>True</td>\n",
              "      <td>1</td>\n",
              "      <td>3522</td>\n",
              "      <td>1722</td>\n",
              "      <td>70</td>\n",
              "      <td>3</td>\n",
              "      <td>5</td>\n",
              "    </tr>\n",
              "    <tr>\n",
              "      <th>3</th>\n",
              "      <td>0</td>\n",
              "      <td>True</td>\n",
              "      <td>1</td>\n",
              "      <td>3337</td>\n",
              "      <td>1537</td>\n",
              "      <td>78</td>\n",
              "      <td>1</td>\n",
              "      <td>10</td>\n",
              "    </tr>\n",
              "    <tr>\n",
              "      <th>4</th>\n",
              "      <td>0</td>\n",
              "      <td>True</td>\n",
              "      <td>1</td>\n",
              "      <td>3299</td>\n",
              "      <td>1499</td>\n",
              "      <td>7</td>\n",
              "      <td>1</td>\n",
              "      <td>7</td>\n",
              "    </tr>\n",
              "    <tr>\n",
              "      <th>...</th>\n",
              "      <td>...</td>\n",
              "      <td>...</td>\n",
              "      <td>...</td>\n",
              "      <td>...</td>\n",
              "      <td>...</td>\n",
              "      <td>...</td>\n",
              "      <td>...</td>\n",
              "      <td>...</td>\n",
              "    </tr>\n",
              "    <tr>\n",
              "      <th>69</th>\n",
              "      <td>0</td>\n",
              "      <td>True</td>\n",
              "      <td>4</td>\n",
              "      <td>119</td>\n",
              "      <td>119</td>\n",
              "      <td>52</td>\n",
              "      <td>2</td>\n",
              "      <td>8</td>\n",
              "    </tr>\n",
              "    <tr>\n",
              "      <th>70</th>\n",
              "      <td>0</td>\n",
              "      <td>True</td>\n",
              "      <td>4</td>\n",
              "      <td>74</td>\n",
              "      <td>74</td>\n",
              "      <td>47</td>\n",
              "      <td>3</td>\n",
              "      <td>3</td>\n",
              "    </tr>\n",
              "    <tr>\n",
              "      <th>71</th>\n",
              "      <td>0</td>\n",
              "      <td>True</td>\n",
              "      <td>5</td>\n",
              "      <td>-900</td>\n",
              "      <td>-900</td>\n",
              "      <td>23</td>\n",
              "      <td>1</td>\n",
              "      <td>10</td>\n",
              "    </tr>\n",
              "    <tr>\n",
              "      <th>72</th>\n",
              "      <td>0</td>\n",
              "      <td>True</td>\n",
              "      <td>5</td>\n",
              "      <td>-900</td>\n",
              "      <td>-900</td>\n",
              "      <td>11</td>\n",
              "      <td>1</td>\n",
              "      <td>10</td>\n",
              "    </tr>\n",
              "    <tr>\n",
              "      <th>73</th>\n",
              "      <td>7</td>\n",
              "      <td>True</td>\n",
              "      <td>5</td>\n",
              "      <td>-900</td>\n",
              "      <td>-900</td>\n",
              "      <td>5</td>\n",
              "      <td>2</td>\n",
              "      <td>4</td>\n",
              "    </tr>\n",
              "  </tbody>\n",
              "</table>\n",
              "<p>74 rows × 8 columns</p>\n",
              "</div>"
            ],
            "text/plain": [
              "    score_differential  oneScoreGame  period  ...  yardsToGoal  down  distance\n",
              "0                    0          True       1  ...           75     1        10\n",
              "1                    0          True       1  ...           72     2         7\n",
              "2                    0          True       1  ...           70     3         5\n",
              "3                    0          True       1  ...           78     1        10\n",
              "4                    0          True       1  ...            7     1         7\n",
              "..                 ...           ...     ...  ...          ...   ...       ...\n",
              "69                   0          True       4  ...           52     2         8\n",
              "70                   0          True       4  ...           47     3         3\n",
              "71                   0          True       5  ...           23     1        10\n",
              "72                   0          True       5  ...           11     1        10\n",
              "73                   7          True       5  ...            5     2         4\n",
              "\n",
              "[74 rows x 8 columns]"
            ]
          },
          "metadata": {
            "tags": []
          },
          "execution_count": 12
        }
      ]
    },
    {
      "cell_type": "markdown",
      "metadata": {
        "id": "SNMVKZWNNO2e",
        "colab_type": "text"
      },
      "source": [
        "###Evaluating Performance\n",
        "\n",
        "Let's see how well our general league model can predict Lincoln Riley's play-calling in the test dataset."
      ]
    },
    {
      "cell_type": "code",
      "metadata": {
        "colab_type": "code",
        "outputId": "2b1dbe97-e04c-4fb7-d7c4-d64bf50729c2",
        "id": "SZTrB8kI_z51",
        "colab": {
          "base_uri": "https://localhost:8080/",
          "height": 53
        }
      },
      "source": [
        "model.evaluate(XGame, yGame)"
      ],
      "execution_count": 14,
      "outputs": [
        {
          "output_type": "stream",
          "text": [
            "3/3 [==============================] - 0s 2ms/step - loss: 0.6258 - accuracy: 0.6351\n"
          ],
          "name": "stdout"
        },
        {
          "output_type": "execute_result",
          "data": {
            "text/plain": [
              "[0.625827968120575, 0.6351351141929626]"
            ]
          },
          "metadata": {
            "tags": []
          },
          "execution_count": 14
        }
      ]
    },
    {
      "cell_type": "markdown",
      "metadata": {
        "id": "7H8v8AANNc_m",
        "colab_type": "text"
      },
      "source": [
        "We observe here a 63.5% accuracy when applying the league model to Lincoln Riley - similar to the performance of the coaching model. This further suggests that Lincoln Riley conforms, at least to a meaningful degree, to the behavior of all coaches in the leage.\n",
        "\n",
        "Let's take a look at the classification report."
      ]
    },
    {
      "cell_type": "code",
      "metadata": {
        "id": "C2ZuI8twA2VA",
        "colab_type": "code",
        "outputId": "11900945-3fc2-46d1-9e95-9e7197b5456f",
        "colab": {
          "base_uri": "https://localhost:8080/",
          "height": 181
        }
      },
      "source": [
        "from sklearn.metrics import classification_report\n",
        "\n",
        "Y_test = np.argmax(yGame, axis=1) # Convert one-hot to index\n",
        "y_pred = np.argmax(model.predict(XGame), axis=1)\n",
        "print(classification_report(Y_test, y_pred, target_names=['Rush', 'Pass'], digits=5))"
      ],
      "execution_count": 15,
      "outputs": [
        {
          "output_type": "stream",
          "text": [
            "              precision    recall  f1-score   support\n",
            "\n",
            "        Rush    0.70000   0.74468   0.72165        47\n",
            "        Pass    0.50000   0.44444   0.47059        27\n",
            "\n",
            "    accuracy                        0.63514        74\n",
            "   macro avg    0.60000   0.59456   0.59612        74\n",
            "weighted avg    0.62703   0.63514   0.63005        74\n",
            "\n"
          ],
          "name": "stdout"
        }
      ]
    },
    {
      "cell_type": "markdown",
      "metadata": {
        "id": "qTlO1z9ZN7Ti",
        "colab_type": "text"
      },
      "source": [
        "This is the same story as usual. It seems we really struggle in predicting more passes."
      ]
    },
    {
      "cell_type": "markdown",
      "metadata": {
        "id": "_66piBitOAx2",
        "colab_type": "text"
      },
      "source": [
        "##Conclusion\n",
        "\n",
        "This is the final part of a three part series to explore the predictability of Lincoln Riley, the head coach of the Oklahoma Sooners.\n",
        "\n",
        "Ultimately, we found that we could accurately predict about 63% of his plays in a game, using the 2019 Big XII Championship Game as a single test case. In the application we will build with these models, we can use an ensemble that uses representations learned from each of our three models to create a prediction. Since each model was built a significantly different architecture, this could boost our performance on the test data."
      ]
    }
  ]
}